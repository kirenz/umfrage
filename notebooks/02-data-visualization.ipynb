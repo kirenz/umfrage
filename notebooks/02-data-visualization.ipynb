{
 "cells": [
  {
   "cell_type": "markdown",
   "metadata": {
    "slideshow": {
     "slide_type": "slide"
    }
   },
   "source": [
    "# Umfrage Teil II\n",
    "\n",
    "Analyse"
   ]
  },
  {
   "cell_type": "markdown",
   "metadata": {
    "slideshow": {
     "slide_type": "slide"
    }
   },
   "source": [
    "## Daten importieren"
   ]
  },
  {
   "cell_type": "code",
   "execution_count": 1,
   "metadata": {},
   "outputs": [],
   "source": [
    "from pathlib import Path\n",
    "\n",
    "PARENT_PATH = str(Path().resolve().parent) + \"/\"\n",
    "PATH = \"data/\"\n",
    "SUBPATH = \"processed/\"\n",
    "FILE = \"umfrage-20220917-1146\"\n",
    "FORMAT = \".csv\""
   ]
  },
  {
   "cell_type": "code",
   "execution_count": 2,
   "metadata": {
    "slideshow": {
     "slide_type": "fragment"
    }
   },
   "outputs": [],
   "source": [
    "import pandas as pd\n",
    "\n",
    "df = pd.read_csv(PARENT_PATH + PATH + SUBPATH + FILE + FORMAT)"
   ]
  },
  {
   "cell_type": "markdown",
   "metadata": {},
   "source": [
    "## Datenüberblick"
   ]
  },
  {
   "cell_type": "code",
   "execution_count": 3,
   "metadata": {},
   "outputs": [
    {
     "data": {
      "text/html": [
       "<div>\n",
       "<style scoped>\n",
       "    .dataframe tbody tr th:only-of-type {\n",
       "        vertical-align: middle;\n",
       "    }\n",
       "\n",
       "    .dataframe tbody tr th {\n",
       "        vertical-align: top;\n",
       "    }\n",
       "\n",
       "    .dataframe thead th {\n",
       "        text-align: right;\n",
       "    }\n",
       "</style>\n",
       "<table border=\"1\" class=\"dataframe\">\n",
       "  <thead>\n",
       "    <tr style=\"text-align: right;\">\n",
       "      <th></th>\n",
       "      <th>Unnamed: 0</th>\n",
       "      <th>zeit</th>\n",
       "      <th>sport</th>\n",
       "      <th>fleissig</th>\n",
       "      <th>entmutigen</th>\n",
       "      <th>talente</th>\n",
       "      <th>einkommen</th>\n",
       "      <th>energie</th>\n",
       "      <th>megacity</th>\n",
       "      <th>geleebohnen</th>\n",
       "      <th>...</th>\n",
       "      <th>studium</th>\n",
       "      <th>buch</th>\n",
       "      <th>alter</th>\n",
       "      <th>geschlecht</th>\n",
       "      <th>entmutigen_orig</th>\n",
       "      <th>energie_orig</th>\n",
       "      <th>sport_qm</th>\n",
       "      <th>fleissig_qm</th>\n",
       "      <th>talente_qm</th>\n",
       "      <th>entmutigen_qm</th>\n",
       "    </tr>\n",
       "  </thead>\n",
       "  <tbody>\n",
       "    <tr>\n",
       "      <th>0</th>\n",
       "      <td>0</td>\n",
       "      <td>2022/09/14 8:21:58 PM OEZ</td>\n",
       "      <td>teils teils</td>\n",
       "      <td>trifft eher zu</td>\n",
       "      <td>trifft eher zu</td>\n",
       "      <td>trifft überhaupt nicht zu</td>\n",
       "      <td>9</td>\n",
       "      <td>100</td>\n",
       "      <td>4</td>\n",
       "      <td>3000</td>\n",
       "      <td>...</td>\n",
       "      <td>34</td>\n",
       "      <td>Ja</td>\n",
       "      <td>22</td>\n",
       "      <td>Männlich</td>\n",
       "      <td>4</td>\n",
       "      <td>ca. 100%</td>\n",
       "      <td>3</td>\n",
       "      <td>4</td>\n",
       "      <td>1</td>\n",
       "      <td>4</td>\n",
       "    </tr>\n",
       "    <tr>\n",
       "      <th>1</th>\n",
       "      <td>1</td>\n",
       "      <td>2022/09/14 8:21:58 PM OEZ</td>\n",
       "      <td>teils teils</td>\n",
       "      <td>trifft eher zu</td>\n",
       "      <td>trifft eher zu</td>\n",
       "      <td>trifft überhaupt nicht zu</td>\n",
       "      <td>9</td>\n",
       "      <td>100</td>\n",
       "      <td>4</td>\n",
       "      <td>3000</td>\n",
       "      <td>...</td>\n",
       "      <td>34</td>\n",
       "      <td>Ja</td>\n",
       "      <td>22</td>\n",
       "      <td>Männlich</td>\n",
       "      <td>4</td>\n",
       "      <td>ca. 100%</td>\n",
       "      <td>3</td>\n",
       "      <td>4</td>\n",
       "      <td>1</td>\n",
       "      <td>4</td>\n",
       "    </tr>\n",
       "    <tr>\n",
       "      <th>2</th>\n",
       "      <td>2</td>\n",
       "      <td>2022/09/14 8:21:58 PM OEZ</td>\n",
       "      <td>teils teils</td>\n",
       "      <td>trifft eher zu</td>\n",
       "      <td>trifft eher zu</td>\n",
       "      <td>trifft überhaupt nicht zu</td>\n",
       "      <td>9</td>\n",
       "      <td>100</td>\n",
       "      <td>4</td>\n",
       "      <td>3000</td>\n",
       "      <td>...</td>\n",
       "      <td>34</td>\n",
       "      <td>Ja</td>\n",
       "      <td>22</td>\n",
       "      <td>Männlich</td>\n",
       "      <td>4</td>\n",
       "      <td>ca. 100%</td>\n",
       "      <td>3</td>\n",
       "      <td>4</td>\n",
       "      <td>1</td>\n",
       "      <td>4</td>\n",
       "    </tr>\n",
       "    <tr>\n",
       "      <th>3</th>\n",
       "      <td>3</td>\n",
       "      <td>2022/09/14 8:21:58 PM OEZ</td>\n",
       "      <td>teils teils</td>\n",
       "      <td>trifft eher zu</td>\n",
       "      <td>trifft eher zu</td>\n",
       "      <td>trifft überhaupt nicht zu</td>\n",
       "      <td>9</td>\n",
       "      <td>100</td>\n",
       "      <td>4</td>\n",
       "      <td>3000</td>\n",
       "      <td>...</td>\n",
       "      <td>34</td>\n",
       "      <td>Ja</td>\n",
       "      <td>22</td>\n",
       "      <td>Männlich</td>\n",
       "      <td>4</td>\n",
       "      <td>ca. 100%</td>\n",
       "      <td>3</td>\n",
       "      <td>4</td>\n",
       "      <td>1</td>\n",
       "      <td>4</td>\n",
       "    </tr>\n",
       "    <tr>\n",
       "      <th>4</th>\n",
       "      <td>4</td>\n",
       "      <td>2022/09/14 8:21:58 PM OEZ</td>\n",
       "      <td>teils teils</td>\n",
       "      <td>trifft eher zu</td>\n",
       "      <td>trifft eher zu</td>\n",
       "      <td>trifft überhaupt nicht zu</td>\n",
       "      <td>9</td>\n",
       "      <td>100</td>\n",
       "      <td>4</td>\n",
       "      <td>3000</td>\n",
       "      <td>...</td>\n",
       "      <td>34</td>\n",
       "      <td>Ja</td>\n",
       "      <td>22</td>\n",
       "      <td>Männlich</td>\n",
       "      <td>4</td>\n",
       "      <td>ca. 100%</td>\n",
       "      <td>3</td>\n",
       "      <td>4</td>\n",
       "      <td>1</td>\n",
       "      <td>4</td>\n",
       "    </tr>\n",
       "  </tbody>\n",
       "</table>\n",
       "<p>5 rows × 21 columns</p>\n",
       "</div>"
      ],
      "text/plain": [
       "   Unnamed: 0                       zeit        sport        fleissig  \\\n",
       "0           0  2022/09/14 8:21:58 PM OEZ  teils teils  trifft eher zu   \n",
       "1           1  2022/09/14 8:21:58 PM OEZ  teils teils  trifft eher zu   \n",
       "2           2  2022/09/14 8:21:58 PM OEZ  teils teils  trifft eher zu   \n",
       "3           3  2022/09/14 8:21:58 PM OEZ  teils teils  trifft eher zu   \n",
       "4           4  2022/09/14 8:21:58 PM OEZ  teils teils  trifft eher zu   \n",
       "\n",
       "       entmutigen                    talente  einkommen  energie  megacity  \\\n",
       "0  trifft eher zu  trifft überhaupt nicht zu          9      100         4   \n",
       "1  trifft eher zu  trifft überhaupt nicht zu          9      100         4   \n",
       "2  trifft eher zu  trifft überhaupt nicht zu          9      100         4   \n",
       "3  trifft eher zu  trifft überhaupt nicht zu          9      100         4   \n",
       "4  trifft eher zu  trifft überhaupt nicht zu          9      100         4   \n",
       "\n",
       "   geleebohnen  ...  studium  buch alter  geschlecht entmutigen_orig  \\\n",
       "0         3000  ...       34    Ja    22    Männlich               4   \n",
       "1         3000  ...       34    Ja    22    Männlich               4   \n",
       "2         3000  ...       34    Ja    22    Männlich               4   \n",
       "3         3000  ...       34    Ja    22    Männlich               4   \n",
       "4         3000  ...       34    Ja    22    Männlich               4   \n",
       "\n",
       "   energie_orig sport_qm  fleissig_qm  talente_qm  entmutigen_qm  \n",
       "0      ca. 100%        3            4           1              4  \n",
       "1      ca. 100%        3            4           1              4  \n",
       "2      ca. 100%        3            4           1              4  \n",
       "3      ca. 100%        3            4           1              4  \n",
       "4      ca. 100%        3            4           1              4  \n",
       "\n",
       "[5 rows x 21 columns]"
      ]
     },
     "execution_count": 3,
     "metadata": {},
     "output_type": "execute_result"
    }
   ],
   "source": [
    "df"
   ]
  },
  {
   "cell_type": "code",
   "execution_count": 4,
   "metadata": {},
   "outputs": [
    {
     "data": {
      "text/plain": [
       "Unnamed: 0          int64\n",
       "zeit               object\n",
       "sport              object\n",
       "fleissig           object\n",
       "entmutigen         object\n",
       "talente            object\n",
       "einkommen           int64\n",
       "energie             int64\n",
       "megacity            int64\n",
       "geleebohnen         int64\n",
       "soziale_medien      int64\n",
       "studium             int64\n",
       "buch               object\n",
       "alter               int64\n",
       "geschlecht         object\n",
       "entmutigen_orig     int64\n",
       "energie_orig       object\n",
       "sport_qm            int64\n",
       "fleissig_qm         int64\n",
       "talente_qm          int64\n",
       "entmutigen_qm       int64\n",
       "dtype: object"
      ]
     },
     "execution_count": 4,
     "metadata": {},
     "output_type": "execute_result"
    }
   ],
   "source": [
    "df.dtypes"
   ]
  },
  {
   "cell_type": "code",
   "execution_count": 5,
   "metadata": {},
   "outputs": [
    {
     "name": "stdout",
     "output_type": "stream",
     "text": [
      "<class 'pandas.core.frame.DataFrame'>\n",
      "RangeIndex: 5 entries, 0 to 4\n",
      "Data columns (total 21 columns):\n",
      " #   Column           Non-Null Count  Dtype \n",
      "---  ------           --------------  ----- \n",
      " 0   Unnamed: 0       5 non-null      int64 \n",
      " 1   zeit             5 non-null      object\n",
      " 2   sport            5 non-null      object\n",
      " 3   fleissig         5 non-null      object\n",
      " 4   entmutigen       5 non-null      object\n",
      " 5   talente          5 non-null      object\n",
      " 6   einkommen        5 non-null      int64 \n",
      " 7   energie          5 non-null      int64 \n",
      " 8   megacity         5 non-null      int64 \n",
      " 9   geleebohnen      5 non-null      int64 \n",
      " 10  soziale_medien   5 non-null      int64 \n",
      " 11  studium          5 non-null      int64 \n",
      " 12  buch             5 non-null      object\n",
      " 13  alter            5 non-null      int64 \n",
      " 14  geschlecht       5 non-null      object\n",
      " 15  entmutigen_orig  5 non-null      int64 \n",
      " 16  energie_orig     5 non-null      object\n",
      " 17  sport_qm         5 non-null      int64 \n",
      " 18  fleissig_qm      5 non-null      int64 \n",
      " 19  talente_qm       5 non-null      int64 \n",
      " 20  entmutigen_qm    5 non-null      int64 \n",
      "dtypes: int64(13), object(8)\n",
      "memory usage: 968.0+ bytes\n"
     ]
    }
   ],
   "source": [
    "df.info()"
   ]
  },
  {
   "cell_type": "markdown",
   "metadata": {},
   "source": [
    "## Daten anpassen"
   ]
  },
  {
   "cell_type": "markdown",
   "metadata": {},
   "source": [
    "### Variablen anpassen"
   ]
  },
  {
   "cell_type": "markdown",
   "metadata": {},
   "source": [
    "#### Nominale Variablen"
   ]
  },
  {
   "cell_type": "code",
   "execution_count": 21,
   "metadata": {},
   "outputs": [],
   "source": [
    "# Liste mit nominalen Variablen erstellen\n",
    "list_nominal = [\"buch\", \"geschlecht\"]"
   ]
  },
  {
   "cell_type": "code",
   "execution_count": 22,
   "metadata": {},
   "outputs": [],
   "source": [
    "# Nominale Variablen als kategorial formatieren (category)\n",
    "for i in list_nominal:\n",
    "    df[i] = df[i].astype(\"category\")"
   ]
  },
  {
   "cell_type": "code",
   "execution_count": 23,
   "metadata": {},
   "outputs": [
    {
     "name": "stdout",
     "output_type": "stream",
     "text": [
      "<class 'pandas.core.frame.DataFrame'>\n",
      "RangeIndex: 5 entries, 0 to 4\n",
      "Data columns (total 2 columns):\n",
      " #   Column      Non-Null Count  Dtype   \n",
      "---  ------      --------------  -----   \n",
      " 0   buch        5 non-null      category\n",
      " 1   geschlecht  5 non-null      category\n",
      "dtypes: category(2)\n",
      "memory usage: 370.0 bytes\n"
     ]
    }
   ],
   "source": [
    "# Nominale Variablen anzeigen lassen\n",
    "df[list_nominal].info()"
   ]
  },
  {
   "cell_type": "markdown",
   "metadata": {},
   "source": [
    "#### Ordinale Variablen"
   ]
  },
  {
   "cell_type": "code",
   "execution_count": 25,
   "metadata": {},
   "outputs": [],
   "source": [
    "likert =[\"trifft überhaupt nicht zu\",\n",
    "         \"trifft eher nicht zu\",\n",
    "         \"teils teils\",\n",
    "         \"trifft eher zu\",\n",
    "         \"trifft völlig zu\"]\n",
    "\n",
    "list_ordinal = [\"sport\", \"fleissig\", \"talente\", \"entmutigen\"]"
   ]
  },
  {
   "cell_type": "code",
   "execution_count": 26,
   "metadata": {},
   "outputs": [],
   "source": [
    "from pandas.api.types import CategoricalDtype\n",
    "\n",
    "cat_type= CategoricalDtype(categories=likert, ordered=True)\n",
    "\n",
    "df[list_ordinal] = df[list_ordinal].astype(cat_type)"
   ]
  },
  {
   "cell_type": "markdown",
   "metadata": {},
   "source": [
    "### Numerische Variablen"
   ]
  },
  {
   "cell_type": "code",
   "execution_count": 27,
   "metadata": {},
   "outputs": [],
   "source": [
    "list_num = ['einkommen', 'energie', 'megacity', 'geleebohnen', \n",
    "            'soziale_medien', 'studium', 'alter']"
   ]
  },
  {
   "cell_type": "code",
   "execution_count": 14,
   "metadata": {},
   "outputs": [
    {
     "name": "stdout",
     "output_type": "stream",
     "text": [
      "<class 'pandas.core.frame.DataFrame'>\n",
      "RangeIndex: 5 entries, 0 to 4\n",
      "Data columns (total 7 columns):\n",
      " #   Column          Non-Null Count  Dtype\n",
      "---  ------          --------------  -----\n",
      " 0   einkommen       5 non-null      int64\n",
      " 1   energie         5 non-null      int64\n",
      " 2   megacity        5 non-null      int64\n",
      " 3   geleebohnen     5 non-null      int64\n",
      " 4   soziale_medien  5 non-null      int64\n",
      " 5   studium         5 non-null      int64\n",
      " 6   alter           5 non-null      int64\n",
      "dtypes: int64(7)\n",
      "memory usage: 408.0 bytes\n"
     ]
    }
   ],
   "source": [
    "df[num_list].info()"
   ]
  },
  {
   "cell_type": "markdown",
   "metadata": {},
   "source": [
    "### Quasi-metrische Variablen"
   ]
  },
  {
   "cell_type": "code",
   "execution_count": 16,
   "metadata": {},
   "outputs": [
    {
     "data": {
      "text/plain": [
       "['sport_qm', 'fleissig_qm', 'talente_qm', 'entmutigen_qm']"
      ]
     },
     "execution_count": 16,
     "metadata": {},
     "output_type": "execute_result"
    }
   ],
   "source": [
    "# Erstellung der Liste mit Hilfe von filter und regular expressions\n",
    "qm_list = df.filter(regex='_qm').columns.to_list()\n",
    "\n",
    "qm_list"
   ]
  },
  {
   "cell_type": "code",
   "execution_count": 17,
   "metadata": {},
   "outputs": [
    {
     "name": "stdout",
     "output_type": "stream",
     "text": [
      "<class 'pandas.core.frame.DataFrame'>\n",
      "RangeIndex: 5 entries, 0 to 4\n",
      "Data columns (total 4 columns):\n",
      " #   Column         Non-Null Count  Dtype\n",
      "---  ------         --------------  -----\n",
      " 0   sport_qm       5 non-null      int64\n",
      " 1   fleissig_qm    5 non-null      int64\n",
      " 2   talente_qm     5 non-null      int64\n",
      " 3   entmutigen_qm  5 non-null      int64\n",
      "dtypes: int64(4)\n",
      "memory usage: 288.0 bytes\n"
     ]
    }
   ],
   "source": [
    "df[qm_list].info()"
   ]
  },
  {
   "cell_type": "markdown",
   "metadata": {},
   "source": [
    "## Analyse"
   ]
  },
  {
   "cell_type": "markdown",
   "metadata": {},
   "source": [
    "### Kategoriale daten"
   ]
  },
  {
   "cell_type": "code",
   "execution_count": 20,
   "metadata": {},
   "outputs": [
    {
     "ename": "NameError",
     "evalue": "name 'list_nominal' is not defined",
     "output_type": "error",
     "traceback": [
      "\u001b[0;31m---------------------------------------------------------------------------\u001b[0m",
      "\u001b[0;31mNameError\u001b[0m                                 Traceback (most recent call last)",
      "Cell \u001b[0;32mIn [20], line 1\u001b[0m\n\u001b[0;32m----> 1\u001b[0m df[\u001b[43mlist_nominal\u001b[49m]\u001b[38;5;241m.\u001b[39mdescribe()\u001b[38;5;241m.\u001b[39mT\n",
      "\u001b[0;31mNameError\u001b[0m: name 'list_nominal' is not defined"
     ]
    }
   ],
   "source": [
    "df[list_nominal].describe().T"
   ]
  },
  {
   "cell_type": "code",
   "execution_count": null,
   "metadata": {},
   "outputs": [],
   "source": [
    "for i in list_cat:\n",
    "    print(i, \"\\n\", df_train[i].value_counts())"
   ]
  }
 ],
 "metadata": {
  "celltoolbar": "Slideshow",
  "kernelspec": {
   "display_name": "Python 3.9.13 ('ds')",
   "language": "python",
   "name": "python3"
  },
  "language_info": {
   "codemirror_mode": {
    "name": "ipython",
    "version": 3
   },
   "file_extension": ".py",
   "mimetype": "text/x-python",
   "name": "python",
   "nbconvert_exporter": "python",
   "pygments_lexer": "ipython3",
   "version": "3.9.13"
  },
  "varInspector": {
   "cols": {
    "lenName": 16,
    "lenType": 16,
    "lenVar": 40
   },
   "kernels_config": {
    "python": {
     "delete_cmd_postfix": "",
     "delete_cmd_prefix": "del ",
     "library": "var_list.py",
     "varRefreshCmd": "print(var_dic_list())"
    },
    "r": {
     "delete_cmd_postfix": ") ",
     "delete_cmd_prefix": "rm(",
     "library": "var_list.r",
     "varRefreshCmd": "cat(var_dic_list()) "
    }
   },
   "types_to_exclude": [
    "module",
    "function",
    "builtin_function_or_method",
    "instance",
    "_Feature"
   ],
   "window_display": false
  },
  "vscode": {
   "interpreter": {
    "hash": "0de8387c967863cc622aba8b7ea5b466d4dfde089153d484429677aa77034389"
   }
  }
 },
 "nbformat": 4,
 "nbformat_minor": 2
}
