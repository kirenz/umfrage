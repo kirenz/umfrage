{
 "cells": [
  {
   "cell_type": "markdown",
   "metadata": {
    "slideshow": {
     "slide_type": "slide"
    }
   },
   "source": [
    "# Umfrage Teil I\n",
    "\n",
    "Datenvorbereitung"
   ]
  },
  {
   "cell_type": "markdown",
   "metadata": {
    "slideshow": {
     "slide_type": "slide"
    }
   },
   "source": [
    "## Daten importieren"
   ]
  },
  {
   "cell_type": "code",
   "execution_count": 45,
   "metadata": {
    "slideshow": {
     "slide_type": "subslide"
    }
   },
   "outputs": [],
   "source": [
    "from pathlib import Path\n",
    "\n",
    "PARENT_PATH = str(Path().resolve().parent) + \"/\"\n",
    "PATH = \"data/\"\n",
    "SUBPATH = \"raw/\"\n",
    "FILE = \"Fragebogen\"\n",
    "FORMAT = \".csv\""
   ]
  },
  {
   "cell_type": "code",
   "execution_count": 46,
   "metadata": {
    "slideshow": {
     "slide_type": "fragment"
    }
   },
   "outputs": [],
   "source": [
    "import pandas as pd\n",
    "\n",
    "df = pd.read_csv(PARENT_PATH + PATH + SUBPATH + FILE + FORMAT)"
   ]
  },
  {
   "cell_type": "markdown",
   "metadata": {
    "slideshow": {
     "slide_type": "slide"
    }
   },
   "source": [
    "## Datenüberblick"
   ]
  },
  {
   "cell_type": "code",
   "execution_count": 47,
   "metadata": {
    "slideshow": {
     "slide_type": "fragment"
    }
   },
   "outputs": [
    {
     "data": {
      "text/html": [
       "<div>\n",
       "<style scoped>\n",
       "    .dataframe tbody tr th:only-of-type {\n",
       "        vertical-align: middle;\n",
       "    }\n",
       "\n",
       "    .dataframe tbody tr th {\n",
       "        vertical-align: top;\n",
       "    }\n",
       "\n",
       "    .dataframe thead th {\n",
       "        text-align: right;\n",
       "    }\n",
       "</style>\n",
       "<table border=\"1\" class=\"dataframe\">\n",
       "  <thead>\n",
       "    <tr style=\"text-align: right;\">\n",
       "      <th></th>\n",
       "      <th>Zeitstempel</th>\n",
       "      <th>Ich bin sportlich</th>\n",
       "      <th>Ich bin fleißig.</th>\n",
       "      <th>Von Rückschlägen lasse ich mich nicht entmutigen.</th>\n",
       "      <th>Meine Fähigkeiten und Talente sind vorgegeben und ich kann daran nicht viel ändern.</th>\n",
       "      <th>1990 lebten 58 % der Weltbevölkerung in Ländern mit niedrigem Einkommen. Wie hoch ist der Anteil heute? Geben Sie eine Zahl ein (z. B. 9, 37 oder 61)</th>\n",
       "      <th>Wie viel der weltweit verbrauchten Energie stammt aus Erdgas, Kohle und Öl?</th>\n",
       "      <th>Welcher Anteil der Weltbevölkerung lebt in Megacitys (Städte mit mindestens 10 Millionen Einwohnern)?</th>\n",
       "      <th>Wie viele Geleebohnen befinden sich in diesem sechseckigen Glas?</th>\n",
       "      <th>Wie viele Minuten verbringen Sie an einem typischen Tag in sozialen Medien (Facebook, Instagram, Snapchat, etc.)?</th>\n",
       "      <th>Wie viele Minuten investieren Sie ca. pro Tag in Ihr Studium (abgesehen von Lehrveranstaltungen)?</th>\n",
       "      <th>Lesen Sie zur Zeit ein Buch?</th>\n",
       "      <th>Wie alt sind Sie?</th>\n",
       "      <th>Sie sind ...</th>\n",
       "    </tr>\n",
       "  </thead>\n",
       "  <tbody>\n",
       "    <tr>\n",
       "      <th>0</th>\n",
       "      <td>2022/09/14 8:21:58 PM OEZ</td>\n",
       "      <td>teils teils</td>\n",
       "      <td>trifft eher zu</td>\n",
       "      <td>4</td>\n",
       "      <td>trifft überhaupt nicht zu</td>\n",
       "      <td>9</td>\n",
       "      <td>ca. 42%</td>\n",
       "      <td>4</td>\n",
       "      <td>3000</td>\n",
       "      <td>34</td>\n",
       "      <td>34</td>\n",
       "      <td>Ja</td>\n",
       "      <td>22</td>\n",
       "      <td>Männlich</td>\n",
       "    </tr>\n",
       "    <tr>\n",
       "      <th>1</th>\n",
       "      <td>2022/09/17 6:10:24 PM OEZ</td>\n",
       "      <td>trifft eher nicht zu</td>\n",
       "      <td>trifft eher nicht zu</td>\n",
       "      <td>2</td>\n",
       "      <td>trifft eher zu</td>\n",
       "      <td>45</td>\n",
       "      <td>ca. 62%</td>\n",
       "      <td>3</td>\n",
       "      <td>400</td>\n",
       "      <td>34</td>\n",
       "      <td>2</td>\n",
       "      <td>Nein</td>\n",
       "      <td>34</td>\n",
       "      <td>Weiblich</td>\n",
       "    </tr>\n",
       "    <tr>\n",
       "      <th>2</th>\n",
       "      <td>2022/09/17 6:11:20 PM OEZ</td>\n",
       "      <td>teils teils</td>\n",
       "      <td>trifft eher nicht zu</td>\n",
       "      <td>3</td>\n",
       "      <td>trifft eher zu</td>\n",
       "      <td>34</td>\n",
       "      <td>ca. 82%</td>\n",
       "      <td>5</td>\n",
       "      <td>4000</td>\n",
       "      <td>23</td>\n",
       "      <td>12</td>\n",
       "      <td>Ja</td>\n",
       "      <td>12</td>\n",
       "      <td>Männlich</td>\n",
       "    </tr>\n",
       "  </tbody>\n",
       "</table>\n",
       "</div>"
      ],
      "text/plain": [
       "                 Zeitstempel     Ich bin sportlich      Ich bin fleißig.  \\\n",
       "0  2022/09/14 8:21:58 PM OEZ           teils teils        trifft eher zu   \n",
       "1  2022/09/17 6:10:24 PM OEZ  trifft eher nicht zu  trifft eher nicht zu   \n",
       "2  2022/09/17 6:11:20 PM OEZ           teils teils  trifft eher nicht zu   \n",
       "\n",
       "   Von Rückschlägen lasse ich mich nicht entmutigen.  \\\n",
       "0                                                  4   \n",
       "1                                                  2   \n",
       "2                                                  3   \n",
       "\n",
       "  Meine Fähigkeiten und Talente sind vorgegeben und ich kann daran nicht viel ändern.  \\\n",
       "0                          trifft überhaupt nicht zu                                    \n",
       "1                                     trifft eher zu                                    \n",
       "2                                     trifft eher zu                                    \n",
       "\n",
       "   1990 lebten 58 % der Weltbevölkerung in Ländern mit niedrigem Einkommen. Wie hoch ist der Anteil heute? Geben Sie eine Zahl ein (z. B. 9, 37 oder 61)  \\\n",
       "0                                                  9                                                                                                       \n",
       "1                                                 45                                                                                                       \n",
       "2                                                 34                                                                                                       \n",
       "\n",
       "  Wie viel der weltweit verbrauchten Energie stammt aus Erdgas, Kohle und Öl?  \\\n",
       "0                                            ca. 42%                            \n",
       "1                                            ca. 62%                            \n",
       "2                                            ca. 82%                            \n",
       "\n",
       "   Welcher Anteil der Weltbevölkerung lebt in Megacitys (Städte mit mindestens 10 Millionen Einwohnern)?  \\\n",
       "0                                                  4                                                       \n",
       "1                                                  3                                                       \n",
       "2                                                  5                                                       \n",
       "\n",
       "   Wie viele Geleebohnen befinden sich in diesem sechseckigen Glas?  \\\n",
       "0                                               3000                  \n",
       "1                                                400                  \n",
       "2                                               4000                  \n",
       "\n",
       "   Wie viele Minuten verbringen Sie an einem typischen Tag in sozialen Medien (Facebook, Instagram, Snapchat, etc.)?  \\\n",
       "0                                                 34                                                                   \n",
       "1                                                 34                                                                   \n",
       "2                                                 23                                                                   \n",
       "\n",
       "   Wie viele Minuten investieren Sie ca. pro Tag in Ihr Studium (abgesehen von Lehrveranstaltungen)?  \\\n",
       "0                                                 34                                                   \n",
       "1                                                  2                                                   \n",
       "2                                                 12                                                   \n",
       "\n",
       "  Lesen Sie zur Zeit ein Buch?  Wie alt sind Sie? Sie sind ...  \n",
       "0                           Ja                 22     Männlich  \n",
       "1                         Nein                 34     Weiblich  \n",
       "2                           Ja                 12     Männlich  "
      ]
     },
     "execution_count": 47,
     "metadata": {},
     "output_type": "execute_result"
    }
   ],
   "source": [
    "df"
   ]
  },
  {
   "cell_type": "code",
   "execution_count": 48,
   "metadata": {
    "slideshow": {
     "slide_type": "subslide"
    }
   },
   "outputs": [
    {
     "data": {
      "text/plain": [
       "Zeitstempel                                                                                                                                              object\n",
       "Ich bin sportlich                                                                                                                                        object\n",
       "Ich bin fleißig.                                                                                                                                         object\n",
       "Von Rückschlägen lasse ich mich nicht entmutigen.                                                                                                         int64\n",
       "Meine Fähigkeiten und Talente sind vorgegeben und ich kann daran nicht viel ändern.                                                                      object\n",
       "1990 lebten 58 % der Weltbevölkerung in Ländern mit niedrigem Einkommen. Wie hoch ist der Anteil heute? Geben Sie eine Zahl ein (z. B. 9, 37 oder 61)     int64\n",
       "Wie viel der weltweit verbrauchten Energie stammt aus Erdgas, Kohle und Öl?                                                                              object\n",
       "Welcher Anteil der Weltbevölkerung lebt in Megacitys (Städte mit mindestens 10 Millionen Einwohnern)?                                                     int64\n",
       "Wie viele Geleebohnen befinden sich in diesem sechseckigen Glas?                                                                                          int64\n",
       "Wie viele Minuten verbringen Sie an einem typischen Tag in sozialen Medien (Facebook, Instagram, Snapchat, etc.)?                                         int64\n",
       "Wie viele Minuten investieren Sie ca. pro Tag in Ihr Studium (abgesehen von Lehrveranstaltungen)?                                                         int64\n",
       "Lesen Sie zur Zeit ein Buch?                                                                                                                             object\n",
       "Wie alt sind Sie?                                                                                                                                         int64\n",
       "Sie sind ...                                                                                                                                             object\n",
       "dtype: object"
      ]
     },
     "execution_count": 48,
     "metadata": {},
     "output_type": "execute_result"
    }
   ],
   "source": [
    "df.dtypes"
   ]
  },
  {
   "cell_type": "code",
   "execution_count": 49,
   "metadata": {
    "slideshow": {
     "slide_type": "subslide"
    }
   },
   "outputs": [
    {
     "name": "stdout",
     "output_type": "stream",
     "text": [
      "<class 'pandas.core.frame.DataFrame'>\n",
      "RangeIndex: 3 entries, 0 to 2\n",
      "Data columns (total 14 columns):\n",
      " #   Column                                                                                                                                                 Non-Null Count  Dtype \n",
      "---  ------                                                                                                                                                 --------------  ----- \n",
      " 0   Zeitstempel                                                                                                                                            3 non-null      object\n",
      " 1   Ich bin sportlich                                                                                                                                      3 non-null      object\n",
      " 2   Ich bin fleißig.                                                                                                                                       3 non-null      object\n",
      " 3   Von Rückschlägen lasse ich mich nicht entmutigen.                                                                                                      3 non-null      int64 \n",
      " 4   Meine Fähigkeiten und Talente sind vorgegeben und ich kann daran nicht viel ändern.                                                                    3 non-null      object\n",
      " 5   1990 lebten 58 % der Weltbevölkerung in Ländern mit niedrigem Einkommen. Wie hoch ist der Anteil heute? Geben Sie eine Zahl ein (z. B. 9, 37 oder 61)  3 non-null      int64 \n",
      " 6   Wie viel der weltweit verbrauchten Energie stammt aus Erdgas, Kohle und Öl?                                                                            3 non-null      object\n",
      " 7   Welcher Anteil der Weltbevölkerung lebt in Megacitys (Städte mit mindestens 10 Millionen Einwohnern)?                                                  3 non-null      int64 \n",
      " 8   Wie viele Geleebohnen befinden sich in diesem sechseckigen Glas?                                                                                       3 non-null      int64 \n",
      " 9   Wie viele Minuten verbringen Sie an einem typischen Tag in sozialen Medien (Facebook, Instagram, Snapchat, etc.)?                                      3 non-null      int64 \n",
      " 10  Wie viele Minuten investieren Sie ca. pro Tag in Ihr Studium (abgesehen von Lehrveranstaltungen)?                                                      3 non-null      int64 \n",
      " 11  Lesen Sie zur Zeit ein Buch?                                                                                                                           3 non-null      object\n",
      " 12  Wie alt sind Sie?                                                                                                                                      3 non-null      int64 \n",
      " 13  Sie sind ...                                                                                                                                           3 non-null      object\n",
      "dtypes: int64(7), object(7)\n",
      "memory usage: 464.0+ bytes\n"
     ]
    }
   ],
   "source": [
    "df.info()"
   ]
  },
  {
   "cell_type": "markdown",
   "metadata": {
    "slideshow": {
     "slide_type": "slide"
    }
   },
   "source": [
    "## Daten anpassen"
   ]
  },
  {
   "cell_type": "markdown",
   "metadata": {
    "slideshow": {
     "slide_type": "fragment"
    }
   },
   "source": [
    "### Spaltennamen"
   ]
  },
  {
   "cell_type": "code",
   "execution_count": 50,
   "metadata": {
    "slideshow": {
     "slide_type": "subslide"
    }
   },
   "outputs": [],
   "source": [
    "# Spaltennamen umbenennen\n",
    "df = df.rename(columns={ \n",
    "            \"Zeitstempel\": \"zeit\",\n",
    "            \"Ich bin sportlich\": \"sport\",\n",
    "            \"Ich bin fleißig.\": \"fleissig\",\n",
    "            \"Von Rückschlägen lasse ich mich nicht entmutigen.\": \"entmutigen\",\n",
    "            \"Meine Fähigkeiten und Talente sind vorgegeben und ich kann daran nicht viel ändern.\": 'talente',\n",
    "            \"1990 lebten 58 % der Weltbevölkerung in Ländern mit niedrigem Einkommen. Wie hoch ist der Anteil heute? Geben Sie eine Zahl ein (z. B. 9, 37 oder 61)\": \"einkommen\",\n",
    "            \"Wie viel der weltweit verbrauchten Energie stammt aus Erdgas, Kohle und Öl?\": \"energie\",\n",
    "            \"Welcher Anteil der Weltbevölkerung lebt in Megacitys (Städte mit mindestens 10 Millionen Einwohnern)?\": \"megacity\",\n",
    "            \"Wie viele Geleebohnen befinden sich in diesem sechseckigen Glas?\": \"geleebohnen\",\n",
    "            \"Wie viele Minuten verbringen Sie an einem typischen Tag in sozialen Medien (Facebook, Instagram, Snapchat, etc.)?\": \"soziale_medien\",\n",
    "            \"Wie viele Minuten investieren Sie ca. pro Tag in Ihr Studium (abgesehen von Lehrveranstaltungen)?\": \"studium\",\n",
    "            \"Lesen Sie zur Zeit ein Buch?\": \"buch\",\n",
    "            \"Wie alt sind Sie?\": \"alter\",\n",
    "            \"Sie sind ...\": \"geschlecht\"\n",
    "}, errors=\"raise\")"
   ]
  },
  {
   "cell_type": "code",
   "execution_count": 51,
   "metadata": {
    "slideshow": {
     "slide_type": "subslide"
    }
   },
   "outputs": [
    {
     "name": "stdout",
     "output_type": "stream",
     "text": [
      "<class 'pandas.core.frame.DataFrame'>\n",
      "RangeIndex: 3 entries, 0 to 2\n",
      "Data columns (total 14 columns):\n",
      " #   Column          Non-Null Count  Dtype \n",
      "---  ------          --------------  ----- \n",
      " 0   zeit            3 non-null      object\n",
      " 1   sport           3 non-null      object\n",
      " 2   fleissig        3 non-null      object\n",
      " 3   entmutigen      3 non-null      int64 \n",
      " 4   talente         3 non-null      object\n",
      " 5   einkommen       3 non-null      int64 \n",
      " 6   energie         3 non-null      object\n",
      " 7   megacity        3 non-null      int64 \n",
      " 8   geleebohnen     3 non-null      int64 \n",
      " 9   soziale_medien  3 non-null      int64 \n",
      " 10  studium         3 non-null      int64 \n",
      " 11  buch            3 non-null      object\n",
      " 12  alter           3 non-null      int64 \n",
      " 13  geschlecht      3 non-null      object\n",
      "dtypes: int64(7), object(7)\n",
      "memory usage: 464.0+ bytes\n"
     ]
    }
   ],
   "source": [
    "df.info()"
   ]
  },
  {
   "cell_type": "markdown",
   "metadata": {
    "slideshow": {
     "slide_type": "slide"
    }
   },
   "source": [
    "### Variablen anpassen"
   ]
  },
  {
   "cell_type": "markdown",
   "metadata": {
    "slideshow": {
     "slide_type": "fragment"
    }
   },
   "source": [
    "#### Nominale Variablen"
   ]
  },
  {
   "cell_type": "code",
   "execution_count": 52,
   "metadata": {
    "slideshow": {
     "slide_type": "slide"
    }
   },
   "outputs": [],
   "source": [
    "# Liste mit nominalen Variablen erstellen\n",
    "list_nominal = [\"buch\", \"geschlecht\"]"
   ]
  },
  {
   "cell_type": "code",
   "execution_count": 53,
   "metadata": {
    "slideshow": {
     "slide_type": "fragment"
    }
   },
   "outputs": [],
   "source": [
    "# Nominale Variablen als kategorial formatieren (category)\n",
    "for i in list_nominal:\n",
    "    df[i] = df[i].astype(\"category\")"
   ]
  },
  {
   "cell_type": "code",
   "execution_count": 54,
   "metadata": {
    "slideshow": {
     "slide_type": "fragment"
    }
   },
   "outputs": [
    {
     "name": "stdout",
     "output_type": "stream",
     "text": [
      "<class 'pandas.core.frame.DataFrame'>\n",
      "RangeIndex: 3 entries, 0 to 2\n",
      "Data columns (total 2 columns):\n",
      " #   Column      Non-Null Count  Dtype   \n",
      "---  ------      --------------  -----   \n",
      " 0   buch        3 non-null      category\n",
      " 1   geschlecht  3 non-null      category\n",
      "dtypes: category(2)\n",
      "memory usage: 382.0 bytes\n"
     ]
    }
   ],
   "source": [
    "# Nominale Variablen anzeigen lassen\n",
    "df[list_nominal].info()"
   ]
  },
  {
   "cell_type": "code",
   "execution_count": 55,
   "metadata": {
    "slideshow": {
     "slide_type": "subslide"
    }
   },
   "outputs": [
    {
     "data": {
      "text/html": [
       "<div>\n",
       "<style scoped>\n",
       "    .dataframe tbody tr th:only-of-type {\n",
       "        vertical-align: middle;\n",
       "    }\n",
       "\n",
       "    .dataframe tbody tr th {\n",
       "        vertical-align: top;\n",
       "    }\n",
       "\n",
       "    .dataframe thead th {\n",
       "        text-align: right;\n",
       "    }\n",
       "</style>\n",
       "<table border=\"1\" class=\"dataframe\">\n",
       "  <thead>\n",
       "    <tr style=\"text-align: right;\">\n",
       "      <th></th>\n",
       "      <th>buch</th>\n",
       "      <th>geschlecht</th>\n",
       "    </tr>\n",
       "  </thead>\n",
       "  <tbody>\n",
       "    <tr>\n",
       "      <th>0</th>\n",
       "      <td>Ja</td>\n",
       "      <td>Männlich</td>\n",
       "    </tr>\n",
       "    <tr>\n",
       "      <th>1</th>\n",
       "      <td>Nein</td>\n",
       "      <td>Weiblich</td>\n",
       "    </tr>\n",
       "    <tr>\n",
       "      <th>2</th>\n",
       "      <td>Ja</td>\n",
       "      <td>Männlich</td>\n",
       "    </tr>\n",
       "  </tbody>\n",
       "</table>\n",
       "</div>"
      ],
      "text/plain": [
       "   buch geschlecht\n",
       "0    Ja   Männlich\n",
       "1  Nein   Weiblich\n",
       "2    Ja   Männlich"
      ]
     },
     "execution_count": 55,
     "metadata": {},
     "output_type": "execute_result"
    }
   ],
   "source": [
    "df[list_nominal].head()"
   ]
  },
  {
   "cell_type": "markdown",
   "metadata": {
    "slideshow": {
     "slide_type": "fragment"
    }
   },
   "source": [
    "- Beide nominalen Variablen enthalten Text in den Zeilen (mit jeweils zwei möglichen Ausprägungen). \n",
    "\n",
    "\n",
    "- Dies kann bei späteren Analysen zu Problemen führen, weshalb wir zusätzlich so genannte \"Dummy-Variablen\" erzeugen, die nur die Werte 1 und 0 enthalten. "
   ]
  },
  {
   "cell_type": "code",
   "execution_count": 56,
   "metadata": {
    "slideshow": {
     "slide_type": "slide"
    }
   },
   "outputs": [
    {
     "data": {
      "text/html": [
       "<div>\n",
       "<style scoped>\n",
       "    .dataframe tbody tr th:only-of-type {\n",
       "        vertical-align: middle;\n",
       "    }\n",
       "\n",
       "    .dataframe tbody tr th {\n",
       "        vertical-align: top;\n",
       "    }\n",
       "\n",
       "    .dataframe thead th {\n",
       "        text-align: right;\n",
       "    }\n",
       "</style>\n",
       "<table border=\"1\" class=\"dataframe\">\n",
       "  <thead>\n",
       "    <tr style=\"text-align: right;\">\n",
       "      <th></th>\n",
       "      <th>buch__Ja</th>\n",
       "      <th>buch__Nein</th>\n",
       "      <th>geschlecht__Männlich</th>\n",
       "      <th>geschlecht__Weiblich</th>\n",
       "    </tr>\n",
       "  </thead>\n",
       "  <tbody>\n",
       "    <tr>\n",
       "      <th>0</th>\n",
       "      <td>1</td>\n",
       "      <td>0</td>\n",
       "      <td>1</td>\n",
       "      <td>0</td>\n",
       "    </tr>\n",
       "    <tr>\n",
       "      <th>1</th>\n",
       "      <td>0</td>\n",
       "      <td>1</td>\n",
       "      <td>0</td>\n",
       "      <td>1</td>\n",
       "    </tr>\n",
       "    <tr>\n",
       "      <th>2</th>\n",
       "      <td>1</td>\n",
       "      <td>0</td>\n",
       "      <td>1</td>\n",
       "      <td>0</td>\n",
       "    </tr>\n",
       "  </tbody>\n",
       "</table>\n",
       "</div>"
      ],
      "text/plain": [
       "  buch__Ja buch__Nein geschlecht__Männlich geschlecht__Weiblich\n",
       "0        1          0                    1                    0\n",
       "1        0          1                    0                    1\n",
       "2        1          0                    1                    0"
      ]
     },
     "execution_count": 56,
     "metadata": {},
     "output_type": "execute_result"
    }
   ],
   "source": [
    "dummy_nominal = pd.get_dummies(df[list_nominal],  prefix_sep='__').astype('category')\n",
    "dummy_nominal"
   ]
  },
  {
   "cell_type": "code",
   "execution_count": 57,
   "metadata": {
    "slideshow": {
     "slide_type": "fragment"
    }
   },
   "outputs": [],
   "source": [
    "# Dummy-Variablen hinzufügen\n",
    "df = df.join(dummy_nominal)"
   ]
  },
  {
   "cell_type": "code",
   "execution_count": 58,
   "metadata": {
    "slideshow": {
     "slide_type": "slide"
    }
   },
   "outputs": [],
   "source": [
    "# Liste um die neuen Variablen erweitern \n",
    "dummy_nominal_name = dummy_nominal.columns.tolist()\n",
    "\n",
    "list_nominal.extend(dummy_nominal)"
   ]
  },
  {
   "cell_type": "code",
   "execution_count": 59,
   "metadata": {
    "slideshow": {
     "slide_type": "fragment"
    }
   },
   "outputs": [
    {
     "data": {
      "text/plain": [
       "['buch',\n",
       " 'geschlecht',\n",
       " 'buch__Ja',\n",
       " 'buch__Nein',\n",
       " 'geschlecht__Männlich',\n",
       " 'geschlecht__Weiblich']"
      ]
     },
     "execution_count": 59,
     "metadata": {},
     "output_type": "execute_result"
    }
   ],
   "source": [
    "list_nominal"
   ]
  },
  {
   "cell_type": "markdown",
   "metadata": {
    "slideshow": {
     "slide_type": "slide"
    }
   },
   "source": [
    "#### Ordinale Variablen"
   ]
  },
  {
   "cell_type": "markdown",
   "metadata": {
    "slideshow": {
     "slide_type": "fragment"
    }
   },
   "source": [
    "Die Variablen `sport`,`fleissig`, `talente` und `entmutigen` wurden mit Hilfe einer so genannten [Likert-Skala](https://de.wikipedia.org/wiki/Likert-Skala) erhoben. "
   ]
  },
  {
   "cell_type": "markdown",
   "metadata": {
    "slideshow": {
     "slide_type": "skip"
    }
   },
   "source": [
    "Die Antwortmöglichkeiten reichen bei der Likertskala typischerweise von „trifft überhaupt nicht zu“ bis \"trifft völlig zu“, wobei eine gerade Zahl der Antwortmöglichkeiten ebenso gebräuchlich ist wie eine ungerade Anzahl. Es ist jedoch sinnvoll, in einem Fragebogen nur eine der beiden Varianten zu verwenden. Zudem sollte die Reihenfolge der Antwortmöglichkeiten immer identisch sein."
   ]
  },
  {
   "cell_type": "markdown",
   "metadata": {
    "slideshow": {
     "slide_type": "fragment"
    }
   },
   "source": [
    "- Eine **ungerade Anzahl** wird verwendet, wenn eine mittlere Ausprägung (bspw. \"teils teils\") sinnvoll ist. \n",
    "\n",
    "- Eine **gerade Anzahl** zwingt dagegen zur Entscheidung zu einer Seite (tendenzielle Zustimmung oder Ablehnung)."
   ]
  },
  {
   "cell_type": "markdown",
   "metadata": {
    "slideshow": {
     "slide_type": "skip"
    }
   },
   "source": [
    "Da wir nicht davon ausgehen können, dass eine befragte Person die Abstände der einzelnen Antwortmöglichkeiten als gleich weit entfernt wahrnimmt (äquidistant), handelt es sich streng genommen um ein ordinales Skalenniveau. Um bei der späteren Auswertung die erhobenen Daten aber dennoch wie intervallskalierte Daten behandeln zu können, behandelt man die Variablen oftmals als \"quais-metrisch\" und unterstellt somit (zumindest annäherungsweise) äquidistante Abstände. "
   ]
  },
  {
   "cell_type": "markdown",
   "metadata": {
    "slideshow": {
     "slide_type": "fragment"
    }
   },
   "source": [
    "Wir behandeln in Folgenden zwei unterschiedliche Optionen zum Umgang mit den Variablen:\n",
    "\n",
    "- Option 1: Wir behandeln die Variablen als ordinale Variablen (wird im Anschluss gezeigt).\n",
    "\n",
    "- Option 2: Wir behandeln die Variablen als \"quasimetrische\" Variablen - d.h. wie numerische Daten (diese Option wird in dem Abschnitt \"Quasi-metrische Variablen\" behandelt)."
   ]
  },
  {
   "cell_type": "markdown",
   "metadata": {
    "slideshow": {
     "slide_type": "skip"
    }
   },
   "source": [
    "In den Fragen wurde \"sport\", \"fleissig\", \"talente\" mit Hilfe von Bezeichnungen wie \"trifft überhaupt nicht zu\" erhoben, während \"entmutigen\" mit Hilfe von numerischen Werten (1 bis 5) erfasst wurde. "
   ]
  },
  {
   "cell_type": "markdown",
   "metadata": {
    "slideshow": {
     "slide_type": "fragment"
    }
   },
   "source": [
    "Da wir besser mit einheitlich skalierten Werten umgehen können, wird zunächst die Variable \"entmutigen\" in das gleiche Format überführt."
   ]
  },
  {
   "cell_type": "markdown",
   "metadata": {
    "slideshow": {
     "slide_type": "subslide"
    }
   },
   "source": [
    "Da wir die Variable `entmutigen` nicht versehentlich durch Datentransformationen fehlerhaft verändern möchten, speichern wir sie zunächst nochmals in der originalen Version ab (als `entmutigen_orig`). "
   ]
  },
  {
   "cell_type": "code",
   "execution_count": 60,
   "metadata": {
    "slideshow": {
     "slide_type": "fragment"
    }
   },
   "outputs": [],
   "source": [
    "df['entmutigen_orig'] = df['entmutigen']"
   ]
  },
  {
   "cell_type": "markdown",
   "metadata": {
    "slideshow": {
     "slide_type": "slide"
    }
   },
   "source": [
    "Erzeugung der Listen für die Veränderung der Variable (in der korrekten Reihenfolge):"
   ]
  },
  {
   "cell_type": "code",
   "execution_count": 61,
   "metadata": {
    "slideshow": {
     "slide_type": "fragment"
    }
   },
   "outputs": [],
   "source": [
    "werte = [1, 2, 3, 4, 5]\n",
    "\n",
    "likert =[\"trifft überhaupt nicht zu\",\n",
    "         \"trifft eher nicht zu\",\n",
    "         \"teils teils\",\n",
    "         \"trifft eher zu\",\n",
    "         \"trifft völlig zu\"]"
   ]
  },
  {
   "cell_type": "code",
   "execution_count": 62,
   "metadata": {
    "slideshow": {
     "slide_type": "fragment"
    }
   },
   "outputs": [
    {
     "data": {
      "text/plain": [
       "0          trifft eher zu\n",
       "1    trifft eher nicht zu\n",
       "2             teils teils\n",
       "Name: entmutigen, dtype: object"
      ]
     },
     "execution_count": 62,
     "metadata": {},
     "output_type": "execute_result"
    }
   ],
   "source": [
    "df['entmutigen'].replace(werte, likert, inplace=True)\n",
    "\n",
    "df['entmutigen'].head()"
   ]
  },
  {
   "cell_type": "code",
   "execution_count": 63,
   "metadata": {
    "slideshow": {
     "slide_type": "slide"
    }
   },
   "outputs": [
    {
     "data": {
      "text/plain": [
       "0    4\n",
       "1    2\n",
       "2    3\n",
       "Name: entmutigen_orig, dtype: int64"
      ]
     },
     "execution_count": 63,
     "metadata": {},
     "output_type": "execute_result"
    }
   ],
   "source": [
    "df['entmutigen_orig'].head()"
   ]
  },
  {
   "cell_type": "markdown",
   "metadata": {
    "slideshow": {
     "slide_type": "slide"
    }
   },
   "source": [
    "Erstellung einer Liste:"
   ]
  },
  {
   "cell_type": "code",
   "execution_count": 64,
   "metadata": {
    "slideshow": {
     "slide_type": "fragment"
    }
   },
   "outputs": [],
   "source": [
    "list_ordinal = [\"sport\", \"fleissig\", \"talente\", \"entmutigen\"]"
   ]
  },
  {
   "cell_type": "code",
   "execution_count": 65,
   "metadata": {
    "slideshow": {
     "slide_type": "fragment"
    }
   },
   "outputs": [
    {
     "data": {
      "text/plain": [
       "CategoricalDtype(categories=['trifft überhaupt nicht zu', 'trifft eher nicht zu',\n",
       "                  'teils teils', 'trifft eher zu', 'trifft völlig zu'],\n",
       ", ordered=True)"
      ]
     },
     "execution_count": 65,
     "metadata": {},
     "output_type": "execute_result"
    }
   ],
   "source": [
    "from pandas.api.types import CategoricalDtype\n",
    "\n",
    "cat_type= CategoricalDtype(categories=likert, ordered=True)\n",
    "\n",
    "cat_type"
   ]
  },
  {
   "cell_type": "code",
   "execution_count": 66,
   "metadata": {
    "slideshow": {
     "slide_type": "fragment"
    }
   },
   "outputs": [],
   "source": [
    "df[list_ordinal] = df[list_ordinal].astype(cat_type)"
   ]
  },
  {
   "cell_type": "code",
   "execution_count": 67,
   "metadata": {
    "slideshow": {
     "slide_type": "subslide"
    }
   },
   "outputs": [
    {
     "data": {
      "text/plain": [
       "0             teils teils\n",
       "1    trifft eher nicht zu\n",
       "2             teils teils\n",
       "Name: sport, dtype: category\n",
       "Categories (5, object): ['trifft überhaupt nicht zu' < 'trifft eher nicht zu' < 'teils teils' < 'trifft eher zu' < 'trifft völlig zu']"
      ]
     },
     "execution_count": 67,
     "metadata": {},
     "output_type": "execute_result"
    }
   ],
   "source": [
    "df[\"sport\"]"
   ]
  },
  {
   "cell_type": "code",
   "execution_count": 68,
   "metadata": {
    "slideshow": {
     "slide_type": "subslide"
    }
   },
   "outputs": [
    {
     "data": {
      "text/plain": [
       "Index(['trifft überhaupt nicht zu', 'trifft eher nicht zu', 'teils teils',\n",
       "       'trifft eher zu', 'trifft völlig zu'],\n",
       "      dtype='object')"
      ]
     },
     "execution_count": 68,
     "metadata": {},
     "output_type": "execute_result"
    }
   ],
   "source": [
    "# Anzeige der Ausprägungen\n",
    "df['sport'].cat.categories"
   ]
  },
  {
   "cell_type": "markdown",
   "metadata": {
    "slideshow": {
     "slide_type": "slide"
    }
   },
   "source": [
    "#### Kategoriale Variablen"
   ]
  },
  {
   "cell_type": "code",
   "execution_count": 69,
   "metadata": {
    "slideshow": {
     "slide_type": "fragment"
    }
   },
   "outputs": [],
   "source": [
    "list_cat = list_nominal + list_ordinal"
   ]
  },
  {
   "cell_type": "markdown",
   "metadata": {
    "slideshow": {
     "slide_type": "slide"
    }
   },
   "source": [
    "#### Numerische Variablen"
   ]
  },
  {
   "cell_type": "markdown",
   "metadata": {
    "slideshow": {
     "slide_type": "fragment"
    }
   },
   "source": [
    "Wir behandeln zunächst die \"eindeutig\" numerischen Variablen (d.h. wir ignorieren die quasi-metrischen). diese wären:\n",
    "\n",
    "- einkommen\n",
    "- energie\n",
    "- megacity\n",
    "- geleebohnen\n",
    "- soziale_medien\n",
    "- studium\n",
    "- alter"
   ]
  },
  {
   "cell_type": "code",
   "execution_count": 70,
   "metadata": {
    "slideshow": {
     "slide_type": "slide"
    }
   },
   "outputs": [],
   "source": [
    "list_num = ['einkommen', 'energie', 'megacity', 'geleebohnen', \n",
    "            'soziale_medien', 'studium', 'alter']"
   ]
  },
  {
   "cell_type": "code",
   "execution_count": 71,
   "metadata": {
    "slideshow": {
     "slide_type": "fragment"
    }
   },
   "outputs": [
    {
     "name": "stdout",
     "output_type": "stream",
     "text": [
      "<class 'pandas.core.frame.DataFrame'>\n",
      "RangeIndex: 3 entries, 0 to 2\n",
      "Data columns (total 7 columns):\n",
      " #   Column          Non-Null Count  Dtype \n",
      "---  ------          --------------  ----- \n",
      " 0   einkommen       3 non-null      int64 \n",
      " 1   energie         3 non-null      object\n",
      " 2   megacity        3 non-null      int64 \n",
      " 3   geleebohnen     3 non-null      int64 \n",
      " 4   soziale_medien  3 non-null      int64 \n",
      " 5   studium         3 non-null      int64 \n",
      " 6   alter           3 non-null      int64 \n",
      "dtypes: int64(6), object(1)\n",
      "memory usage: 296.0+ bytes\n"
     ]
    }
   ],
   "source": [
    "df[list_num].info()"
   ]
  },
  {
   "cell_type": "markdown",
   "metadata": {
    "slideshow": {
     "slide_type": "skip"
    }
   },
   "source": [
    "Wir können mit `df.info()` erkennen, dass abgesehen von `energie` bereits alle Variablen korrrekt als \"int64\" (siehe zur Bedeutung diesen [Stackoverflow-Beitrag](https://stackoverflow.com/questions/9696660/what-is-the-difference-between-int-int16-int32-and-int64)) gespeichert wurden."
   ]
  },
  {
   "cell_type": "code",
   "execution_count": 72,
   "metadata": {
    "slideshow": {
     "slide_type": "slide"
    }
   },
   "outputs": [
    {
     "data": {
      "text/plain": [
       "0    ca. 42%\n",
       "1    ca. 62%\n",
       "2    ca. 82%\n",
       "Name: energie, dtype: object"
      ]
     },
     "execution_count": 72,
     "metadata": {},
     "output_type": "execute_result"
    }
   ],
   "source": [
    "df['energie'].head()"
   ]
  },
  {
   "cell_type": "markdown",
   "metadata": {
    "slideshow": {
     "slide_type": "notes"
    }
   },
   "source": [
    "In den Antwortmöglichkeiten der Variable waren neben numerischen Werten auch Buchstaben und ein Sonderzeichen enthalen: \"ca.\" und \"%\". Damit wir sinnvoll mit der Variable arbeiten können, müssen diese entfernt werden. \n",
    "\n",
    "Da wir die Variable nicht versehentlich durch Datentransformationen korrumpieren möchten, speichern wir sie zunächst nochmals in der originalen Version ab (als `energie_orig`). Um die numerischen Werte leichter extrahieren zu können, nutzen wir das Format \"String\"."
   ]
  },
  {
   "cell_type": "code",
   "execution_count": 73,
   "metadata": {
    "slideshow": {
     "slide_type": "fragment"
    }
   },
   "outputs": [],
   "source": [
    "df['energie_orig'] = df['energie'].astype(\"string\")"
   ]
  },
  {
   "cell_type": "markdown",
   "metadata": {
    "slideshow": {
     "slide_type": "slide"
    }
   },
   "source": [
    "Im nächsten Schritt nutzen wir einen [regulärer Ausdruck](https://www.w3schools.com/python/python_regex.asp) (englisch regular expression, Abkürzung RegExp oder Regex) um die Zahl aus dem String zu extrahieren. "
   ]
  },
  {
   "cell_type": "markdown",
   "metadata": {
    "slideshow": {
     "slide_type": "fragment"
    }
   },
   "source": [
    "|Ausdruck|Bedeutung|Beschreibung|\n",
    "|:----|:----|:----|\n",
    "|\\d|digit|eine Ziffer, also [0-9] (und evtl. auch weitere Zahlzeichen in Unicode, z. B. bengalische Ziffern)|\n",
    "|\\D|no digit|ein Zeichen, das keine Ziffer ist, also [^\\d]|\n",
    "|\\w|word character|ein Buchstabe, eine Ziffer oder der Unterstrich, also [a-zA-Z_0-9] (und evtl. auch nicht-lateinische Buchstaben, z. B. Umlaute)|\n",
    "|\\W|no word character|ein Zeichen, das weder Buchstabe noch Zahl noch Unterstrich ist, also [^\\w]|\n",
    "|\\s|whitespace|meist zumindest das Leerzeichen und die Klasse der Steuerzeichen \\f, \\n, \\r, \\t und \\v|\n",
    "|\\S|no whitespace|ein Zeichen, das kein Whitespace ist, also [^\\s]|\n"
   ]
  },
  {
   "cell_type": "markdown",
   "metadata": {
    "slideshow": {
     "slide_type": "fragment"
    }
   },
   "source": [
    "Falls mehr als ein einzelnes Zeichen extrahiert werden soll, muss am Ende des Ausdrucks ein `+` hinzugefügt werden."
   ]
  },
  {
   "cell_type": "markdown",
   "metadata": {
    "slideshow": {
     "slide_type": "slide"
    }
   },
   "source": [
    "Wir nutzen regular expressions und überschreiben die alte Variable energie mit dem neuen Eintrag. Zudem speichern wir sie als integer."
   ]
  },
  {
   "cell_type": "code",
   "execution_count": 74,
   "metadata": {
    "slideshow": {
     "slide_type": "fragment"
    }
   },
   "outputs": [],
   "source": [
    "df['energie'] = df['energie_orig'].str.extract('(\\d+)').astype(int)"
   ]
  },
  {
   "cell_type": "code",
   "execution_count": 75,
   "metadata": {
    "slideshow": {
     "slide_type": "fragment"
    }
   },
   "outputs": [
    {
     "data": {
      "text/html": [
       "<div>\n",
       "<style scoped>\n",
       "    .dataframe tbody tr th:only-of-type {\n",
       "        vertical-align: middle;\n",
       "    }\n",
       "\n",
       "    .dataframe tbody tr th {\n",
       "        vertical-align: top;\n",
       "    }\n",
       "\n",
       "    .dataframe thead th {\n",
       "        text-align: right;\n",
       "    }\n",
       "</style>\n",
       "<table border=\"1\" class=\"dataframe\">\n",
       "  <thead>\n",
       "    <tr style=\"text-align: right;\">\n",
       "      <th></th>\n",
       "      <th>energie_orig</th>\n",
       "      <th>energie</th>\n",
       "    </tr>\n",
       "  </thead>\n",
       "  <tbody>\n",
       "    <tr>\n",
       "      <th>0</th>\n",
       "      <td>ca. 42%</td>\n",
       "      <td>42</td>\n",
       "    </tr>\n",
       "    <tr>\n",
       "      <th>1</th>\n",
       "      <td>ca. 62%</td>\n",
       "      <td>62</td>\n",
       "    </tr>\n",
       "    <tr>\n",
       "      <th>2</th>\n",
       "      <td>ca. 82%</td>\n",
       "      <td>82</td>\n",
       "    </tr>\n",
       "  </tbody>\n",
       "</table>\n",
       "</div>"
      ],
      "text/plain": [
       "  energie_orig  energie\n",
       "0      ca. 42%       42\n",
       "1      ca. 62%       62\n",
       "2      ca. 82%       82"
      ]
     },
     "execution_count": 75,
     "metadata": {},
     "output_type": "execute_result"
    }
   ],
   "source": [
    "df[['energie_orig', 'energie']].head()"
   ]
  },
  {
   "cell_type": "markdown",
   "metadata": {
    "slideshow": {
     "slide_type": "slide"
    }
   },
   "source": [
    "### Quasi-metrische Variablen"
   ]
  },
  {
   "cell_type": "markdown",
   "metadata": {
    "slideshow": {
     "slide_type": "notes"
    }
   },
   "source": [
    "Wie bereits erwähnt wurden die Variablen `sport`,`fleissig`, und `talente` mit Hilfe einer  [Likert-Skala](https://de.wikipedia.org/wiki/Likert-Skala) erhoben und könnten somit auch als \"quasi-metrisch\" behandelt werden (anstelle von ordinal)."
   ]
  },
  {
   "cell_type": "markdown",
   "metadata": {
    "slideshow": {
     "slide_type": "notes"
    }
   },
   "source": [
    "Dabei muss jedoch beachtet werden, dass bspw. der Mittelwert aufgrund der Art der Messung (insbesondere wenn eine neutrale mittlere Ausprägung verwendet wird) an Aussagekraft verlieren."
   ]
  },
  {
   "cell_type": "markdown",
   "metadata": {
    "slideshow": {
     "slide_type": "fragment"
    }
   },
   "source": [
    "Damit wir die Originaldaten nicht \"verlieren\", erzeugen wir neue Variablen. Dafür kopieren wir die Daten und fügen diesen die Endung \"qm\" (für quasimetrisch) hinzu. "
   ]
  },
  {
   "cell_type": "code",
   "execution_count": 76,
   "metadata": {
    "slideshow": {
     "slide_type": "slide"
    }
   },
   "outputs": [],
   "source": [
    "for i in list_ordinal:\n",
    "    df[i + \"_qm\"] = df[i]"
   ]
  },
  {
   "cell_type": "code",
   "execution_count": 77,
   "metadata": {
    "slideshow": {
     "slide_type": "fragment"
    }
   },
   "outputs": [
    {
     "data": {
      "text/plain": [
       "['sport_qm', 'fleissig_qm', 'talente_qm', 'entmutigen_qm']"
      ]
     },
     "execution_count": 77,
     "metadata": {},
     "output_type": "execute_result"
    }
   ],
   "source": [
    "# Erstellung der Liste mit Hilfe von filter und regular expressions\n",
    "list_qm = df.filter(regex='_qm').columns.to_list()\n",
    "\n",
    "list_qm"
   ]
  },
  {
   "cell_type": "code",
   "execution_count": 78,
   "metadata": {
    "slideshow": {
     "slide_type": "subslide"
    }
   },
   "outputs": [
    {
     "name": "stdout",
     "output_type": "stream",
     "text": [
      "<class 'pandas.core.frame.DataFrame'>\n",
      "RangeIndex: 3 entries, 0 to 2\n",
      "Data columns (total 4 columns):\n",
      " #   Column         Non-Null Count  Dtype   \n",
      "---  ------         --------------  -----   \n",
      " 0   sport_qm       3 non-null      category\n",
      " 1   fleissig_qm    3 non-null      category\n",
      " 2   talente_qm     3 non-null      category\n",
      " 3   entmutigen_qm  3 non-null      category\n",
      "dtypes: category(4)\n",
      "memory usage: 988.0 bytes\n"
     ]
    }
   ],
   "source": [
    "df[list_qm].info()"
   ]
  },
  {
   "cell_type": "markdown",
   "metadata": {
    "slideshow": {
     "slide_type": "slide"
    }
   },
   "source": [
    "Wir nutzen nun ein ähnliches Vorgehen wie bei der Anpassung der Variable \"entmutigen\""
   ]
  },
  {
   "cell_type": "code",
   "execution_count": 79,
   "metadata": {
    "slideshow": {
     "slide_type": "fragment"
    }
   },
   "outputs": [],
   "source": [
    "for i in list_qm:\n",
    "    df[i].replace(likert, werte, inplace=True)\n",
    "    df[i] = df[i].astype(\"int\")"
   ]
  },
  {
   "cell_type": "code",
   "execution_count": 80,
   "metadata": {
    "slideshow": {
     "slide_type": "fragment"
    }
   },
   "outputs": [
    {
     "data": {
      "text/html": [
       "<div>\n",
       "<style scoped>\n",
       "    .dataframe tbody tr th:only-of-type {\n",
       "        vertical-align: middle;\n",
       "    }\n",
       "\n",
       "    .dataframe tbody tr th {\n",
       "        vertical-align: top;\n",
       "    }\n",
       "\n",
       "    .dataframe thead th {\n",
       "        text-align: right;\n",
       "    }\n",
       "</style>\n",
       "<table border=\"1\" class=\"dataframe\">\n",
       "  <thead>\n",
       "    <tr style=\"text-align: right;\">\n",
       "      <th></th>\n",
       "      <th>sport_qm</th>\n",
       "      <th>fleissig_qm</th>\n",
       "      <th>talente_qm</th>\n",
       "      <th>entmutigen_qm</th>\n",
       "    </tr>\n",
       "  </thead>\n",
       "  <tbody>\n",
       "    <tr>\n",
       "      <th>0</th>\n",
       "      <td>3</td>\n",
       "      <td>4</td>\n",
       "      <td>1</td>\n",
       "      <td>4</td>\n",
       "    </tr>\n",
       "    <tr>\n",
       "      <th>1</th>\n",
       "      <td>2</td>\n",
       "      <td>2</td>\n",
       "      <td>4</td>\n",
       "      <td>2</td>\n",
       "    </tr>\n",
       "    <tr>\n",
       "      <th>2</th>\n",
       "      <td>3</td>\n",
       "      <td>2</td>\n",
       "      <td>4</td>\n",
       "      <td>3</td>\n",
       "    </tr>\n",
       "  </tbody>\n",
       "</table>\n",
       "</div>"
      ],
      "text/plain": [
       "   sport_qm  fleissig_qm  talente_qm  entmutigen_qm\n",
       "0         3            4           1              4\n",
       "1         2            2           4              2\n",
       "2         3            2           4              3"
      ]
     },
     "execution_count": 80,
     "metadata": {},
     "output_type": "execute_result"
    }
   ],
   "source": [
    "df[list_qm].head()"
   ]
  },
  {
   "cell_type": "code",
   "execution_count": 81,
   "metadata": {
    "slideshow": {
     "slide_type": "subslide"
    }
   },
   "outputs": [
    {
     "name": "stdout",
     "output_type": "stream",
     "text": [
      "<class 'pandas.core.frame.DataFrame'>\n",
      "RangeIndex: 3 entries, 0 to 2\n",
      "Data columns (total 4 columns):\n",
      " #   Column         Non-Null Count  Dtype\n",
      "---  ------         --------------  -----\n",
      " 0   sport_qm       3 non-null      int64\n",
      " 1   fleissig_qm    3 non-null      int64\n",
      " 2   talente_qm     3 non-null      int64\n",
      " 3   entmutigen_qm  3 non-null      int64\n",
      "dtypes: int64(4)\n",
      "memory usage: 224.0 bytes\n"
     ]
    }
   ],
   "source": [
    "df[list_qm].info()"
   ]
  },
  {
   "cell_type": "markdown",
   "metadata": {
    "slideshow": {
     "slide_type": "slide"
    }
   },
   "source": [
    "#### Metrische Variablen"
   ]
  },
  {
   "cell_type": "code",
   "execution_count": 82,
   "metadata": {
    "slideshow": {
     "slide_type": "fragment"
    }
   },
   "outputs": [],
   "source": [
    "list_metric = list_num + list_qm"
   ]
  },
  {
   "cell_type": "markdown",
   "metadata": {
    "slideshow": {
     "slide_type": "slide"
    }
   },
   "source": [
    "## Temporäre Daten speichern"
   ]
  },
  {
   "cell_type": "markdown",
   "metadata": {
    "slideshow": {
     "slide_type": "fragment"
    }
   },
   "source": [
    "Wir versehen den Dateinamen mit dem aktuellen Datum (damit wir leichter die jeweils aktuellste Version finden können)"
   ]
  },
  {
   "cell_type": "code",
   "execution_count": 83,
   "metadata": {
    "slideshow": {
     "slide_type": "subslide"
    }
   },
   "outputs": [],
   "source": [
    "import time\n",
    "\n",
    "TIME = \"-\" + time.strftime(\"%Y%m%d-%H%M\")"
   ]
  },
  {
   "cell_type": "markdown",
   "metadata": {
    "slideshow": {
     "slide_type": "slide"
    }
   },
   "source": [
    "Speichern als CSV:"
   ]
  },
  {
   "cell_type": "code",
   "execution_count": 84,
   "metadata": {
    "slideshow": {
     "slide_type": "fragment"
    }
   },
   "outputs": [],
   "source": [
    "SUBPATH = \"interim/\""
   ]
  },
  {
   "cell_type": "code",
   "execution_count": 85,
   "metadata": {
    "slideshow": {
     "slide_type": "fragment"
    }
   },
   "outputs": [],
   "source": [
    "df.to_csv(PARENT_PATH + PATH + SUBPATH + FILE + TIME + FORMAT, index=False)"
   ]
  },
  {
   "cell_type": "markdown",
   "metadata": {
    "slideshow": {
     "slide_type": "slide"
    }
   },
   "source": [
    "Speichern als Excel-Datei:"
   ]
  },
  {
   "cell_type": "code",
   "execution_count": 86,
   "metadata": {
    "slideshow": {
     "slide_type": "fragment"
    }
   },
   "outputs": [],
   "source": [
    "FORMAT = \".xlsx\"\n",
    "\n",
    "df.to_excel(PARENT_PATH + PATH + SUBPATH + FILE + TIME + FORMAT, index=False)"
   ]
  },
  {
   "cell_type": "markdown",
   "metadata": {
    "slideshow": {
     "slide_type": "slide"
    }
   },
   "source": [
    "## Finale Daten speichern"
   ]
  },
  {
   "cell_type": "markdown",
   "metadata": {
    "slideshow": {
     "slide_type": "fragment"
    }
   },
   "source": [
    "In dem Ordner processed sollte nur die finale CSV-Datei abgespeichert werden (ohne Zeitangabe)."
   ]
  },
  {
   "cell_type": "code",
   "execution_count": 87,
   "metadata": {
    "slideshow": {
     "slide_type": "fragment"
    }
   },
   "outputs": [],
   "source": [
    "SUBPATH = \"processed/\"\n",
    "FORMAT = \".csv\"\n"
   ]
  },
  {
   "cell_type": "code",
   "execution_count": 88,
   "metadata": {
    "slideshow": {
     "slide_type": "fragment"
    }
   },
   "outputs": [],
   "source": [
    "df.to_csv(PARENT_PATH + PATH + SUBPATH + FILE + FORMAT, index=False)"
   ]
  }
 ],
 "metadata": {
  "celltoolbar": "Slideshow",
  "kernelspec": {
   "display_name": "Python 3 (ipykernel)",
   "language": "python",
   "name": "python3"
  },
  "language_info": {
   "codemirror_mode": {
    "name": "ipython",
    "version": 3
   },
   "file_extension": ".py",
   "mimetype": "text/x-python",
   "name": "python",
   "nbconvert_exporter": "python",
   "pygments_lexer": "ipython3",
   "version": "3.9.12"
  },
  "varInspector": {
   "cols": {
    "lenName": 16,
    "lenType": 16,
    "lenVar": 40
   },
   "kernels_config": {
    "python": {
     "delete_cmd_postfix": "",
     "delete_cmd_prefix": "del ",
     "library": "var_list.py",
     "varRefreshCmd": "print(var_dic_list())"
    },
    "r": {
     "delete_cmd_postfix": ") ",
     "delete_cmd_prefix": "rm(",
     "library": "var_list.r",
     "varRefreshCmd": "cat(var_dic_list()) "
    }
   },
   "types_to_exclude": [
    "module",
    "function",
    "builtin_function_or_method",
    "instance",
    "_Feature"
   ],
   "window_display": false
  },
  "vscode": {
   "interpreter": {
    "hash": "0de8387c967863cc622aba8b7ea5b466d4dfde089153d484429677aa77034389"
   }
  }
 },
 "nbformat": 4,
 "nbformat_minor": 2
}
