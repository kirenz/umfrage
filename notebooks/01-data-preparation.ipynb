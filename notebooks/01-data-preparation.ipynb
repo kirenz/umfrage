{
 "cells": [
  {
   "cell_type": "markdown",
   "metadata": {
    "slideshow": {
     "slide_type": "slide"
    }
   },
   "source": [
    "# Umfrage Teil I\n",
    "\n",
    "Datenvorbereitung"
   ]
  },
  {
   "cell_type": "markdown",
   "metadata": {
    "slideshow": {
     "slide_type": "slide"
    }
   },
   "source": [
    "## Daten importieren"
   ]
  },
  {
   "cell_type": "code",
   "execution_count": 24,
   "metadata": {},
   "outputs": [],
   "source": [
    "from pathlib import Path\n",
    "\n",
    "PARENT_PATH = str(Path().resolve().parent) + \"/\"\n",
    "PATH = \"data/\"\n",
    "SUBPATH = \"raw/\"\n",
    "FILE = \"umfrage\"\n",
    "FORMAT = \".csv\""
   ]
  },
  {
   "cell_type": "code",
   "execution_count": 25,
   "metadata": {
    "slideshow": {
     "slide_type": "fragment"
    }
   },
   "outputs": [],
   "source": [
    "import pandas as pd\n",
    "\n",
    "df = pd.read_csv(PARENT_PATH + PATH + SUBPATH + FILE + FORMAT)"
   ]
  },
  {
   "cell_type": "markdown",
   "metadata": {},
   "source": [
    "## Datenüberblick"
   ]
  },
  {
   "cell_type": "code",
   "execution_count": 26,
   "metadata": {},
   "outputs": [
    {
     "data": {
      "text/html": [
       "<div>\n",
       "<style scoped>\n",
       "    .dataframe tbody tr th:only-of-type {\n",
       "        vertical-align: middle;\n",
       "    }\n",
       "\n",
       "    .dataframe tbody tr th {\n",
       "        vertical-align: top;\n",
       "    }\n",
       "\n",
       "    .dataframe thead th {\n",
       "        text-align: right;\n",
       "    }\n",
       "</style>\n",
       "<table border=\"1\" class=\"dataframe\">\n",
       "  <thead>\n",
       "    <tr style=\"text-align: right;\">\n",
       "      <th></th>\n",
       "      <th>Zeitstempel</th>\n",
       "      <th>Ich bin sportlich</th>\n",
       "      <th>Ich bin fleißig.</th>\n",
       "      <th>Von Rückschlägen lasse ich mich nicht entmutigen.</th>\n",
       "      <th>Meine Fähigkeiten und Talente sind vorgegeben und ich kann daran nicht viel ändern.</th>\n",
       "      <th>1990 lebten 58 % der Weltbevölkerung in Ländern mit niedrigem Einkommen. Wie hoch ist der Anteil heute? Geben Sie eine Zahl ein (z. B. 9, 37 oder 61)</th>\n",
       "      <th>Wie viel der weltweit verbrauchten Energie stammt aus Erdgas, Kohle und Öl?</th>\n",
       "      <th>Welcher Anteil der Weltbevölkerung lebt in Megacitys (Städte mit mindestens 10 Millionen Einwohnern)?</th>\n",
       "      <th>Wie viele Geleebohnen befinden sich in diesem sechseckigen Glas?</th>\n",
       "      <th>Wie viele Minuten verbringen Sie an einem typischen Tag in sozialen Medien (Facebook, Instagram, Snapchat, etc.)?</th>\n",
       "      <th>Wie viele Minuten investieren Sie ca. pro Tag in Ihr Studium (abgesehen von Lehrveranstaltungen)?</th>\n",
       "      <th>Lesen Sie zur Zeit ein Buch?</th>\n",
       "      <th>Wie alt sind Sie?</th>\n",
       "      <th>Sie sind ...</th>\n",
       "    </tr>\n",
       "  </thead>\n",
       "  <tbody>\n",
       "    <tr>\n",
       "      <th>0</th>\n",
       "      <td>2022/09/14 8:21:58 PM OEZ</td>\n",
       "      <td>teils teils</td>\n",
       "      <td>trifft eher zu</td>\n",
       "      <td>4</td>\n",
       "      <td>trifft überhaupt nicht zu</td>\n",
       "      <td>9</td>\n",
       "      <td>ca. 100%</td>\n",
       "      <td>4</td>\n",
       "      <td>3000</td>\n",
       "      <td>34</td>\n",
       "      <td>34</td>\n",
       "      <td>Ja</td>\n",
       "      <td>22</td>\n",
       "      <td>Männlich</td>\n",
       "    </tr>\n",
       "    <tr>\n",
       "      <th>1</th>\n",
       "      <td>2022/09/14 8:21:58 PM OEZ</td>\n",
       "      <td>teils teils</td>\n",
       "      <td>trifft eher zu</td>\n",
       "      <td>4</td>\n",
       "      <td>trifft überhaupt nicht zu</td>\n",
       "      <td>9</td>\n",
       "      <td>ca. 100%</td>\n",
       "      <td>4</td>\n",
       "      <td>3000</td>\n",
       "      <td>34</td>\n",
       "      <td>34</td>\n",
       "      <td>Ja</td>\n",
       "      <td>22</td>\n",
       "      <td>Männlich</td>\n",
       "    </tr>\n",
       "    <tr>\n",
       "      <th>2</th>\n",
       "      <td>2022/09/14 8:21:58 PM OEZ</td>\n",
       "      <td>teils teils</td>\n",
       "      <td>trifft eher zu</td>\n",
       "      <td>4</td>\n",
       "      <td>trifft überhaupt nicht zu</td>\n",
       "      <td>9</td>\n",
       "      <td>ca. 100%</td>\n",
       "      <td>4</td>\n",
       "      <td>3000</td>\n",
       "      <td>34</td>\n",
       "      <td>34</td>\n",
       "      <td>Ja</td>\n",
       "      <td>22</td>\n",
       "      <td>Männlich</td>\n",
       "    </tr>\n",
       "    <tr>\n",
       "      <th>3</th>\n",
       "      <td>2022/09/14 8:21:58 PM OEZ</td>\n",
       "      <td>teils teils</td>\n",
       "      <td>trifft eher zu</td>\n",
       "      <td>4</td>\n",
       "      <td>trifft überhaupt nicht zu</td>\n",
       "      <td>9</td>\n",
       "      <td>ca. 100%</td>\n",
       "      <td>4</td>\n",
       "      <td>3000</td>\n",
       "      <td>34</td>\n",
       "      <td>34</td>\n",
       "      <td>Ja</td>\n",
       "      <td>22</td>\n",
       "      <td>Männlich</td>\n",
       "    </tr>\n",
       "    <tr>\n",
       "      <th>4</th>\n",
       "      <td>2022/09/14 8:21:58 PM OEZ</td>\n",
       "      <td>teils teils</td>\n",
       "      <td>trifft eher zu</td>\n",
       "      <td>4</td>\n",
       "      <td>trifft überhaupt nicht zu</td>\n",
       "      <td>9</td>\n",
       "      <td>ca. 100%</td>\n",
       "      <td>4</td>\n",
       "      <td>3000</td>\n",
       "      <td>34</td>\n",
       "      <td>34</td>\n",
       "      <td>Ja</td>\n",
       "      <td>22</td>\n",
       "      <td>Männlich</td>\n",
       "    </tr>\n",
       "  </tbody>\n",
       "</table>\n",
       "</div>"
      ],
      "text/plain": [
       "                 Zeitstempel Ich bin sportlich Ich bin fleißig.  \\\n",
       "0  2022/09/14 8:21:58 PM OEZ       teils teils   trifft eher zu   \n",
       "1  2022/09/14 8:21:58 PM OEZ       teils teils   trifft eher zu   \n",
       "2  2022/09/14 8:21:58 PM OEZ       teils teils   trifft eher zu   \n",
       "3  2022/09/14 8:21:58 PM OEZ       teils teils   trifft eher zu   \n",
       "4  2022/09/14 8:21:58 PM OEZ       teils teils   trifft eher zu   \n",
       "\n",
       "   Von Rückschlägen lasse ich mich nicht entmutigen.  \\\n",
       "0                                                  4   \n",
       "1                                                  4   \n",
       "2                                                  4   \n",
       "3                                                  4   \n",
       "4                                                  4   \n",
       "\n",
       "  Meine Fähigkeiten und Talente sind vorgegeben und ich kann daran nicht viel ändern.  \\\n",
       "0                          trifft überhaupt nicht zu                                    \n",
       "1                          trifft überhaupt nicht zu                                    \n",
       "2                          trifft überhaupt nicht zu                                    \n",
       "3                          trifft überhaupt nicht zu                                    \n",
       "4                          trifft überhaupt nicht zu                                    \n",
       "\n",
       "   1990 lebten 58 % der Weltbevölkerung in Ländern mit niedrigem Einkommen. Wie hoch ist der Anteil heute? Geben Sie eine Zahl ein (z. B. 9, 37 oder 61)  \\\n",
       "0                                                  9                                                                                                       \n",
       "1                                                  9                                                                                                       \n",
       "2                                                  9                                                                                                       \n",
       "3                                                  9                                                                                                       \n",
       "4                                                  9                                                                                                       \n",
       "\n",
       "  Wie viel der weltweit verbrauchten Energie stammt aus Erdgas, Kohle und Öl?  \\\n",
       "0                                           ca. 100%                            \n",
       "1                                           ca. 100%                            \n",
       "2                                           ca. 100%                            \n",
       "3                                           ca. 100%                            \n",
       "4                                           ca. 100%                            \n",
       "\n",
       "   Welcher Anteil der Weltbevölkerung lebt in Megacitys (Städte mit mindestens 10 Millionen Einwohnern)?  \\\n",
       "0                                                  4                                                       \n",
       "1                                                  4                                                       \n",
       "2                                                  4                                                       \n",
       "3                                                  4                                                       \n",
       "4                                                  4                                                       \n",
       "\n",
       "   Wie viele Geleebohnen befinden sich in diesem sechseckigen Glas?  \\\n",
       "0                                               3000                  \n",
       "1                                               3000                  \n",
       "2                                               3000                  \n",
       "3                                               3000                  \n",
       "4                                               3000                  \n",
       "\n",
       "   Wie viele Minuten verbringen Sie an einem typischen Tag in sozialen Medien (Facebook, Instagram, Snapchat, etc.)?  \\\n",
       "0                                                 34                                                                   \n",
       "1                                                 34                                                                   \n",
       "2                                                 34                                                                   \n",
       "3                                                 34                                                                   \n",
       "4                                                 34                                                                   \n",
       "\n",
       "   Wie viele Minuten investieren Sie ca. pro Tag in Ihr Studium (abgesehen von Lehrveranstaltungen)?  \\\n",
       "0                                                 34                                                   \n",
       "1                                                 34                                                   \n",
       "2                                                 34                                                   \n",
       "3                                                 34                                                   \n",
       "4                                                 34                                                   \n",
       "\n",
       "  Lesen Sie zur Zeit ein Buch?  Wie alt sind Sie? Sie sind ...  \n",
       "0                           Ja                 22     Männlich  \n",
       "1                           Ja                 22     Männlich  \n",
       "2                           Ja                 22     Männlich  \n",
       "3                           Ja                 22     Männlich  \n",
       "4                           Ja                 22     Männlich  "
      ]
     },
     "execution_count": 26,
     "metadata": {},
     "output_type": "execute_result"
    }
   ],
   "source": [
    "df"
   ]
  },
  {
   "cell_type": "code",
   "execution_count": 27,
   "metadata": {},
   "outputs": [
    {
     "data": {
      "text/plain": [
       "Zeitstempel                                                                                                                                              object\n",
       "Ich bin sportlich                                                                                                                                        object\n",
       "Ich bin fleißig.                                                                                                                                         object\n",
       "Von Rückschlägen lasse ich mich nicht entmutigen.                                                                                                         int64\n",
       "Meine Fähigkeiten und Talente sind vorgegeben und ich kann daran nicht viel ändern.                                                                      object\n",
       "1990 lebten 58 % der Weltbevölkerung in Ländern mit niedrigem Einkommen. Wie hoch ist der Anteil heute? Geben Sie eine Zahl ein (z. B. 9, 37 oder 61)     int64\n",
       "Wie viel der weltweit verbrauchten Energie stammt aus Erdgas, Kohle und Öl?                                                                              object\n",
       "Welcher Anteil der Weltbevölkerung lebt in Megacitys (Städte mit mindestens 10 Millionen Einwohnern)?                                                     int64\n",
       "Wie viele Geleebohnen befinden sich in diesem sechseckigen Glas?                                                                                          int64\n",
       "Wie viele Minuten verbringen Sie an einem typischen Tag in sozialen Medien (Facebook, Instagram, Snapchat, etc.)?                                         int64\n",
       "Wie viele Minuten investieren Sie ca. pro Tag in Ihr Studium (abgesehen von Lehrveranstaltungen)?                                                         int64\n",
       "Lesen Sie zur Zeit ein Buch?                                                                                                                             object\n",
       "Wie alt sind Sie?                                                                                                                                         int64\n",
       "Sie sind ...                                                                                                                                             object\n",
       "dtype: object"
      ]
     },
     "execution_count": 27,
     "metadata": {},
     "output_type": "execute_result"
    }
   ],
   "source": [
    "df.dtypes"
   ]
  },
  {
   "cell_type": "code",
   "execution_count": 28,
   "metadata": {},
   "outputs": [
    {
     "name": "stdout",
     "output_type": "stream",
     "text": [
      "<class 'pandas.core.frame.DataFrame'>\n",
      "RangeIndex: 5 entries, 0 to 4\n",
      "Data columns (total 14 columns):\n",
      " #   Column                                                                                                                                                 Non-Null Count  Dtype \n",
      "---  ------                                                                                                                                                 --------------  ----- \n",
      " 0   Zeitstempel                                                                                                                                            5 non-null      object\n",
      " 1   Ich bin sportlich                                                                                                                                      5 non-null      object\n",
      " 2   Ich bin fleißig.                                                                                                                                       5 non-null      object\n",
      " 3   Von Rückschlägen lasse ich mich nicht entmutigen.                                                                                                      5 non-null      int64 \n",
      " 4   Meine Fähigkeiten und Talente sind vorgegeben und ich kann daran nicht viel ändern.                                                                    5 non-null      object\n",
      " 5   1990 lebten 58 % der Weltbevölkerung in Ländern mit niedrigem Einkommen. Wie hoch ist der Anteil heute? Geben Sie eine Zahl ein (z. B. 9, 37 oder 61)  5 non-null      int64 \n",
      " 6   Wie viel der weltweit verbrauchten Energie stammt aus Erdgas, Kohle und Öl?                                                                            5 non-null      object\n",
      " 7   Welcher Anteil der Weltbevölkerung lebt in Megacitys (Städte mit mindestens 10 Millionen Einwohnern)?                                                  5 non-null      int64 \n",
      " 8   Wie viele Geleebohnen befinden sich in diesem sechseckigen Glas?                                                                                       5 non-null      int64 \n",
      " 9   Wie viele Minuten verbringen Sie an einem typischen Tag in sozialen Medien (Facebook, Instagram, Snapchat, etc.)?                                      5 non-null      int64 \n",
      " 10  Wie viele Minuten investieren Sie ca. pro Tag in Ihr Studium (abgesehen von Lehrveranstaltungen)?                                                      5 non-null      int64 \n",
      " 11  Lesen Sie zur Zeit ein Buch?                                                                                                                           5 non-null      object\n",
      " 12  Wie alt sind Sie?                                                                                                                                      5 non-null      int64 \n",
      " 13  Sie sind ...                                                                                                                                           5 non-null      object\n",
      "dtypes: int64(7), object(7)\n",
      "memory usage: 688.0+ bytes\n"
     ]
    }
   ],
   "source": [
    "df.info()"
   ]
  },
  {
   "cell_type": "markdown",
   "metadata": {},
   "source": [
    "## Daten anpassen"
   ]
  },
  {
   "cell_type": "markdown",
   "metadata": {},
   "source": [
    "### Spaltennamen"
   ]
  },
  {
   "cell_type": "code",
   "execution_count": 29,
   "metadata": {},
   "outputs": [],
   "source": [
    "# Spaltennamen umbenennen\n",
    "df = df.rename(columns={ \n",
    "            \"Zeitstempel\": \"zeit\",\n",
    "            \"Ich bin sportlich\": \"sport\",\n",
    "            \"Ich bin fleißig.\": \"fleissig\",\n",
    "            \"Von Rückschlägen lasse ich mich nicht entmutigen.\": \"entmutigen\",\n",
    "            \"Meine Fähigkeiten und Talente sind vorgegeben und ich kann daran nicht viel ändern.\": 'talente',\n",
    "            \"1990 lebten 58 % der Weltbevölkerung in Ländern mit niedrigem Einkommen. Wie hoch ist der Anteil heute? Geben Sie eine Zahl ein (z. B. 9, 37 oder 61)\": \"einkommen\",\n",
    "            \"Wie viel der weltweit verbrauchten Energie stammt aus Erdgas, Kohle und Öl?\": \"energie\",\n",
    "            \"Welcher Anteil der Weltbevölkerung lebt in Megacitys (Städte mit mindestens 10 Millionen Einwohnern)?\": \"megacity\",\n",
    "            \"Wie viele Geleebohnen befinden sich in diesem sechseckigen Glas?\": \"geleebohnen\",\n",
    "            \"Wie viele Minuten verbringen Sie an einem typischen Tag in sozialen Medien (Facebook, Instagram, Snapchat, etc.)?\": \"soziale_medien\",\n",
    "            \"Wie viele Minuten investieren Sie ca. pro Tag in Ihr Studium (abgesehen von Lehrveranstaltungen)?\": \"studium\",\n",
    "            \"Lesen Sie zur Zeit ein Buch?\": \"buch\",\n",
    "            \"Wie alt sind Sie?\": \"alter\",\n",
    "            \"Sie sind ...\": \"geschlecht\"\n",
    "}, errors=\"raise\")"
   ]
  },
  {
   "cell_type": "code",
   "execution_count": 30,
   "metadata": {},
   "outputs": [
    {
     "name": "stdout",
     "output_type": "stream",
     "text": [
      "<class 'pandas.core.frame.DataFrame'>\n",
      "RangeIndex: 5 entries, 0 to 4\n",
      "Data columns (total 14 columns):\n",
      " #   Column          Non-Null Count  Dtype \n",
      "---  ------          --------------  ----- \n",
      " 0   zeit            5 non-null      object\n",
      " 1   sport           5 non-null      object\n",
      " 2   fleissig        5 non-null      object\n",
      " 3   entmutigen      5 non-null      int64 \n",
      " 4   talente         5 non-null      object\n",
      " 5   einkommen       5 non-null      int64 \n",
      " 6   energie         5 non-null      object\n",
      " 7   megacity        5 non-null      int64 \n",
      " 8   geleebohnen     5 non-null      int64 \n",
      " 9   soziale_medien  5 non-null      int64 \n",
      " 10  studium         5 non-null      int64 \n",
      " 11  buch            5 non-null      object\n",
      " 12  alter           5 non-null      int64 \n",
      " 13  geschlecht      5 non-null      object\n",
      "dtypes: int64(7), object(7)\n",
      "memory usage: 688.0+ bytes\n"
     ]
    }
   ],
   "source": [
    "df.info()"
   ]
  },
  {
   "cell_type": "markdown",
   "metadata": {},
   "source": [
    "### Variablen anpassen"
   ]
  },
  {
   "cell_type": "markdown",
   "metadata": {},
   "source": [
    "#### Nominale Variablen"
   ]
  },
  {
   "cell_type": "code",
   "execution_count": 31,
   "metadata": {},
   "outputs": [],
   "source": [
    "# Liste mit nominalen Variablen erstellen\n",
    "nominal_list = [\"buch\", \"geschlecht\"]"
   ]
  },
  {
   "cell_type": "code",
   "execution_count": 32,
   "metadata": {},
   "outputs": [],
   "source": [
    "# Nominale Variablen als kategorial formatieren (category)\n",
    "for i in nominal_list:\n",
    "    df[i] = df[i].astype(\"category\")"
   ]
  },
  {
   "cell_type": "code",
   "execution_count": 33,
   "metadata": {},
   "outputs": [
    {
     "name": "stdout",
     "output_type": "stream",
     "text": [
      "<class 'pandas.core.frame.DataFrame'>\n",
      "RangeIndex: 5 entries, 0 to 4\n",
      "Data columns (total 2 columns):\n",
      " #   Column      Non-Null Count  Dtype   \n",
      "---  ------      --------------  -----   \n",
      " 0   buch        5 non-null      category\n",
      " 1   geschlecht  5 non-null      category\n",
      "dtypes: category(2)\n",
      "memory usage: 370.0 bytes\n"
     ]
    }
   ],
   "source": [
    "# Nominale Variablen anzeigen lassen\n",
    "df[nominal_list].info()"
   ]
  },
  {
   "cell_type": "markdown",
   "metadata": {},
   "source": [
    "#### Ordinale Variablen"
   ]
  },
  {
   "cell_type": "markdown",
   "metadata": {},
   "source": [
    "Die Variablen `sport`,`fleissig`, `talente` und `entmutigen` wurden mit Hilfe einer so genannten [Likert-Skala](https://de.wikipedia.org/wiki/Likert-Skala) erhoben. \n",
    "\n",
    "Die Antwortmöglichkeiten reichen bei der Likertskala typischerweise von „trifft überhaupt nicht zu“ bis \"trifft völlig zu“, wobei eine gerade Zahl der Antwortmöglichkeiten ebenso gebräuchlich ist wie eine ungerade Anzahl. Es ist jedoch sinnvoll, in einem Fragebogen nur eine der beiden Varianten zu verwenden. Zudem sollte die Reihenfolge der Antwortmöglichkeiten immer identisch sein.\n",
    "\n",
    "- Eine **ungerade Anzahl** wird verwendet, wenn eine mittlere Ausprägung (bspw. \"teils teils\") sinnvoll ist. \n",
    "\n",
    "- Eine **gerade Anzahl** zwingt dagegen zur Entscheidung zu einer Seite (tendenzielle Zustimmung oder Ablehnung).\n",
    "\n",
    "Da wir nicht davon ausgehen können, dass eine befragte Person die Abstände der einzelnen Antwortmöglichkeiten als gleich weit entfernt wahrnimmt (äquidistant), handelt es sich streng genommen um ein ordinales Skalenniveau. Um bei der späteren Auswertung die erhobenen Daten aber dennoch wie intervallskalierte Daten behandeln zu können, behandelt man die Variablen oftmals als \"quais-metrisch\" und unterstellt somit (zumindest annäherungsweise) äquidistante Abstände. \n",
    "\n",
    "Wir behandeln in Folgenden zwei unterschiedliche Optionen zum Umgang mit den Variablen:\n",
    "\n",
    "- Option 1: Wir behandeln die Variablen als ordinale Variablen (wird im Anschluss gezeigt).\n",
    "\n",
    "- Option 2: Wir behandeln die Variablen als \"quasimetrische\" Variablen - d.h. wie numerische Daten (diese Option wird in dem Abschnitt \"Quasi-metrische Variablen\" behandelt)."
   ]
  },
  {
   "cell_type": "markdown",
   "metadata": {},
   "source": [
    "In den Fragen wurde \"sport\", \"fleissig\", \"talente\" mit Hilfe von Bezeichnungen wie \"trifft überhaupt nicht zu\" erhoben, während \"entmutigen\" mit Hilfe von numerischen Werten (1 bis 5) erfasst wurde. Da wir besser mit einheitlich skalierten Werten umgehen können, wird zunächst die Variable \"entmutigen\" in das gleiche Format überführt."
   ]
  },
  {
   "cell_type": "markdown",
   "metadata": {},
   "source": [
    "Da wir die Variable `entmutigen`nicht versehentlich durch Datentransformationen fehlerhaft verändern möchten, speichern wir sie zunächst nochmals in der originalen Version ab (als `entmutigen_orig`). "
   ]
  },
  {
   "cell_type": "code",
   "execution_count": 34,
   "metadata": {},
   "outputs": [],
   "source": [
    "df['entmutigen_orig'] = df['entmutigen']"
   ]
  },
  {
   "cell_type": "markdown",
   "metadata": {},
   "source": [
    "Erzeugung der Listen für die Veränderung der Variable (in der korrekten Reihenfolge):"
   ]
  },
  {
   "cell_type": "code",
   "execution_count": 35,
   "metadata": {},
   "outputs": [],
   "source": [
    "werte = [1, 2, 3, 4, 5]\n",
    "\n",
    "likert =[\"trifft überhaupt nicht zu\",\n",
    "         \"trifft eher nicht zu\",\n",
    "         \"teils teils\",\n",
    "         \"trifft eher zu\",\n",
    "         \"trifft völlig zu\"]"
   ]
  },
  {
   "cell_type": "code",
   "execution_count": 36,
   "metadata": {},
   "outputs": [
    {
     "data": {
      "text/plain": [
       "0    trifft eher zu\n",
       "1    trifft eher zu\n",
       "2    trifft eher zu\n",
       "3    trifft eher zu\n",
       "4    trifft eher zu\n",
       "Name: entmutigen, dtype: object"
      ]
     },
     "execution_count": 36,
     "metadata": {},
     "output_type": "execute_result"
    }
   ],
   "source": [
    "df['entmutigen'].replace(werte, likert, inplace=True)\n",
    "\n",
    "df['entmutigen'].head()"
   ]
  },
  {
   "cell_type": "code",
   "execution_count": 37,
   "metadata": {},
   "outputs": [
    {
     "data": {
      "text/plain": [
       "0    4\n",
       "1    4\n",
       "2    4\n",
       "3    4\n",
       "4    4\n",
       "Name: entmutigen_orig, dtype: int64"
      ]
     },
     "execution_count": 37,
     "metadata": {},
     "output_type": "execute_result"
    }
   ],
   "source": [
    "df['entmutigen_orig'].head()"
   ]
  },
  {
   "cell_type": "markdown",
   "metadata": {},
   "source": [
    "Erstellung einer Liste:"
   ]
  },
  {
   "cell_type": "code",
   "execution_count": 38,
   "metadata": {},
   "outputs": [],
   "source": [
    "ordinal_list = [\"sport\", \"fleissig\", \"talente\", \"entmutigen\"]"
   ]
  },
  {
   "cell_type": "code",
   "execution_count": 39,
   "metadata": {},
   "outputs": [
    {
     "data": {
      "text/plain": [
       "CategoricalDtype(categories=['trifft überhaupt nicht zu', 'trifft eher nicht zu',\n",
       "                  'teils teils', 'trifft eher zu', 'trifft völlig zu'],\n",
       ", ordered=True)"
      ]
     },
     "execution_count": 39,
     "metadata": {},
     "output_type": "execute_result"
    }
   ],
   "source": [
    "from pandas.api.types import CategoricalDtype\n",
    "\n",
    "cat_type= CategoricalDtype(categories=likert, ordered=True)\n",
    "\n",
    "cat_type"
   ]
  },
  {
   "cell_type": "code",
   "execution_count": 40,
   "metadata": {},
   "outputs": [],
   "source": [
    "df[ordinal_list] = df[ordinal_list].astype(cat_type)"
   ]
  },
  {
   "cell_type": "code",
   "execution_count": 41,
   "metadata": {},
   "outputs": [
    {
     "data": {
      "text/plain": [
       "0    teils teils\n",
       "1    teils teils\n",
       "2    teils teils\n",
       "3    teils teils\n",
       "4    teils teils\n",
       "Name: sport, dtype: category\n",
       "Categories (5, object): ['trifft überhaupt nicht zu' < 'trifft eher nicht zu' < 'teils teils' < 'trifft eher zu' < 'trifft völlig zu']"
      ]
     },
     "execution_count": 41,
     "metadata": {},
     "output_type": "execute_result"
    }
   ],
   "source": [
    "df[\"sport\"]"
   ]
  },
  {
   "cell_type": "code",
   "execution_count": 42,
   "metadata": {},
   "outputs": [
    {
     "data": {
      "text/plain": [
       "Index(['trifft überhaupt nicht zu', 'trifft eher nicht zu', 'teils teils',\n",
       "       'trifft eher zu', 'trifft völlig zu'],\n",
       "      dtype='object')"
      ]
     },
     "execution_count": 42,
     "metadata": {},
     "output_type": "execute_result"
    }
   ],
   "source": [
    "# Anzeige der Ausprägungen\n",
    "df['sport'].cat.categories"
   ]
  },
  {
   "cell_type": "markdown",
   "metadata": {},
   "source": [
    "### Numerische Variablen"
   ]
  },
  {
   "cell_type": "markdown",
   "metadata": {},
   "source": [
    "Wir behandeln zunächst die \"eindeutig\" numerischen Variablen (d.h. wir ignorieren die quasi-metrischen). diese wären:\n",
    "\n",
    "- einkommen\n",
    "- energie\n",
    "- megacity\n",
    "- geleebohnen\n",
    "- soziale_medien\n",
    "- studium\n",
    "- alter"
   ]
  },
  {
   "cell_type": "code",
   "execution_count": 43,
   "metadata": {},
   "outputs": [],
   "source": [
    "num_list = ['einkommen', 'energie', 'megacity', 'geleebohnen', \n",
    "            'soziale_medien', 'studium', 'alter']"
   ]
  },
  {
   "cell_type": "code",
   "execution_count": 44,
   "metadata": {},
   "outputs": [
    {
     "name": "stdout",
     "output_type": "stream",
     "text": [
      "<class 'pandas.core.frame.DataFrame'>\n",
      "RangeIndex: 5 entries, 0 to 4\n",
      "Data columns (total 7 columns):\n",
      " #   Column          Non-Null Count  Dtype \n",
      "---  ------          --------------  ----- \n",
      " 0   einkommen       5 non-null      int64 \n",
      " 1   energie         5 non-null      object\n",
      " 2   megacity        5 non-null      int64 \n",
      " 3   geleebohnen     5 non-null      int64 \n",
      " 4   soziale_medien  5 non-null      int64 \n",
      " 5   studium         5 non-null      int64 \n",
      " 6   alter           5 non-null      int64 \n",
      "dtypes: int64(6), object(1)\n",
      "memory usage: 408.0+ bytes\n"
     ]
    }
   ],
   "source": [
    "df[num_list].info()"
   ]
  },
  {
   "cell_type": "markdown",
   "metadata": {},
   "source": [
    "Wir können mit `df.info()` erkennen, dass abgesehen von `energie` bereits alle Variablen korrrekt als \"int64\" (siehe zur Bedeutung diesen [Stackoverflow-Beitrag](https://stackoverflow.com/questions/9696660/what-is-the-difference-between-int-int16-int32-and-int64)) gespeichert wurden."
   ]
  },
  {
   "cell_type": "code",
   "execution_count": 45,
   "metadata": {},
   "outputs": [
    {
     "data": {
      "text/plain": [
       "0    ca. 100%\n",
       "1    ca. 100%\n",
       "2    ca. 100%\n",
       "3    ca. 100%\n",
       "4    ca. 100%\n",
       "Name: energie, dtype: object"
      ]
     },
     "execution_count": 45,
     "metadata": {},
     "output_type": "execute_result"
    }
   ],
   "source": [
    "df['energie'].head()"
   ]
  },
  {
   "cell_type": "markdown",
   "metadata": {},
   "source": [
    "In den Antwortmöglichkeiten der Variable waren neben numerischen Werten auch Buchstaben und ein Sonderzeichen enthalen: \"ca.\" und \"%\". Damit wir sinnvoll mit der Variable arbeiten können, müssen diese entfernt werden. \n",
    "\n",
    "Da wir die Variable nicht versehentlich durch Datentransformationen korrumpieren möchten, speichern wir sie zunächst nochmals in der originalen Version ab (als `energie_orig`). Um die numerischen Werte leichter extrahieren zu können, nutzen wir das Format \"String\"."
   ]
  },
  {
   "cell_type": "code",
   "execution_count": 46,
   "metadata": {},
   "outputs": [],
   "source": [
    "df['energie_orig'] = df['energie'].astype(\"string\")"
   ]
  },
  {
   "cell_type": "markdown",
   "metadata": {},
   "source": [
    "Im nächsten Schritt nutzen wir einen [regulärer Ausdruck](https://www.w3schools.com/python/python_regex.asp) (englisch regular expression, Abkürzung RegExp oder Regex) um die Zahl aus dem String zu extrahieren. "
   ]
  },
  {
   "cell_type": "markdown",
   "metadata": {},
   "source": [
    "|Ausdruck|Bedeutung|Beschreibung|\n",
    "|:----|:----|:----|\n",
    "|\\d|digit|eine Ziffer, also [0-9] (und evtl. auch weitere Zahlzeichen in Unicode, z. B. bengalische Ziffern)|\n",
    "|\\D|no digit|ein Zeichen, das keine Ziffer ist, also [^\\d]|\n",
    "|\\w|word character|ein Buchstabe, eine Ziffer oder der Unterstrich, also [a-zA-Z_0-9] (und evtl. auch nicht-lateinische Buchstaben, z. B. Umlaute)|\n",
    "|\\W|no word character|ein Zeichen, das weder Buchstabe noch Zahl noch Unterstrich ist, also [^\\w]|\n",
    "|\\s|whitespace|meist zumindest das Leerzeichen und die Klasse der Steuerzeichen \\f, \\n, \\r, \\t und \\v|\n",
    "|\\S|no whitespace|ein Zeichen, das kein Whitespace ist, also [^\\s]|\n"
   ]
  },
  {
   "cell_type": "markdown",
   "metadata": {},
   "source": [
    "Falls mehr als ein einzelnes Zeichen extrahiert werden soll, muss am Ende des Ausdrucks ein `+` hinzugefügt werden."
   ]
  },
  {
   "cell_type": "markdown",
   "metadata": {},
   "source": [
    "Wir nutzen regular expressions und überschreiben die alte Variable energie mit dem neuen Eintrag. Zudem speichern wir sie als interger."
   ]
  },
  {
   "cell_type": "code",
   "execution_count": 47,
   "metadata": {},
   "outputs": [],
   "source": [
    "df['energie'] = df['energie_orig'].str.extract('(\\d+)').astype(int)"
   ]
  },
  {
   "cell_type": "code",
   "execution_count": 48,
   "metadata": {},
   "outputs": [
    {
     "data": {
      "text/html": [
       "<div>\n",
       "<style scoped>\n",
       "    .dataframe tbody tr th:only-of-type {\n",
       "        vertical-align: middle;\n",
       "    }\n",
       "\n",
       "    .dataframe tbody tr th {\n",
       "        vertical-align: top;\n",
       "    }\n",
       "\n",
       "    .dataframe thead th {\n",
       "        text-align: right;\n",
       "    }\n",
       "</style>\n",
       "<table border=\"1\" class=\"dataframe\">\n",
       "  <thead>\n",
       "    <tr style=\"text-align: right;\">\n",
       "      <th></th>\n",
       "      <th>energie_orig</th>\n",
       "      <th>energie</th>\n",
       "    </tr>\n",
       "  </thead>\n",
       "  <tbody>\n",
       "    <tr>\n",
       "      <th>0</th>\n",
       "      <td>ca. 100%</td>\n",
       "      <td>100</td>\n",
       "    </tr>\n",
       "    <tr>\n",
       "      <th>1</th>\n",
       "      <td>ca. 100%</td>\n",
       "      <td>100</td>\n",
       "    </tr>\n",
       "    <tr>\n",
       "      <th>2</th>\n",
       "      <td>ca. 100%</td>\n",
       "      <td>100</td>\n",
       "    </tr>\n",
       "    <tr>\n",
       "      <th>3</th>\n",
       "      <td>ca. 100%</td>\n",
       "      <td>100</td>\n",
       "    </tr>\n",
       "    <tr>\n",
       "      <th>4</th>\n",
       "      <td>ca. 100%</td>\n",
       "      <td>100</td>\n",
       "    </tr>\n",
       "  </tbody>\n",
       "</table>\n",
       "</div>"
      ],
      "text/plain": [
       "  energie_orig  energie\n",
       "0     ca. 100%      100\n",
       "1     ca. 100%      100\n",
       "2     ca. 100%      100\n",
       "3     ca. 100%      100\n",
       "4     ca. 100%      100"
      ]
     },
     "execution_count": 48,
     "metadata": {},
     "output_type": "execute_result"
    }
   ],
   "source": [
    "df[['energie_orig', 'energie']].head()"
   ]
  },
  {
   "cell_type": "markdown",
   "metadata": {},
   "source": [
    "### Quasi-metrische Variablen"
   ]
  },
  {
   "cell_type": "markdown",
   "metadata": {},
   "source": [
    "Wie bereits erwähnt wurden die Variablen `sport`,`fleissig`, und `talente` mit Hilfe einer  [Likert-Skala](https://de.wikipedia.org/wiki/Likert-Skala) erhoben und könnten somit auch als \"quasi-metrisch\" behandelt werden (anstelle von ordinal)."
   ]
  },
  {
   "cell_type": "markdown",
   "metadata": {},
   "source": [
    "Dabei muss jedoch beachtet werden, dass bspw. der Mittelwert aufgrund der Art der Messung (insbesondere wenn eine neutrale mittlere Ausprägung verwendet wird) an Aussagekraft verlieren."
   ]
  },
  {
   "cell_type": "markdown",
   "metadata": {},
   "source": [
    "Damit wir die Originaldaten nicht \"verlieren\", erzeugen wir neue Variablen. Dafür kopieren wir die Daten und fügen diesen die Endung \"qm\" (für quasimetrisch) hinzu. "
   ]
  },
  {
   "cell_type": "code",
   "execution_count": 49,
   "metadata": {},
   "outputs": [],
   "source": [
    "for i in ordinal_list:\n",
    "    df[i + \"_qm\"] = df[i]"
   ]
  },
  {
   "cell_type": "code",
   "execution_count": 50,
   "metadata": {},
   "outputs": [
    {
     "data": {
      "text/plain": [
       "['sport_qm', 'fleissig_qm', 'talente_qm', 'entmutigen_qm']"
      ]
     },
     "execution_count": 50,
     "metadata": {},
     "output_type": "execute_result"
    }
   ],
   "source": [
    "# Erstellung der Liste mit Hilfe von filter und regular expressions\n",
    "qm_list = df.filter(regex='_qm').columns.to_list()\n",
    "\n",
    "qm_list"
   ]
  },
  {
   "cell_type": "code",
   "execution_count": 51,
   "metadata": {},
   "outputs": [
    {
     "name": "stdout",
     "output_type": "stream",
     "text": [
      "<class 'pandas.core.frame.DataFrame'>\n",
      "RangeIndex: 5 entries, 0 to 4\n",
      "Data columns (total 4 columns):\n",
      " #   Column         Non-Null Count  Dtype   \n",
      "---  ------         --------------  -----   \n",
      " 0   sport_qm       5 non-null      category\n",
      " 1   fleissig_qm    5 non-null      category\n",
      " 2   talente_qm     5 non-null      category\n",
      " 3   entmutigen_qm  5 non-null      category\n",
      "dtypes: category(4)\n",
      "memory usage: 996.0 bytes\n"
     ]
    }
   ],
   "source": [
    "df[qm_list].info()"
   ]
  },
  {
   "cell_type": "markdown",
   "metadata": {},
   "source": [
    "Wir nutzen nun ein ähnliches Vorgehen wie bei der Anpassung der Variable \"entmutigen\""
   ]
  },
  {
   "cell_type": "code",
   "execution_count": 52,
   "metadata": {},
   "outputs": [],
   "source": [
    "for i in qm_list:\n",
    "    df[i].replace(likert, werte, inplace=True)\n",
    "    df[i] = df[i].astype(\"int\")"
   ]
  },
  {
   "cell_type": "code",
   "execution_count": 53,
   "metadata": {},
   "outputs": [
    {
     "data": {
      "text/html": [
       "<div>\n",
       "<style scoped>\n",
       "    .dataframe tbody tr th:only-of-type {\n",
       "        vertical-align: middle;\n",
       "    }\n",
       "\n",
       "    .dataframe tbody tr th {\n",
       "        vertical-align: top;\n",
       "    }\n",
       "\n",
       "    .dataframe thead th {\n",
       "        text-align: right;\n",
       "    }\n",
       "</style>\n",
       "<table border=\"1\" class=\"dataframe\">\n",
       "  <thead>\n",
       "    <tr style=\"text-align: right;\">\n",
       "      <th></th>\n",
       "      <th>sport_qm</th>\n",
       "      <th>fleissig_qm</th>\n",
       "      <th>talente_qm</th>\n",
       "      <th>entmutigen_qm</th>\n",
       "    </tr>\n",
       "  </thead>\n",
       "  <tbody>\n",
       "    <tr>\n",
       "      <th>0</th>\n",
       "      <td>3</td>\n",
       "      <td>4</td>\n",
       "      <td>1</td>\n",
       "      <td>4</td>\n",
       "    </tr>\n",
       "    <tr>\n",
       "      <th>1</th>\n",
       "      <td>3</td>\n",
       "      <td>4</td>\n",
       "      <td>1</td>\n",
       "      <td>4</td>\n",
       "    </tr>\n",
       "    <tr>\n",
       "      <th>2</th>\n",
       "      <td>3</td>\n",
       "      <td>4</td>\n",
       "      <td>1</td>\n",
       "      <td>4</td>\n",
       "    </tr>\n",
       "    <tr>\n",
       "      <th>3</th>\n",
       "      <td>3</td>\n",
       "      <td>4</td>\n",
       "      <td>1</td>\n",
       "      <td>4</td>\n",
       "    </tr>\n",
       "    <tr>\n",
       "      <th>4</th>\n",
       "      <td>3</td>\n",
       "      <td>4</td>\n",
       "      <td>1</td>\n",
       "      <td>4</td>\n",
       "    </tr>\n",
       "  </tbody>\n",
       "</table>\n",
       "</div>"
      ],
      "text/plain": [
       "   sport_qm  fleissig_qm  talente_qm  entmutigen_qm\n",
       "0         3            4           1              4\n",
       "1         3            4           1              4\n",
       "2         3            4           1              4\n",
       "3         3            4           1              4\n",
       "4         3            4           1              4"
      ]
     },
     "execution_count": 53,
     "metadata": {},
     "output_type": "execute_result"
    }
   ],
   "source": [
    "df[qm_list].head()"
   ]
  },
  {
   "cell_type": "code",
   "execution_count": 54,
   "metadata": {},
   "outputs": [
    {
     "name": "stdout",
     "output_type": "stream",
     "text": [
      "<class 'pandas.core.frame.DataFrame'>\n",
      "RangeIndex: 5 entries, 0 to 4\n",
      "Data columns (total 4 columns):\n",
      " #   Column         Non-Null Count  Dtype\n",
      "---  ------         --------------  -----\n",
      " 0   sport_qm       5 non-null      int64\n",
      " 1   fleissig_qm    5 non-null      int64\n",
      " 2   talente_qm     5 non-null      int64\n",
      " 3   entmutigen_qm  5 non-null      int64\n",
      "dtypes: int64(4)\n",
      "memory usage: 288.0 bytes\n"
     ]
    }
   ],
   "source": [
    "df[qm_list].info()"
   ]
  },
  {
   "cell_type": "markdown",
   "metadata": {},
   "source": [
    "## Daten speichern"
   ]
  },
  {
   "cell_type": "markdown",
   "metadata": {},
   "source": [
    "Wir versehen den Dateinamen mit dem aktuellen Datum (damit wir leichter die jeweils aktuellste Version finden können)"
   ]
  },
  {
   "cell_type": "code",
   "execution_count": 60,
   "metadata": {},
   "outputs": [],
   "source": [
    "import time\n",
    "\n",
    "TIME = \"-\" + time.strftime(\"%Y%m%d-%H%M\")"
   ]
  },
  {
   "cell_type": "markdown",
   "metadata": {},
   "source": [
    "Speichern als CSV:"
   ]
  },
  {
   "cell_type": "code",
   "execution_count": 61,
   "metadata": {},
   "outputs": [],
   "source": [
    "SUBPATH = \"processed/\""
   ]
  },
  {
   "cell_type": "code",
   "execution_count": 62,
   "metadata": {},
   "outputs": [],
   "source": [
    "df.to_csv(PARENT_PATH + PATH + SUBPATH + FILE + TIME + FORMAT)"
   ]
  },
  {
   "cell_type": "markdown",
   "metadata": {},
   "source": [
    "Speichern als Excel-Datei:"
   ]
  },
  {
   "cell_type": "code",
   "execution_count": 63,
   "metadata": {},
   "outputs": [],
   "source": [
    "FORMAT = \".xlsx\"\n",
    "\n",
    "df.to_excel(PARENT_PATH + PATH + SUBPATH + FILE + TIME + FORMAT, index=False)"
   ]
  }
 ],
 "metadata": {
  "celltoolbar": "Slideshow",
  "kernelspec": {
   "display_name": "Python 3.9.13 ('ds')",
   "language": "python",
   "name": "python3"
  },
  "language_info": {
   "codemirror_mode": {
    "name": "ipython",
    "version": 3
   },
   "file_extension": ".py",
   "mimetype": "text/x-python",
   "name": "python",
   "nbconvert_exporter": "python",
   "pygments_lexer": "ipython3",
   "version": "3.9.13"
  },
  "varInspector": {
   "cols": {
    "lenName": 16,
    "lenType": 16,
    "lenVar": 40
   },
   "kernels_config": {
    "python": {
     "delete_cmd_postfix": "",
     "delete_cmd_prefix": "del ",
     "library": "var_list.py",
     "varRefreshCmd": "print(var_dic_list())"
    },
    "r": {
     "delete_cmd_postfix": ") ",
     "delete_cmd_prefix": "rm(",
     "library": "var_list.r",
     "varRefreshCmd": "cat(var_dic_list()) "
    }
   },
   "types_to_exclude": [
    "module",
    "function",
    "builtin_function_or_method",
    "instance",
    "_Feature"
   ],
   "window_display": false
  },
  "vscode": {
   "interpreter": {
    "hash": "0de8387c967863cc622aba8b7ea5b466d4dfde089153d484429677aa77034389"
   }
  }
 },
 "nbformat": 4,
 "nbformat_minor": 2
}
