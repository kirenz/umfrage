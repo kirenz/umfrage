{
 "cells": [
  {
   "cell_type": "markdown",
   "metadata": {
    "slideshow": {
     "slide_type": "slide"
    }
   },
   "source": [
    "# Umfrage Teil II\n",
    "\n",
    "Deskriptive Analyse"
   ]
  },
  {
   "cell_type": "markdown",
   "metadata": {
    "slideshow": {
     "slide_type": "fragment"
    }
   },
   "source": [
    "## Daten importieren"
   ]
  },
  {
   "cell_type": "code",
   "execution_count": 2,
   "metadata": {
    "slideshow": {
     "slide_type": "subslide"
    }
   },
   "outputs": [],
   "source": [
    "from pathlib import Path\n",
    "\n",
    "PARENT_PATH = str(Path().resolve().parent) + \"/\"\n",
    "PATH = \"data/\"\n",
    "SUBPATH = \"processed/\"\n",
    "FILE = \"Fragebogen\"\n",
    "FORMAT = \".csv\""
   ]
  },
  {
   "cell_type": "code",
   "execution_count": 3,
   "metadata": {
    "slideshow": {
     "slide_type": "fragment"
    }
   },
   "outputs": [],
   "source": [
    "import pandas as pd\n",
    "\n",
    "df = pd.read_csv(PARENT_PATH + PATH + SUBPATH + FILE + FORMAT)"
   ]
  },
  {
   "cell_type": "markdown",
   "metadata": {
    "slideshow": {
     "slide_type": "slide"
    }
   },
   "source": [
    "## Daten vorbereiten"
   ]
  },
  {
   "cell_type": "code",
   "execution_count": 4,
   "metadata": {
    "slideshow": {
     "slide_type": "fragment"
    }
   },
   "outputs": [],
   "source": [
    "# Liste mit den noch enthaltenen Original-Spalten erstellen\n",
    "list_drop = df.filter(like='_orig', axis=1).columns.tolist()\n",
    "\n",
    "list_drop.append('zeit')\n",
    "\n",
    "# Wir entfernen die Original-Spalten und die Variable zeit\n",
    "df = df.drop(columns=list_drop)\n",
    "\n",
    "# Liste mit Dummy-Variablen erstellen\n",
    "list_dummy = df.filter(like='__', axis=1).columns\n",
    "\n",
    "# Dummy-Variablen als Objekt-Daten speichern\n",
    "for i in list_dummy:\n",
    "    df[i] = df[i].astype(\"object\")"
   ]
  },
  {
   "cell_type": "code",
   "execution_count": 5,
   "metadata": {
    "slideshow": {
     "slide_type": "subslide"
    }
   },
   "outputs": [],
   "source": [
    "import numpy as np\n",
    "\n",
    "# Liste für metrische Daten\n",
    "list_metric = df.select_dtypes(include=[np.number]).columns.tolist()\n",
    "\n",
    "# Liste für kategoriale Daten\n",
    "list_cat = df.select_dtypes(include=['object']).columns.tolist()\n",
    "\n",
    "# Kategoriale Daten formatieren\n",
    "\n",
    "for i in list_cat:\n",
    "    df[i] = df[i].astype(\"category\")"
   ]
  },
  {
   "cell_type": "markdown",
   "metadata": {
    "slideshow": {
     "slide_type": "slide"
    }
   },
   "source": [
    "## Datenüberblick"
   ]
  },
  {
   "cell_type": "code",
   "execution_count": 6,
   "metadata": {
    "slideshow": {
     "slide_type": "fragment"
    }
   },
   "outputs": [
    {
     "data": {
      "text/html": [
       "<div>\n",
       "<style scoped>\n",
       "    .dataframe tbody tr th:only-of-type {\n",
       "        vertical-align: middle;\n",
       "    }\n",
       "\n",
       "    .dataframe tbody tr th {\n",
       "        vertical-align: top;\n",
       "    }\n",
       "\n",
       "    .dataframe thead th {\n",
       "        text-align: right;\n",
       "    }\n",
       "</style>\n",
       "<table border=\"1\" class=\"dataframe\">\n",
       "  <thead>\n",
       "    <tr style=\"text-align: right;\">\n",
       "      <th></th>\n",
       "      <th>sport</th>\n",
       "      <th>fleissig</th>\n",
       "      <th>entmutigen</th>\n",
       "      <th>talente</th>\n",
       "      <th>einkommen</th>\n",
       "      <th>energie</th>\n",
       "      <th>megacity</th>\n",
       "      <th>geleebohnen</th>\n",
       "      <th>soziale_medien</th>\n",
       "      <th>studium</th>\n",
       "      <th>...</th>\n",
       "      <th>alter</th>\n",
       "      <th>geschlecht</th>\n",
       "      <th>buch__Ja</th>\n",
       "      <th>buch__Nein</th>\n",
       "      <th>geschlecht__Männlich</th>\n",
       "      <th>geschlecht__Weiblich</th>\n",
       "      <th>sport_qm</th>\n",
       "      <th>fleissig_qm</th>\n",
       "      <th>talente_qm</th>\n",
       "      <th>entmutigen_qm</th>\n",
       "    </tr>\n",
       "  </thead>\n",
       "  <tbody>\n",
       "    <tr>\n",
       "      <th>0</th>\n",
       "      <td>teils teils</td>\n",
       "      <td>trifft eher zu</td>\n",
       "      <td>trifft eher zu</td>\n",
       "      <td>trifft überhaupt nicht zu</td>\n",
       "      <td>9</td>\n",
       "      <td>42</td>\n",
       "      <td>4</td>\n",
       "      <td>3000</td>\n",
       "      <td>34</td>\n",
       "      <td>34</td>\n",
       "      <td>...</td>\n",
       "      <td>22</td>\n",
       "      <td>Männlich</td>\n",
       "      <td>1</td>\n",
       "      <td>0</td>\n",
       "      <td>1</td>\n",
       "      <td>0</td>\n",
       "      <td>3</td>\n",
       "      <td>4</td>\n",
       "      <td>1</td>\n",
       "      <td>4</td>\n",
       "    </tr>\n",
       "    <tr>\n",
       "      <th>1</th>\n",
       "      <td>trifft eher nicht zu</td>\n",
       "      <td>trifft eher nicht zu</td>\n",
       "      <td>trifft eher nicht zu</td>\n",
       "      <td>trifft eher zu</td>\n",
       "      <td>45</td>\n",
       "      <td>62</td>\n",
       "      <td>3</td>\n",
       "      <td>400</td>\n",
       "      <td>34</td>\n",
       "      <td>2</td>\n",
       "      <td>...</td>\n",
       "      <td>34</td>\n",
       "      <td>Weiblich</td>\n",
       "      <td>0</td>\n",
       "      <td>1</td>\n",
       "      <td>0</td>\n",
       "      <td>1</td>\n",
       "      <td>2</td>\n",
       "      <td>2</td>\n",
       "      <td>4</td>\n",
       "      <td>2</td>\n",
       "    </tr>\n",
       "    <tr>\n",
       "      <th>2</th>\n",
       "      <td>teils teils</td>\n",
       "      <td>trifft eher nicht zu</td>\n",
       "      <td>teils teils</td>\n",
       "      <td>trifft eher zu</td>\n",
       "      <td>34</td>\n",
       "      <td>82</td>\n",
       "      <td>5</td>\n",
       "      <td>4000</td>\n",
       "      <td>23</td>\n",
       "      <td>12</td>\n",
       "      <td>...</td>\n",
       "      <td>12</td>\n",
       "      <td>Männlich</td>\n",
       "      <td>1</td>\n",
       "      <td>0</td>\n",
       "      <td>1</td>\n",
       "      <td>0</td>\n",
       "      <td>3</td>\n",
       "      <td>2</td>\n",
       "      <td>4</td>\n",
       "      <td>3</td>\n",
       "    </tr>\n",
       "  </tbody>\n",
       "</table>\n",
       "<p>3 rows × 21 columns</p>\n",
       "</div>"
      ],
      "text/plain": [
       "                  sport              fleissig            entmutigen  \\\n",
       "0           teils teils        trifft eher zu        trifft eher zu   \n",
       "1  trifft eher nicht zu  trifft eher nicht zu  trifft eher nicht zu   \n",
       "2           teils teils  trifft eher nicht zu           teils teils   \n",
       "\n",
       "                     talente  einkommen  energie  megacity  geleebohnen  \\\n",
       "0  trifft überhaupt nicht zu          9       42         4         3000   \n",
       "1             trifft eher zu         45       62         3          400   \n",
       "2             trifft eher zu         34       82         5         4000   \n",
       "\n",
       "   soziale_medien  studium  ... alter  geschlecht buch__Ja buch__Nein  \\\n",
       "0              34       34  ...    22    Männlich        1          0   \n",
       "1              34        2  ...    34    Weiblich        0          1   \n",
       "2              23       12  ...    12    Männlich        1          0   \n",
       "\n",
       "  geschlecht__Männlich geschlecht__Weiblich sport_qm  fleissig_qm  talente_qm  \\\n",
       "0                    1                    0        3            4           1   \n",
       "1                    0                    1        2            2           4   \n",
       "2                    1                    0        3            2           4   \n",
       "\n",
       "   entmutigen_qm  \n",
       "0              4  \n",
       "1              2  \n",
       "2              3  \n",
       "\n",
       "[3 rows x 21 columns]"
      ]
     },
     "execution_count": 6,
     "metadata": {},
     "output_type": "execute_result"
    }
   ],
   "source": [
    "df"
   ]
  },
  {
   "cell_type": "code",
   "execution_count": 7,
   "metadata": {
    "slideshow": {
     "slide_type": "subslide"
    }
   },
   "outputs": [
    {
     "name": "stdout",
     "output_type": "stream",
     "text": [
      "<class 'pandas.core.frame.DataFrame'>\n",
      "RangeIndex: 3 entries, 0 to 2\n",
      "Data columns (total 21 columns):\n",
      " #   Column                Non-Null Count  Dtype   \n",
      "---  ------                --------------  -----   \n",
      " 0   sport                 3 non-null      category\n",
      " 1   fleissig              3 non-null      category\n",
      " 2   entmutigen            3 non-null      category\n",
      " 3   talente               3 non-null      category\n",
      " 4   einkommen             3 non-null      int64   \n",
      " 5   energie               3 non-null      int64   \n",
      " 6   megacity              3 non-null      int64   \n",
      " 7   geleebohnen           3 non-null      int64   \n",
      " 8   soziale_medien        3 non-null      int64   \n",
      " 9   studium               3 non-null      int64   \n",
      " 10  buch                  3 non-null      category\n",
      " 11  alter                 3 non-null      int64   \n",
      " 12  geschlecht            3 non-null      category\n",
      " 13  buch__Ja              3 non-null      category\n",
      " 14  buch__Nein            3 non-null      category\n",
      " 15  geschlecht__Männlich  3 non-null      category\n",
      " 16  geschlecht__Weiblich  3 non-null      category\n",
      " 17  sport_qm              3 non-null      int64   \n",
      " 18  fleissig_qm           3 non-null      int64   \n",
      " 19  talente_qm            3 non-null      int64   \n",
      " 20  entmutigen_qm         3 non-null      int64   \n",
      "dtypes: category(10), int64(11)\n",
      "memory usage: 1.6 KB\n"
     ]
    }
   ],
   "source": [
    "df.info()"
   ]
  },
  {
   "cell_type": "markdown",
   "metadata": {
    "slideshow": {
     "slide_type": "slide"
    }
   },
   "source": [
    "## Deskriptive Analyse"
   ]
  },
  {
   "cell_type": "markdown",
   "metadata": {
    "slideshow": {
     "slide_type": "fragment"
    }
   },
   "source": [
    "Wir beginnnen mit der deskriptiven Analyse"
   ]
  },
  {
   "cell_type": "markdown",
   "metadata": {
    "slideshow": {
     "slide_type": "slide"
    }
   },
   "source": [
    "### Kategoriale daten"
   ]
  },
  {
   "cell_type": "code",
   "execution_count": 8,
   "metadata": {
    "slideshow": {
     "slide_type": "fragment"
    }
   },
   "outputs": [
    {
     "data": {
      "text/html": [
       "<div>\n",
       "<style scoped>\n",
       "    .dataframe tbody tr th:only-of-type {\n",
       "        vertical-align: middle;\n",
       "    }\n",
       "\n",
       "    .dataframe tbody tr th {\n",
       "        vertical-align: top;\n",
       "    }\n",
       "\n",
       "    .dataframe thead th {\n",
       "        text-align: right;\n",
       "    }\n",
       "</style>\n",
       "<table border=\"1\" class=\"dataframe\">\n",
       "  <thead>\n",
       "    <tr style=\"text-align: right;\">\n",
       "      <th></th>\n",
       "      <th>count</th>\n",
       "      <th>unique</th>\n",
       "      <th>top</th>\n",
       "      <th>freq</th>\n",
       "    </tr>\n",
       "  </thead>\n",
       "  <tbody>\n",
       "    <tr>\n",
       "      <th>sport</th>\n",
       "      <td>3</td>\n",
       "      <td>2</td>\n",
       "      <td>teils teils</td>\n",
       "      <td>2</td>\n",
       "    </tr>\n",
       "    <tr>\n",
       "      <th>fleissig</th>\n",
       "      <td>3</td>\n",
       "      <td>2</td>\n",
       "      <td>trifft eher nicht zu</td>\n",
       "      <td>2</td>\n",
       "    </tr>\n",
       "    <tr>\n",
       "      <th>entmutigen</th>\n",
       "      <td>3</td>\n",
       "      <td>3</td>\n",
       "      <td>teils teils</td>\n",
       "      <td>1</td>\n",
       "    </tr>\n",
       "    <tr>\n",
       "      <th>talente</th>\n",
       "      <td>3</td>\n",
       "      <td>2</td>\n",
       "      <td>trifft eher zu</td>\n",
       "      <td>2</td>\n",
       "    </tr>\n",
       "    <tr>\n",
       "      <th>buch</th>\n",
       "      <td>3</td>\n",
       "      <td>2</td>\n",
       "      <td>Ja</td>\n",
       "      <td>2</td>\n",
       "    </tr>\n",
       "    <tr>\n",
       "      <th>geschlecht</th>\n",
       "      <td>3</td>\n",
       "      <td>2</td>\n",
       "      <td>Männlich</td>\n",
       "      <td>2</td>\n",
       "    </tr>\n",
       "    <tr>\n",
       "      <th>buch__Ja</th>\n",
       "      <td>3</td>\n",
       "      <td>2</td>\n",
       "      <td>1</td>\n",
       "      <td>2</td>\n",
       "    </tr>\n",
       "    <tr>\n",
       "      <th>buch__Nein</th>\n",
       "      <td>3</td>\n",
       "      <td>2</td>\n",
       "      <td>0</td>\n",
       "      <td>2</td>\n",
       "    </tr>\n",
       "    <tr>\n",
       "      <th>geschlecht__Männlich</th>\n",
       "      <td>3</td>\n",
       "      <td>2</td>\n",
       "      <td>1</td>\n",
       "      <td>2</td>\n",
       "    </tr>\n",
       "    <tr>\n",
       "      <th>geschlecht__Weiblich</th>\n",
       "      <td>3</td>\n",
       "      <td>2</td>\n",
       "      <td>0</td>\n",
       "      <td>2</td>\n",
       "    </tr>\n",
       "  </tbody>\n",
       "</table>\n",
       "</div>"
      ],
      "text/plain": [
       "                     count unique                   top freq\n",
       "sport                    3      2           teils teils    2\n",
       "fleissig                 3      2  trifft eher nicht zu    2\n",
       "entmutigen               3      3           teils teils    1\n",
       "talente                  3      2        trifft eher zu    2\n",
       "buch                     3      2                    Ja    2\n",
       "geschlecht               3      2              Männlich    2\n",
       "buch__Ja                 3      2                     1    2\n",
       "buch__Nein               3      2                     0    2\n",
       "geschlecht__Männlich     3      2                     1    2\n",
       "geschlecht__Weiblich     3      2                     0    2"
      ]
     },
     "execution_count": 8,
     "metadata": {},
     "output_type": "execute_result"
    }
   ],
   "source": [
    "df[list_cat].describe().T"
   ]
  },
  {
   "cell_type": "code",
   "execution_count": 9,
   "metadata": {
    "slideshow": {
     "slide_type": "slide"
    }
   },
   "outputs": [
    {
     "name": "stdout",
     "output_type": "stream",
     "text": [
      "------------------------------\n",
      "sport \n",
      " teils teils             2\n",
      "trifft eher nicht zu    1\n",
      "Name: sport, dtype: int64\n",
      "------------------------------\n",
      "fleissig \n",
      " trifft eher nicht zu    2\n",
      "trifft eher zu          1\n",
      "Name: fleissig, dtype: int64\n",
      "------------------------------\n",
      "entmutigen \n",
      " teils teils             1\n",
      "trifft eher nicht zu    1\n",
      "trifft eher zu          1\n",
      "Name: entmutigen, dtype: int64\n",
      "------------------------------\n",
      "talente \n",
      " trifft eher zu               2\n",
      "trifft überhaupt nicht zu    1\n",
      "Name: talente, dtype: int64\n",
      "------------------------------\n",
      "buch \n",
      " Ja      2\n",
      "Nein    1\n",
      "Name: buch, dtype: int64\n",
      "------------------------------\n",
      "geschlecht \n",
      " Männlich    2\n",
      "Weiblich    1\n",
      "Name: geschlecht, dtype: int64\n",
      "------------------------------\n",
      "buch__Ja \n",
      " 1    2\n",
      "0    1\n",
      "Name: buch__Ja, dtype: int64\n",
      "------------------------------\n",
      "buch__Nein \n",
      " 0    2\n",
      "1    1\n",
      "Name: buch__Nein, dtype: int64\n",
      "------------------------------\n",
      "geschlecht__Männlich \n",
      " 1    2\n",
      "0    1\n",
      "Name: geschlecht__Männlich, dtype: int64\n",
      "------------------------------\n",
      "geschlecht__Weiblich \n",
      " 0    2\n",
      "1    1\n",
      "Name: geschlecht__Weiblich, dtype: int64\n"
     ]
    }
   ],
   "source": [
    "for i in list_cat:\n",
    "    print(\"-\"*30)\n",
    "    print(i, \"\\n\", df[i].value_counts())\n"
   ]
  },
  {
   "cell_type": "markdown",
   "metadata": {
    "slideshow": {
     "slide_type": "slide"
    }
   },
   "source": [
    "### Numerische Daten"
   ]
  },
  {
   "cell_type": "code",
   "execution_count": 10,
   "metadata": {
    "slideshow": {
     "slide_type": "fragment"
    }
   },
   "outputs": [
    {
     "data": {
      "text/html": [
       "<div>\n",
       "<style scoped>\n",
       "    .dataframe tbody tr th:only-of-type {\n",
       "        vertical-align: middle;\n",
       "    }\n",
       "\n",
       "    .dataframe tbody tr th {\n",
       "        vertical-align: top;\n",
       "    }\n",
       "\n",
       "    .dataframe thead th {\n",
       "        text-align: right;\n",
       "    }\n",
       "</style>\n",
       "<table border=\"1\" class=\"dataframe\">\n",
       "  <thead>\n",
       "    <tr style=\"text-align: right;\">\n",
       "      <th></th>\n",
       "      <th>count</th>\n",
       "      <th>mean</th>\n",
       "      <th>std</th>\n",
       "      <th>min</th>\n",
       "      <th>25%</th>\n",
       "      <th>50%</th>\n",
       "      <th>75%</th>\n",
       "      <th>max</th>\n",
       "    </tr>\n",
       "  </thead>\n",
       "  <tbody>\n",
       "    <tr>\n",
       "      <th>einkommen</th>\n",
       "      <td>3.0</td>\n",
       "      <td>29.33</td>\n",
       "      <td>18.45</td>\n",
       "      <td>9.0</td>\n",
       "      <td>21.5</td>\n",
       "      <td>34.0</td>\n",
       "      <td>39.5</td>\n",
       "      <td>45.0</td>\n",
       "    </tr>\n",
       "    <tr>\n",
       "      <th>energie</th>\n",
       "      <td>3.0</td>\n",
       "      <td>62.00</td>\n",
       "      <td>20.00</td>\n",
       "      <td>42.0</td>\n",
       "      <td>52.0</td>\n",
       "      <td>62.0</td>\n",
       "      <td>72.0</td>\n",
       "      <td>82.0</td>\n",
       "    </tr>\n",
       "    <tr>\n",
       "      <th>megacity</th>\n",
       "      <td>3.0</td>\n",
       "      <td>4.00</td>\n",
       "      <td>1.00</td>\n",
       "      <td>3.0</td>\n",
       "      <td>3.5</td>\n",
       "      <td>4.0</td>\n",
       "      <td>4.5</td>\n",
       "      <td>5.0</td>\n",
       "    </tr>\n",
       "    <tr>\n",
       "      <th>geleebohnen</th>\n",
       "      <td>3.0</td>\n",
       "      <td>2466.67</td>\n",
       "      <td>1858.31</td>\n",
       "      <td>400.0</td>\n",
       "      <td>1700.0</td>\n",
       "      <td>3000.0</td>\n",
       "      <td>3500.0</td>\n",
       "      <td>4000.0</td>\n",
       "    </tr>\n",
       "    <tr>\n",
       "      <th>soziale_medien</th>\n",
       "      <td>3.0</td>\n",
       "      <td>30.33</td>\n",
       "      <td>6.35</td>\n",
       "      <td>23.0</td>\n",
       "      <td>28.5</td>\n",
       "      <td>34.0</td>\n",
       "      <td>34.0</td>\n",
       "      <td>34.0</td>\n",
       "    </tr>\n",
       "    <tr>\n",
       "      <th>studium</th>\n",
       "      <td>3.0</td>\n",
       "      <td>16.00</td>\n",
       "      <td>16.37</td>\n",
       "      <td>2.0</td>\n",
       "      <td>7.0</td>\n",
       "      <td>12.0</td>\n",
       "      <td>23.0</td>\n",
       "      <td>34.0</td>\n",
       "    </tr>\n",
       "    <tr>\n",
       "      <th>alter</th>\n",
       "      <td>3.0</td>\n",
       "      <td>22.67</td>\n",
       "      <td>11.02</td>\n",
       "      <td>12.0</td>\n",
       "      <td>17.0</td>\n",
       "      <td>22.0</td>\n",
       "      <td>28.0</td>\n",
       "      <td>34.0</td>\n",
       "    </tr>\n",
       "    <tr>\n",
       "      <th>sport_qm</th>\n",
       "      <td>3.0</td>\n",
       "      <td>2.67</td>\n",
       "      <td>0.58</td>\n",
       "      <td>2.0</td>\n",
       "      <td>2.5</td>\n",
       "      <td>3.0</td>\n",
       "      <td>3.0</td>\n",
       "      <td>3.0</td>\n",
       "    </tr>\n",
       "    <tr>\n",
       "      <th>fleissig_qm</th>\n",
       "      <td>3.0</td>\n",
       "      <td>2.67</td>\n",
       "      <td>1.15</td>\n",
       "      <td>2.0</td>\n",
       "      <td>2.0</td>\n",
       "      <td>2.0</td>\n",
       "      <td>3.0</td>\n",
       "      <td>4.0</td>\n",
       "    </tr>\n",
       "    <tr>\n",
       "      <th>talente_qm</th>\n",
       "      <td>3.0</td>\n",
       "      <td>3.00</td>\n",
       "      <td>1.73</td>\n",
       "      <td>1.0</td>\n",
       "      <td>2.5</td>\n",
       "      <td>4.0</td>\n",
       "      <td>4.0</td>\n",
       "      <td>4.0</td>\n",
       "    </tr>\n",
       "    <tr>\n",
       "      <th>entmutigen_qm</th>\n",
       "      <td>3.0</td>\n",
       "      <td>3.00</td>\n",
       "      <td>1.00</td>\n",
       "      <td>2.0</td>\n",
       "      <td>2.5</td>\n",
       "      <td>3.0</td>\n",
       "      <td>3.5</td>\n",
       "      <td>4.0</td>\n",
       "    </tr>\n",
       "  </tbody>\n",
       "</table>\n",
       "</div>"
      ],
      "text/plain": [
       "                count     mean      std    min     25%     50%     75%     max\n",
       "einkommen         3.0    29.33    18.45    9.0    21.5    34.0    39.5    45.0\n",
       "energie           3.0    62.00    20.00   42.0    52.0    62.0    72.0    82.0\n",
       "megacity          3.0     4.00     1.00    3.0     3.5     4.0     4.5     5.0\n",
       "geleebohnen       3.0  2466.67  1858.31  400.0  1700.0  3000.0  3500.0  4000.0\n",
       "soziale_medien    3.0    30.33     6.35   23.0    28.5    34.0    34.0    34.0\n",
       "studium           3.0    16.00    16.37    2.0     7.0    12.0    23.0    34.0\n",
       "alter             3.0    22.67    11.02   12.0    17.0    22.0    28.0    34.0\n",
       "sport_qm          3.0     2.67     0.58    2.0     2.5     3.0     3.0     3.0\n",
       "fleissig_qm       3.0     2.67     1.15    2.0     2.0     2.0     3.0     4.0\n",
       "talente_qm        3.0     3.00     1.73    1.0     2.5     4.0     4.0     4.0\n",
       "entmutigen_qm     3.0     3.00     1.00    2.0     2.5     3.0     3.5     4.0"
      ]
     },
     "execution_count": 10,
     "metadata": {},
     "output_type": "execute_result"
    }
   ],
   "source": [
    "df[list_metric].describe().round(2).T"
   ]
  }
 ],
 "metadata": {
  "celltoolbar": "Slideshow",
  "kernelspec": {
   "display_name": "Python 3 (ipykernel)",
   "language": "python",
   "name": "python3"
  },
  "language_info": {
   "codemirror_mode": {
    "name": "ipython",
    "version": 3
   },
   "file_extension": ".py",
   "mimetype": "text/x-python",
   "name": "python",
   "nbconvert_exporter": "python",
   "pygments_lexer": "ipython3",
   "version": "3.9.13"
  },
  "varInspector": {
   "cols": {
    "lenName": 16,
    "lenType": 16,
    "lenVar": 40
   },
   "kernels_config": {
    "python": {
     "delete_cmd_postfix": "",
     "delete_cmd_prefix": "del ",
     "library": "var_list.py",
     "varRefreshCmd": "print(var_dic_list())"
    },
    "r": {
     "delete_cmd_postfix": ") ",
     "delete_cmd_prefix": "rm(",
     "library": "var_list.r",
     "varRefreshCmd": "cat(var_dic_list()) "
    }
   },
   "types_to_exclude": [
    "module",
    "function",
    "builtin_function_or_method",
    "instance",
    "_Feature"
   ],
   "window_display": false
  },
  "vscode": {
   "interpreter": {
    "hash": "0de8387c967863cc622aba8b7ea5b466d4dfde089153d484429677aa77034389"
   }
  }
 },
 "nbformat": 4,
 "nbformat_minor": 2
}
