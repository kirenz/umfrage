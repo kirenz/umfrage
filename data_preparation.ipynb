{
 "cells": [
  {
   "cell_type": "markdown",
   "metadata": {
    "slideshow": {
     "slide_type": "slide"
    }
   },
   "source": [
    "# Umfrage Teil I\n",
    "\n",
    "Datenvorbereitung"
   ]
  },
  {
   "cell_type": "markdown",
   "metadata": {
    "slideshow": {
     "slide_type": "slide"
    }
   },
   "source": [
    "## Daten importieren"
   ]
  },
  {
   "cell_type": "code",
   "execution_count": 2,
   "metadata": {
    "slideshow": {
     "slide_type": "fragment"
    }
   },
   "outputs": [],
   "source": [
    "import pandas as pd\n",
    "\n",
    "df = pd.read_csv(\"data/raw_ws22.csv\")"
   ]
  },
  {
   "cell_type": "markdown",
   "metadata": {
    "slideshow": {
     "slide_type": "slide"
    }
   },
   "source": [
    "## Datenüberblick"
   ]
  },
  {
   "cell_type": "code",
   "execution_count": 3,
   "metadata": {
    "slideshow": {
     "slide_type": "fragment"
    }
   },
   "outputs": [
    {
     "data": {
      "text/html": [
       "<div>\n",
       "<style scoped>\n",
       "    .dataframe tbody tr th:only-of-type {\n",
       "        vertical-align: middle;\n",
       "    }\n",
       "\n",
       "    .dataframe tbody tr th {\n",
       "        vertical-align: top;\n",
       "    }\n",
       "\n",
       "    .dataframe thead th {\n",
       "        text-align: right;\n",
       "    }\n",
       "</style>\n",
       "<table border=\"1\" class=\"dataframe\">\n",
       "  <thead>\n",
       "    <tr style=\"text-align: right;\">\n",
       "      <th></th>\n",
       "      <th>Zeitstempel</th>\n",
       "      <th>Ich bin sportlich</th>\n",
       "      <th>Ich bin fleißig.</th>\n",
       "      <th>Von Rückschlägen lasse ich mich nicht entmutigen.</th>\n",
       "      <th>Meine Fähigkeiten und Talente sind vorgegeben und ich kann daran nicht viel ändern.</th>\n",
       "      <th>1990 lebten 58 % der Weltbevölkerung in Ländern mit niedrigem Einkommen. Wie hoch ist der Anteil heute? Geben Sie eine Zahl ein (z. B. 9, 37 oder 61)</th>\n",
       "      <th>Wie viel der weltweit verbrauchten Energie stammt aus Erdgas, Kohle und Öl?</th>\n",
       "      <th>Welcher Anteil der Weltbevölkerung lebt in Megacitys (Städte mit mindestens 10 Millionen Einwohnern)?</th>\n",
       "      <th>Wie viele Geleebohnen befinden sich in diesem sechseckigen Glas?</th>\n",
       "      <th>Wie viele Minuten verbringen Sie an einem typischen Tag in sozialen Medien (Facebook, Instagram, Snapchat, etc.)?</th>\n",
       "      <th>Wie viele Minuten investieren Sie ca. pro Tag in Ihr Studium (abgesehen von Lehrveranstaltungen)?</th>\n",
       "      <th>Lesen Sie zur Zeit ein Buch?</th>\n",
       "      <th>Wie alt sind Sie?</th>\n",
       "      <th>Sie sind ...</th>\n",
       "    </tr>\n",
       "  </thead>\n",
       "  <tbody>\n",
       "    <tr>\n",
       "      <th>0</th>\n",
       "      <td>2022/09/14 8:21:58 PM OEZ</td>\n",
       "      <td>teils teils</td>\n",
       "      <td>trifft eher zu</td>\n",
       "      <td>4</td>\n",
       "      <td>trifft überhaupt nicht zu</td>\n",
       "      <td>9</td>\n",
       "      <td>ca. 42%</td>\n",
       "      <td>4</td>\n",
       "      <td>3000</td>\n",
       "      <td>34</td>\n",
       "      <td>34</td>\n",
       "      <td>Ja</td>\n",
       "      <td>22</td>\n",
       "      <td>Männlich</td>\n",
       "    </tr>\n",
       "    <tr>\n",
       "      <th>1</th>\n",
       "      <td>2022/09/17 6:10:24 PM OEZ</td>\n",
       "      <td>trifft eher nicht zu</td>\n",
       "      <td>trifft eher nicht zu</td>\n",
       "      <td>2</td>\n",
       "      <td>trifft eher zu</td>\n",
       "      <td>45</td>\n",
       "      <td>ca. 62%</td>\n",
       "      <td>3</td>\n",
       "      <td>400</td>\n",
       "      <td>34</td>\n",
       "      <td>2</td>\n",
       "      <td>Nein</td>\n",
       "      <td>34</td>\n",
       "      <td>Weiblich</td>\n",
       "    </tr>\n",
       "    <tr>\n",
       "      <th>2</th>\n",
       "      <td>2022/09/17 6:11:20 PM OEZ</td>\n",
       "      <td>teils teils</td>\n",
       "      <td>trifft eher nicht zu</td>\n",
       "      <td>3</td>\n",
       "      <td>trifft eher zu</td>\n",
       "      <td>34</td>\n",
       "      <td>ca. 82%</td>\n",
       "      <td>5</td>\n",
       "      <td>4000</td>\n",
       "      <td>23</td>\n",
       "      <td>12</td>\n",
       "      <td>Ja</td>\n",
       "      <td>12</td>\n",
       "      <td>Männlich</td>\n",
       "    </tr>\n",
       "    <tr>\n",
       "      <th>3</th>\n",
       "      <td>2022/10/11 3:18:26 PM OEZ</td>\n",
       "      <td>trifft völlig zu</td>\n",
       "      <td>trifft eher zu</td>\n",
       "      <td>4</td>\n",
       "      <td>trifft eher nicht zu</td>\n",
       "      <td>61</td>\n",
       "      <td>ca. 62%</td>\n",
       "      <td>3</td>\n",
       "      <td>586</td>\n",
       "      <td>180</td>\n",
       "      <td>60</td>\n",
       "      <td>Ja</td>\n",
       "      <td>23</td>\n",
       "      <td>Weiblich</td>\n",
       "    </tr>\n",
       "    <tr>\n",
       "      <th>4</th>\n",
       "      <td>2022/10/11 3:19:05 PM OEZ</td>\n",
       "      <td>trifft eher nicht zu</td>\n",
       "      <td>trifft völlig zu</td>\n",
       "      <td>2</td>\n",
       "      <td>trifft eher nicht zu</td>\n",
       "      <td>43</td>\n",
       "      <td>ca. 62%</td>\n",
       "      <td>2</td>\n",
       "      <td>350</td>\n",
       "      <td>120</td>\n",
       "      <td>200</td>\n",
       "      <td>Ja</td>\n",
       "      <td>23</td>\n",
       "      <td>Weiblich</td>\n",
       "    </tr>\n",
       "    <tr>\n",
       "      <th>5</th>\n",
       "      <td>2022/10/11 3:19:11 PM OEZ</td>\n",
       "      <td>trifft eher nicht zu</td>\n",
       "      <td>teils teils</td>\n",
       "      <td>4</td>\n",
       "      <td>trifft eher nicht zu</td>\n",
       "      <td>36</td>\n",
       "      <td>ca. 82%</td>\n",
       "      <td>4</td>\n",
       "      <td>2700</td>\n",
       "      <td>150</td>\n",
       "      <td>60</td>\n",
       "      <td>Nein</td>\n",
       "      <td>26</td>\n",
       "      <td>Männlich</td>\n",
       "    </tr>\n",
       "    <tr>\n",
       "      <th>6</th>\n",
       "      <td>2022/10/11 3:19:27 PM OEZ</td>\n",
       "      <td>trifft überhaupt nicht zu</td>\n",
       "      <td>trifft eher zu</td>\n",
       "      <td>4</td>\n",
       "      <td>trifft eher nicht zu</td>\n",
       "      <td>60</td>\n",
       "      <td>ca. 82%</td>\n",
       "      <td>2</td>\n",
       "      <td>999</td>\n",
       "      <td>240</td>\n",
       "      <td>180</td>\n",
       "      <td>Ja</td>\n",
       "      <td>22</td>\n",
       "      <td>Weiblich</td>\n",
       "    </tr>\n",
       "    <tr>\n",
       "      <th>7</th>\n",
       "      <td>2022/10/11 3:19:27 PM OEZ</td>\n",
       "      <td>trifft völlig zu</td>\n",
       "      <td>trifft eher zu</td>\n",
       "      <td>4</td>\n",
       "      <td>teils teils</td>\n",
       "      <td>61</td>\n",
       "      <td>ca. 62%</td>\n",
       "      <td>2</td>\n",
       "      <td>500</td>\n",
       "      <td>2</td>\n",
       "      <td>180</td>\n",
       "      <td>Ja</td>\n",
       "      <td>25</td>\n",
       "      <td>Männlich</td>\n",
       "    </tr>\n",
       "    <tr>\n",
       "      <th>8</th>\n",
       "      <td>2022/10/11 3:19:31 PM OEZ</td>\n",
       "      <td>trifft eher zu</td>\n",
       "      <td>trifft eher zu</td>\n",
       "      <td>3</td>\n",
       "      <td>teils teils</td>\n",
       "      <td>65</td>\n",
       "      <td>ca. 42%</td>\n",
       "      <td>4</td>\n",
       "      <td>2136</td>\n",
       "      <td>200</td>\n",
       "      <td>60</td>\n",
       "      <td>Ja</td>\n",
       "      <td>24</td>\n",
       "      <td>Weiblich</td>\n",
       "    </tr>\n",
       "    <tr>\n",
       "      <th>9</th>\n",
       "      <td>2022/10/11 3:19:37 PM OEZ</td>\n",
       "      <td>trifft eher nicht zu</td>\n",
       "      <td>trifft eher nicht zu</td>\n",
       "      <td>2</td>\n",
       "      <td>trifft eher nicht zu</td>\n",
       "      <td>40%</td>\n",
       "      <td>ca. 82%</td>\n",
       "      <td>4</td>\n",
       "      <td>3000</td>\n",
       "      <td>240</td>\n",
       "      <td>60</td>\n",
       "      <td>Ja</td>\n",
       "      <td>23</td>\n",
       "      <td>Weiblich</td>\n",
       "    </tr>\n",
       "    <tr>\n",
       "      <th>10</th>\n",
       "      <td>2022/10/11 3:19:39 PM OEZ</td>\n",
       "      <td>trifft eher zu</td>\n",
       "      <td>trifft eher nicht zu</td>\n",
       "      <td>4</td>\n",
       "      <td>trifft überhaupt nicht zu</td>\n",
       "      <td>65</td>\n",
       "      <td>ca. 62%</td>\n",
       "      <td>2</td>\n",
       "      <td>5221</td>\n",
       "      <td>60</td>\n",
       "      <td>15</td>\n",
       "      <td>Nein</td>\n",
       "      <td>22</td>\n",
       "      <td>Männlich</td>\n",
       "    </tr>\n",
       "    <tr>\n",
       "      <th>11</th>\n",
       "      <td>2022/10/11 3:19:42 PM OEZ</td>\n",
       "      <td>teils teils</td>\n",
       "      <td>trifft eher zu</td>\n",
       "      <td>4</td>\n",
       "      <td>teils teils</td>\n",
       "      <td>60</td>\n",
       "      <td>ca. 82%</td>\n",
       "      <td>3</td>\n",
       "      <td>500</td>\n",
       "      <td>90</td>\n",
       "      <td>90</td>\n",
       "      <td>Ja</td>\n",
       "      <td>26</td>\n",
       "      <td>Weiblich</td>\n",
       "    </tr>\n",
       "    <tr>\n",
       "      <th>12</th>\n",
       "      <td>2022/10/11 3:19:42 PM OEZ</td>\n",
       "      <td>teils teils</td>\n",
       "      <td>trifft eher zu</td>\n",
       "      <td>2</td>\n",
       "      <td>teils teils</td>\n",
       "      <td>80</td>\n",
       "      <td>ca. 82%</td>\n",
       "      <td>1</td>\n",
       "      <td>3000</td>\n",
       "      <td>50</td>\n",
       "      <td>600</td>\n",
       "      <td>Ja</td>\n",
       "      <td>22</td>\n",
       "      <td>Weiblich</td>\n",
       "    </tr>\n",
       "    <tr>\n",
       "      <th>13</th>\n",
       "      <td>2022/10/11 3:19:44 PM OEZ</td>\n",
       "      <td>teils teils</td>\n",
       "      <td>trifft eher nicht zu</td>\n",
       "      <td>3</td>\n",
       "      <td>trifft eher zu</td>\n",
       "      <td>70</td>\n",
       "      <td>ca. 82%</td>\n",
       "      <td>2</td>\n",
       "      <td>2000</td>\n",
       "      <td>15</td>\n",
       "      <td>35</td>\n",
       "      <td>Ja</td>\n",
       "      <td>20</td>\n",
       "      <td>Weiblich</td>\n",
       "    </tr>\n",
       "    <tr>\n",
       "      <th>14</th>\n",
       "      <td>2022/10/11 3:19:45 PM OEZ</td>\n",
       "      <td>trifft eher zu</td>\n",
       "      <td>trifft eher zu</td>\n",
       "      <td>2</td>\n",
       "      <td>teils teils</td>\n",
       "      <td>62</td>\n",
       "      <td>ca. 42%</td>\n",
       "      <td>4</td>\n",
       "      <td>814</td>\n",
       "      <td>120</td>\n",
       "      <td>90</td>\n",
       "      <td>Ja</td>\n",
       "      <td>20</td>\n",
       "      <td>Weiblich</td>\n",
       "    </tr>\n",
       "    <tr>\n",
       "      <th>15</th>\n",
       "      <td>2022/10/11 3:19:46 PM OEZ</td>\n",
       "      <td>trifft überhaupt nicht zu</td>\n",
       "      <td>trifft völlig zu</td>\n",
       "      <td>4</td>\n",
       "      <td>trifft eher nicht zu</td>\n",
       "      <td>61</td>\n",
       "      <td>ca. 82%</td>\n",
       "      <td>2</td>\n",
       "      <td>1000</td>\n",
       "      <td>120</td>\n",
       "      <td>120</td>\n",
       "      <td>Ja</td>\n",
       "      <td>21</td>\n",
       "      <td>Weiblich</td>\n",
       "    </tr>\n",
       "    <tr>\n",
       "      <th>16</th>\n",
       "      <td>2022/10/11 3:19:48 PM OEZ</td>\n",
       "      <td>trifft eher zu</td>\n",
       "      <td>teils teils</td>\n",
       "      <td>2</td>\n",
       "      <td>trifft überhaupt nicht zu</td>\n",
       "      <td>60</td>\n",
       "      <td>ca. 82%</td>\n",
       "      <td>2</td>\n",
       "      <td>1500</td>\n",
       "      <td>360</td>\n",
       "      <td>30</td>\n",
       "      <td>Ja</td>\n",
       "      <td>23</td>\n",
       "      <td>Weiblich</td>\n",
       "    </tr>\n",
       "    <tr>\n",
       "      <th>17</th>\n",
       "      <td>2022/10/11 3:20:05 PM OEZ</td>\n",
       "      <td>teils teils</td>\n",
       "      <td>teils teils</td>\n",
       "      <td>4</td>\n",
       "      <td>trifft eher nicht zu</td>\n",
       "      <td>40</td>\n",
       "      <td>ca. 82%</td>\n",
       "      <td>2</td>\n",
       "      <td>2340</td>\n",
       "      <td>180</td>\n",
       "      <td>40</td>\n",
       "      <td>Nein</td>\n",
       "      <td>19</td>\n",
       "      <td>Weiblich</td>\n",
       "    </tr>\n",
       "    <tr>\n",
       "      <th>18</th>\n",
       "      <td>2022/10/11 3:20:07 PM OEZ</td>\n",
       "      <td>teils teils</td>\n",
       "      <td>trifft eher nicht zu</td>\n",
       "      <td>4</td>\n",
       "      <td>trifft überhaupt nicht zu</td>\n",
       "      <td>65</td>\n",
       "      <td>ca. 82%</td>\n",
       "      <td>4</td>\n",
       "      <td>2057</td>\n",
       "      <td>100</td>\n",
       "      <td>120</td>\n",
       "      <td>Ja</td>\n",
       "      <td>20</td>\n",
       "      <td>Weiblich</td>\n",
       "    </tr>\n",
       "    <tr>\n",
       "      <th>19</th>\n",
       "      <td>2022/10/11 3:20:07 PM OEZ</td>\n",
       "      <td>teils teils</td>\n",
       "      <td>trifft eher nicht zu</td>\n",
       "      <td>2</td>\n",
       "      <td>trifft eher zu</td>\n",
       "      <td>78</td>\n",
       "      <td>ca. 82%</td>\n",
       "      <td>2</td>\n",
       "      <td>1624</td>\n",
       "      <td>180</td>\n",
       "      <td>45</td>\n",
       "      <td>Ja</td>\n",
       "      <td>20</td>\n",
       "      <td>Weiblich</td>\n",
       "    </tr>\n",
       "    <tr>\n",
       "      <th>20</th>\n",
       "      <td>2022/10/11 3:20:14 PM OEZ</td>\n",
       "      <td>trifft eher nicht zu</td>\n",
       "      <td>teils teils</td>\n",
       "      <td>2</td>\n",
       "      <td>trifft überhaupt nicht zu</td>\n",
       "      <td>60</td>\n",
       "      <td>ca. 62%</td>\n",
       "      <td>4</td>\n",
       "      <td>543</td>\n",
       "      <td>150</td>\n",
       "      <td>90</td>\n",
       "      <td>Nein</td>\n",
       "      <td>20</td>\n",
       "      <td>Weiblich</td>\n",
       "    </tr>\n",
       "    <tr>\n",
       "      <th>21</th>\n",
       "      <td>2022/10/11 3:20:22 PM OEZ</td>\n",
       "      <td>trifft völlig zu</td>\n",
       "      <td>teils teils</td>\n",
       "      <td>1</td>\n",
       "      <td>trifft eher nicht zu</td>\n",
       "      <td>61</td>\n",
       "      <td>ca. 82%</td>\n",
       "      <td>5</td>\n",
       "      <td>5000</td>\n",
       "      <td>35</td>\n",
       "      <td>60</td>\n",
       "      <td>Nein</td>\n",
       "      <td>27</td>\n",
       "      <td>Männlich</td>\n",
       "    </tr>\n",
       "    <tr>\n",
       "      <th>22</th>\n",
       "      <td>2022/10/11 3:20:29 PM OEZ</td>\n",
       "      <td>trifft eher zu</td>\n",
       "      <td>teils teils</td>\n",
       "      <td>3</td>\n",
       "      <td>trifft eher nicht zu</td>\n",
       "      <td>74</td>\n",
       "      <td>ca. 82%</td>\n",
       "      <td>3</td>\n",
       "      <td>1423</td>\n",
       "      <td>90</td>\n",
       "      <td>120</td>\n",
       "      <td>Ja</td>\n",
       "      <td>26</td>\n",
       "      <td>Weiblich</td>\n",
       "    </tr>\n",
       "    <tr>\n",
       "      <th>23</th>\n",
       "      <td>2022/10/11 3:20:32 PM OEZ</td>\n",
       "      <td>trifft eher zu</td>\n",
       "      <td>trifft eher zu</td>\n",
       "      <td>3</td>\n",
       "      <td>trifft eher nicht zu</td>\n",
       "      <td>70</td>\n",
       "      <td>ca. 82%</td>\n",
       "      <td>4</td>\n",
       "      <td>2000</td>\n",
       "      <td>120</td>\n",
       "      <td>120</td>\n",
       "      <td>Ja</td>\n",
       "      <td>19</td>\n",
       "      <td>Weiblich</td>\n",
       "    </tr>\n",
       "    <tr>\n",
       "      <th>24</th>\n",
       "      <td>2022/10/11 3:20:36 PM OEZ</td>\n",
       "      <td>trifft eher zu</td>\n",
       "      <td>teils teils</td>\n",
       "      <td>3</td>\n",
       "      <td>trifft eher nicht zu</td>\n",
       "      <td>62</td>\n",
       "      <td>ca. 62%</td>\n",
       "      <td>2</td>\n",
       "      <td>1500</td>\n",
       "      <td>120</td>\n",
       "      <td>90</td>\n",
       "      <td>Ja</td>\n",
       "      <td>25</td>\n",
       "      <td>Weiblich</td>\n",
       "    </tr>\n",
       "    <tr>\n",
       "      <th>25</th>\n",
       "      <td>2022/10/11 3:20:43 PM OEZ</td>\n",
       "      <td>trifft eher nicht zu</td>\n",
       "      <td>teils teils</td>\n",
       "      <td>3</td>\n",
       "      <td>teils teils</td>\n",
       "      <td>40</td>\n",
       "      <td>ca. 62%</td>\n",
       "      <td>4</td>\n",
       "      <td>558</td>\n",
       "      <td>280</td>\n",
       "      <td>180</td>\n",
       "      <td>Ja</td>\n",
       "      <td>20</td>\n",
       "      <td>Weiblich</td>\n",
       "    </tr>\n",
       "    <tr>\n",
       "      <th>26</th>\n",
       "      <td>2022/10/11 3:21:05 PM OEZ</td>\n",
       "      <td>trifft eher nicht zu</td>\n",
       "      <td>trifft eher zu</td>\n",
       "      <td>3</td>\n",
       "      <td>trifft eher nicht zu</td>\n",
       "      <td>67</td>\n",
       "      <td>ca. 82%</td>\n",
       "      <td>2</td>\n",
       "      <td>486</td>\n",
       "      <td>120</td>\n",
       "      <td>180</td>\n",
       "      <td>Ja</td>\n",
       "      <td>20</td>\n",
       "      <td>Weiblich</td>\n",
       "    </tr>\n",
       "    <tr>\n",
       "      <th>27</th>\n",
       "      <td>2022/10/11 3:21:07 PM OEZ</td>\n",
       "      <td>trifft eher zu</td>\n",
       "      <td>teils teils</td>\n",
       "      <td>2</td>\n",
       "      <td>trifft eher nicht zu</td>\n",
       "      <td>67</td>\n",
       "      <td>ca. 62%</td>\n",
       "      <td>3</td>\n",
       "      <td>424</td>\n",
       "      <td>45</td>\n",
       "      <td>120</td>\n",
       "      <td>Nein</td>\n",
       "      <td>20</td>\n",
       "      <td>Weiblich</td>\n",
       "    </tr>\n",
       "    <tr>\n",
       "      <th>28</th>\n",
       "      <td>2022/10/11 3:21:18 PM OEZ</td>\n",
       "      <td>trifft eher nicht zu</td>\n",
       "      <td>trifft eher zu</td>\n",
       "      <td>2</td>\n",
       "      <td>trifft eher nicht zu</td>\n",
       "      <td>61</td>\n",
       "      <td>ca. 62%</td>\n",
       "      <td>2</td>\n",
       "      <td>1500</td>\n",
       "      <td>120</td>\n",
       "      <td>60</td>\n",
       "      <td>Ja</td>\n",
       "      <td>20</td>\n",
       "      <td>Weiblich</td>\n",
       "    </tr>\n",
       "    <tr>\n",
       "      <th>29</th>\n",
       "      <td>2022/10/11 3:21:38 PM OEZ</td>\n",
       "      <td>trifft völlig zu</td>\n",
       "      <td>trifft eher zu</td>\n",
       "      <td>4</td>\n",
       "      <td>teils teils</td>\n",
       "      <td>70</td>\n",
       "      <td>ca. 82%</td>\n",
       "      <td>2</td>\n",
       "      <td>1989</td>\n",
       "      <td>90</td>\n",
       "      <td>60</td>\n",
       "      <td>Nein</td>\n",
       "      <td>20</td>\n",
       "      <td>Weiblich</td>\n",
       "    </tr>\n",
       "    <tr>\n",
       "      <th>30</th>\n",
       "      <td>2022/10/11 3:21:40 PM OEZ</td>\n",
       "      <td>teils teils</td>\n",
       "      <td>trifft eher zu</td>\n",
       "      <td>4</td>\n",
       "      <td>trifft eher nicht zu</td>\n",
       "      <td>70</td>\n",
       "      <td>ca. 82%</td>\n",
       "      <td>4</td>\n",
       "      <td>1000</td>\n",
       "      <td>60</td>\n",
       "      <td>150</td>\n",
       "      <td>Ja</td>\n",
       "      <td>21</td>\n",
       "      <td>Weiblich</td>\n",
       "    </tr>\n",
       "    <tr>\n",
       "      <th>31</th>\n",
       "      <td>2022/10/11 3:22:01 PM OEZ</td>\n",
       "      <td>trifft eher nicht zu</td>\n",
       "      <td>trifft eher zu</td>\n",
       "      <td>4</td>\n",
       "      <td>teils teils</td>\n",
       "      <td>65%</td>\n",
       "      <td>ca. 62%</td>\n",
       "      <td>2</td>\n",
       "      <td>200</td>\n",
       "      <td>3</td>\n",
       "      <td>2</td>\n",
       "      <td>Ja</td>\n",
       "      <td>21</td>\n",
       "      <td>Weiblich</td>\n",
       "    </tr>\n",
       "    <tr>\n",
       "      <th>32</th>\n",
       "      <td>2022/10/11 3:22:27 PM OEZ</td>\n",
       "      <td>trifft eher zu</td>\n",
       "      <td>trifft eher zu</td>\n",
       "      <td>5</td>\n",
       "      <td>trifft eher nicht zu</td>\n",
       "      <td>20</td>\n",
       "      <td>ca. 62%</td>\n",
       "      <td>3</td>\n",
       "      <td>300</td>\n",
       "      <td>5</td>\n",
       "      <td>100</td>\n",
       "      <td>Nein</td>\n",
       "      <td>21</td>\n",
       "      <td>Männlich</td>\n",
       "    </tr>\n",
       "    <tr>\n",
       "      <th>33</th>\n",
       "      <td>2022/10/11 3:22:41 PM OEZ</td>\n",
       "      <td>trifft eher zu</td>\n",
       "      <td>trifft eher nicht zu</td>\n",
       "      <td>3</td>\n",
       "      <td>trifft eher nicht zu</td>\n",
       "      <td>40</td>\n",
       "      <td>ca. 82%</td>\n",
       "      <td>2</td>\n",
       "      <td>332</td>\n",
       "      <td>120</td>\n",
       "      <td>60</td>\n",
       "      <td>Nein</td>\n",
       "      <td>20</td>\n",
       "      <td>Männlich</td>\n",
       "    </tr>\n",
       "    <tr>\n",
       "      <th>34</th>\n",
       "      <td>2022/10/11 3:22:50 PM OEZ</td>\n",
       "      <td>trifft eher zu</td>\n",
       "      <td>teils teils</td>\n",
       "      <td>5</td>\n",
       "      <td>trifft überhaupt nicht zu</td>\n",
       "      <td>65</td>\n",
       "      <td>ca. 82%</td>\n",
       "      <td>4</td>\n",
       "      <td>1350</td>\n",
       "      <td>30</td>\n",
       "      <td>60</td>\n",
       "      <td>Ja</td>\n",
       "      <td>24</td>\n",
       "      <td>Männlich</td>\n",
       "    </tr>\n",
       "    <tr>\n",
       "      <th>35</th>\n",
       "      <td>2022/10/11 3:23:21 PM OEZ</td>\n",
       "      <td>trifft völlig zu</td>\n",
       "      <td>trifft völlig zu</td>\n",
       "      <td>5</td>\n",
       "      <td>trifft überhaupt nicht zu</td>\n",
       "      <td>15</td>\n",
       "      <td>ca. 82%</td>\n",
       "      <td>4</td>\n",
       "      <td>750</td>\n",
       "      <td>15</td>\n",
       "      <td>4</td>\n",
       "      <td>Ja</td>\n",
       "      <td>24</td>\n",
       "      <td>Männlich</td>\n",
       "    </tr>\n",
       "    <tr>\n",
       "      <th>36</th>\n",
       "      <td>2022/10/11 3:23:40 PM OEZ</td>\n",
       "      <td>teils teils</td>\n",
       "      <td>trifft eher nicht zu</td>\n",
       "      <td>4</td>\n",
       "      <td>trifft eher nicht zu</td>\n",
       "      <td>55</td>\n",
       "      <td>ca. 62%</td>\n",
       "      <td>2</td>\n",
       "      <td>2000</td>\n",
       "      <td>120</td>\n",
       "      <td>45</td>\n",
       "      <td>Nein</td>\n",
       "      <td>22</td>\n",
       "      <td>Männlich</td>\n",
       "    </tr>\n",
       "    <tr>\n",
       "      <th>37</th>\n",
       "      <td>2022/10/11 3:25:02 PM OEZ</td>\n",
       "      <td>teils teils</td>\n",
       "      <td>trifft eher zu</td>\n",
       "      <td>2</td>\n",
       "      <td>trifft eher nicht zu</td>\n",
       "      <td>30</td>\n",
       "      <td>ca. 62%</td>\n",
       "      <td>3</td>\n",
       "      <td>700</td>\n",
       "      <td>180</td>\n",
       "      <td>200</td>\n",
       "      <td>Ja</td>\n",
       "      <td>22</td>\n",
       "      <td>Weiblich</td>\n",
       "    </tr>\n",
       "  </tbody>\n",
       "</table>\n",
       "</div>"
      ],
      "text/plain": [
       "                  Zeitstempel          Ich bin sportlich  \\\n",
       "0   2022/09/14 8:21:58 PM OEZ                teils teils   \n",
       "1   2022/09/17 6:10:24 PM OEZ       trifft eher nicht zu   \n",
       "2   2022/09/17 6:11:20 PM OEZ                teils teils   \n",
       "3   2022/10/11 3:18:26 PM OEZ           trifft völlig zu   \n",
       "4   2022/10/11 3:19:05 PM OEZ       trifft eher nicht zu   \n",
       "5   2022/10/11 3:19:11 PM OEZ       trifft eher nicht zu   \n",
       "6   2022/10/11 3:19:27 PM OEZ  trifft überhaupt nicht zu   \n",
       "7   2022/10/11 3:19:27 PM OEZ           trifft völlig zu   \n",
       "8   2022/10/11 3:19:31 PM OEZ             trifft eher zu   \n",
       "9   2022/10/11 3:19:37 PM OEZ       trifft eher nicht zu   \n",
       "10  2022/10/11 3:19:39 PM OEZ             trifft eher zu   \n",
       "11  2022/10/11 3:19:42 PM OEZ                teils teils   \n",
       "12  2022/10/11 3:19:42 PM OEZ                teils teils   \n",
       "13  2022/10/11 3:19:44 PM OEZ                teils teils   \n",
       "14  2022/10/11 3:19:45 PM OEZ             trifft eher zu   \n",
       "15  2022/10/11 3:19:46 PM OEZ  trifft überhaupt nicht zu   \n",
       "16  2022/10/11 3:19:48 PM OEZ             trifft eher zu   \n",
       "17  2022/10/11 3:20:05 PM OEZ                teils teils   \n",
       "18  2022/10/11 3:20:07 PM OEZ                teils teils   \n",
       "19  2022/10/11 3:20:07 PM OEZ                teils teils   \n",
       "20  2022/10/11 3:20:14 PM OEZ       trifft eher nicht zu   \n",
       "21  2022/10/11 3:20:22 PM OEZ           trifft völlig zu   \n",
       "22  2022/10/11 3:20:29 PM OEZ             trifft eher zu   \n",
       "23  2022/10/11 3:20:32 PM OEZ             trifft eher zu   \n",
       "24  2022/10/11 3:20:36 PM OEZ             trifft eher zu   \n",
       "25  2022/10/11 3:20:43 PM OEZ       trifft eher nicht zu   \n",
       "26  2022/10/11 3:21:05 PM OEZ       trifft eher nicht zu   \n",
       "27  2022/10/11 3:21:07 PM OEZ             trifft eher zu   \n",
       "28  2022/10/11 3:21:18 PM OEZ       trifft eher nicht zu   \n",
       "29  2022/10/11 3:21:38 PM OEZ           trifft völlig zu   \n",
       "30  2022/10/11 3:21:40 PM OEZ                teils teils   \n",
       "31  2022/10/11 3:22:01 PM OEZ       trifft eher nicht zu   \n",
       "32  2022/10/11 3:22:27 PM OEZ             trifft eher zu   \n",
       "33  2022/10/11 3:22:41 PM OEZ             trifft eher zu   \n",
       "34  2022/10/11 3:22:50 PM OEZ             trifft eher zu   \n",
       "35  2022/10/11 3:23:21 PM OEZ           trifft völlig zu   \n",
       "36  2022/10/11 3:23:40 PM OEZ                teils teils   \n",
       "37  2022/10/11 3:25:02 PM OEZ                teils teils   \n",
       "\n",
       "        Ich bin fleißig.  Von Rückschlägen lasse ich mich nicht entmutigen.  \\\n",
       "0         trifft eher zu                                                  4   \n",
       "1   trifft eher nicht zu                                                  2   \n",
       "2   trifft eher nicht zu                                                  3   \n",
       "3         trifft eher zu                                                  4   \n",
       "4       trifft völlig zu                                                  2   \n",
       "5            teils teils                                                  4   \n",
       "6         trifft eher zu                                                  4   \n",
       "7         trifft eher zu                                                  4   \n",
       "8         trifft eher zu                                                  3   \n",
       "9   trifft eher nicht zu                                                  2   \n",
       "10  trifft eher nicht zu                                                  4   \n",
       "11        trifft eher zu                                                  4   \n",
       "12        trifft eher zu                                                  2   \n",
       "13  trifft eher nicht zu                                                  3   \n",
       "14        trifft eher zu                                                  2   \n",
       "15      trifft völlig zu                                                  4   \n",
       "16           teils teils                                                  2   \n",
       "17           teils teils                                                  4   \n",
       "18  trifft eher nicht zu                                                  4   \n",
       "19  trifft eher nicht zu                                                  2   \n",
       "20           teils teils                                                  2   \n",
       "21           teils teils                                                  1   \n",
       "22           teils teils                                                  3   \n",
       "23        trifft eher zu                                                  3   \n",
       "24           teils teils                                                  3   \n",
       "25           teils teils                                                  3   \n",
       "26        trifft eher zu                                                  3   \n",
       "27           teils teils                                                  2   \n",
       "28        trifft eher zu                                                  2   \n",
       "29        trifft eher zu                                                  4   \n",
       "30        trifft eher zu                                                  4   \n",
       "31        trifft eher zu                                                  4   \n",
       "32        trifft eher zu                                                  5   \n",
       "33  trifft eher nicht zu                                                  3   \n",
       "34           teils teils                                                  5   \n",
       "35      trifft völlig zu                                                  5   \n",
       "36  trifft eher nicht zu                                                  4   \n",
       "37        trifft eher zu                                                  2   \n",
       "\n",
       "   Meine Fähigkeiten und Talente sind vorgegeben und ich kann daran nicht viel ändern.  \\\n",
       "0                           trifft überhaupt nicht zu                                    \n",
       "1                                      trifft eher zu                                    \n",
       "2                                      trifft eher zu                                    \n",
       "3                                trifft eher nicht zu                                    \n",
       "4                                trifft eher nicht zu                                    \n",
       "5                                trifft eher nicht zu                                    \n",
       "6                                trifft eher nicht zu                                    \n",
       "7                                         teils teils                                    \n",
       "8                                         teils teils                                    \n",
       "9                                trifft eher nicht zu                                    \n",
       "10                          trifft überhaupt nicht zu                                    \n",
       "11                                        teils teils                                    \n",
       "12                                        teils teils                                    \n",
       "13                                     trifft eher zu                                    \n",
       "14                                        teils teils                                    \n",
       "15                               trifft eher nicht zu                                    \n",
       "16                          trifft überhaupt nicht zu                                    \n",
       "17                               trifft eher nicht zu                                    \n",
       "18                          trifft überhaupt nicht zu                                    \n",
       "19                                     trifft eher zu                                    \n",
       "20                          trifft überhaupt nicht zu                                    \n",
       "21                               trifft eher nicht zu                                    \n",
       "22                               trifft eher nicht zu                                    \n",
       "23                               trifft eher nicht zu                                    \n",
       "24                               trifft eher nicht zu                                    \n",
       "25                                        teils teils                                    \n",
       "26                               trifft eher nicht zu                                    \n",
       "27                               trifft eher nicht zu                                    \n",
       "28                               trifft eher nicht zu                                    \n",
       "29                                        teils teils                                    \n",
       "30                               trifft eher nicht zu                                    \n",
       "31                                        teils teils                                    \n",
       "32                               trifft eher nicht zu                                    \n",
       "33                               trifft eher nicht zu                                    \n",
       "34                          trifft überhaupt nicht zu                                    \n",
       "35                          trifft überhaupt nicht zu                                    \n",
       "36                               trifft eher nicht zu                                    \n",
       "37                               trifft eher nicht zu                                    \n",
       "\n",
       "   1990 lebten 58 % der Weltbevölkerung in Ländern mit niedrigem Einkommen. Wie hoch ist der Anteil heute? Geben Sie eine Zahl ein (z. B. 9, 37 oder 61)  \\\n",
       "0                                                   9                                                                                                      \n",
       "1                                                  45                                                                                                      \n",
       "2                                                  34                                                                                                      \n",
       "3                                                  61                                                                                                      \n",
       "4                                                  43                                                                                                      \n",
       "5                                                  36                                                                                                      \n",
       "6                                                  60                                                                                                      \n",
       "7                                                  61                                                                                                      \n",
       "8                                                  65                                                                                                      \n",
       "9                                                 40%                                                                                                      \n",
       "10                                                 65                                                                                                      \n",
       "11                                                 60                                                                                                      \n",
       "12                                                 80                                                                                                      \n",
       "13                                                 70                                                                                                      \n",
       "14                                                 62                                                                                                      \n",
       "15                                                 61                                                                                                      \n",
       "16                                                 60                                                                                                      \n",
       "17                                                 40                                                                                                      \n",
       "18                                                 65                                                                                                      \n",
       "19                                                 78                                                                                                      \n",
       "20                                                 60                                                                                                      \n",
       "21                                                 61                                                                                                      \n",
       "22                                                 74                                                                                                      \n",
       "23                                                 70                                                                                                      \n",
       "24                                                 62                                                                                                      \n",
       "25                                                 40                                                                                                      \n",
       "26                                                 67                                                                                                      \n",
       "27                                                 67                                                                                                      \n",
       "28                                                 61                                                                                                      \n",
       "29                                                 70                                                                                                      \n",
       "30                                                 70                                                                                                      \n",
       "31                                                65%                                                                                                      \n",
       "32                                                 20                                                                                                      \n",
       "33                                                 40                                                                                                      \n",
       "34                                                 65                                                                                                      \n",
       "35                                                 15                                                                                                      \n",
       "36                                                 55                                                                                                      \n",
       "37                                                 30                                                                                                      \n",
       "\n",
       "   Wie viel der weltweit verbrauchten Energie stammt aus Erdgas, Kohle und Öl?  \\\n",
       "0                                             ca. 42%                            \n",
       "1                                             ca. 62%                            \n",
       "2                                             ca. 82%                            \n",
       "3                                             ca. 62%                            \n",
       "4                                             ca. 62%                            \n",
       "5                                             ca. 82%                            \n",
       "6                                             ca. 82%                            \n",
       "7                                             ca. 62%                            \n",
       "8                                             ca. 42%                            \n",
       "9                                             ca. 82%                            \n",
       "10                                            ca. 62%                            \n",
       "11                                            ca. 82%                            \n",
       "12                                            ca. 82%                            \n",
       "13                                            ca. 82%                            \n",
       "14                                            ca. 42%                            \n",
       "15                                            ca. 82%                            \n",
       "16                                            ca. 82%                            \n",
       "17                                            ca. 82%                            \n",
       "18                                            ca. 82%                            \n",
       "19                                            ca. 82%                            \n",
       "20                                            ca. 62%                            \n",
       "21                                            ca. 82%                            \n",
       "22                                            ca. 82%                            \n",
       "23                                            ca. 82%                            \n",
       "24                                            ca. 62%                            \n",
       "25                                            ca. 62%                            \n",
       "26                                            ca. 82%                            \n",
       "27                                            ca. 62%                            \n",
       "28                                            ca. 62%                            \n",
       "29                                            ca. 82%                            \n",
       "30                                            ca. 82%                            \n",
       "31                                            ca. 62%                            \n",
       "32                                            ca. 62%                            \n",
       "33                                            ca. 82%                            \n",
       "34                                            ca. 82%                            \n",
       "35                                            ca. 82%                            \n",
       "36                                            ca. 62%                            \n",
       "37                                            ca. 62%                            \n",
       "\n",
       "    Welcher Anteil der Weltbevölkerung lebt in Megacitys (Städte mit mindestens 10 Millionen Einwohnern)?  \\\n",
       "0                                                   4                                                       \n",
       "1                                                   3                                                       \n",
       "2                                                   5                                                       \n",
       "3                                                   3                                                       \n",
       "4                                                   2                                                       \n",
       "5                                                   4                                                       \n",
       "6                                                   2                                                       \n",
       "7                                                   2                                                       \n",
       "8                                                   4                                                       \n",
       "9                                                   4                                                       \n",
       "10                                                  2                                                       \n",
       "11                                                  3                                                       \n",
       "12                                                  1                                                       \n",
       "13                                                  2                                                       \n",
       "14                                                  4                                                       \n",
       "15                                                  2                                                       \n",
       "16                                                  2                                                       \n",
       "17                                                  2                                                       \n",
       "18                                                  4                                                       \n",
       "19                                                  2                                                       \n",
       "20                                                  4                                                       \n",
       "21                                                  5                                                       \n",
       "22                                                  3                                                       \n",
       "23                                                  4                                                       \n",
       "24                                                  2                                                       \n",
       "25                                                  4                                                       \n",
       "26                                                  2                                                       \n",
       "27                                                  3                                                       \n",
       "28                                                  2                                                       \n",
       "29                                                  2                                                       \n",
       "30                                                  4                                                       \n",
       "31                                                  2                                                       \n",
       "32                                                  3                                                       \n",
       "33                                                  2                                                       \n",
       "34                                                  4                                                       \n",
       "35                                                  4                                                       \n",
       "36                                                  2                                                       \n",
       "37                                                  3                                                       \n",
       "\n",
       "    Wie viele Geleebohnen befinden sich in diesem sechseckigen Glas?  \\\n",
       "0                                                3000                  \n",
       "1                                                 400                  \n",
       "2                                                4000                  \n",
       "3                                                 586                  \n",
       "4                                                 350                  \n",
       "5                                                2700                  \n",
       "6                                                 999                  \n",
       "7                                                 500                  \n",
       "8                                                2136                  \n",
       "9                                                3000                  \n",
       "10                                               5221                  \n",
       "11                                                500                  \n",
       "12                                               3000                  \n",
       "13                                               2000                  \n",
       "14                                                814                  \n",
       "15                                               1000                  \n",
       "16                                               1500                  \n",
       "17                                               2340                  \n",
       "18                                               2057                  \n",
       "19                                               1624                  \n",
       "20                                                543                  \n",
       "21                                               5000                  \n",
       "22                                               1423                  \n",
       "23                                               2000                  \n",
       "24                                               1500                  \n",
       "25                                                558                  \n",
       "26                                                486                  \n",
       "27                                                424                  \n",
       "28                                               1500                  \n",
       "29                                               1989                  \n",
       "30                                               1000                  \n",
       "31                                                200                  \n",
       "32                                                300                  \n",
       "33                                                332                  \n",
       "34                                               1350                  \n",
       "35                                                750                  \n",
       "36                                               2000                  \n",
       "37                                                700                  \n",
       "\n",
       "    Wie viele Minuten verbringen Sie an einem typischen Tag in sozialen Medien (Facebook, Instagram, Snapchat, etc.)?  \\\n",
       "0                                                  34                                                                   \n",
       "1                                                  34                                                                   \n",
       "2                                                  23                                                                   \n",
       "3                                                 180                                                                   \n",
       "4                                                 120                                                                   \n",
       "5                                                 150                                                                   \n",
       "6                                                 240                                                                   \n",
       "7                                                   2                                                                   \n",
       "8                                                 200                                                                   \n",
       "9                                                 240                                                                   \n",
       "10                                                 60                                                                   \n",
       "11                                                 90                                                                   \n",
       "12                                                 50                                                                   \n",
       "13                                                 15                                                                   \n",
       "14                                                120                                                                   \n",
       "15                                                120                                                                   \n",
       "16                                                360                                                                   \n",
       "17                                                180                                                                   \n",
       "18                                                100                                                                   \n",
       "19                                                180                                                                   \n",
       "20                                                150                                                                   \n",
       "21                                                 35                                                                   \n",
       "22                                                 90                                                                   \n",
       "23                                                120                                                                   \n",
       "24                                                120                                                                   \n",
       "25                                                280                                                                   \n",
       "26                                                120                                                                   \n",
       "27                                                 45                                                                   \n",
       "28                                                120                                                                   \n",
       "29                                                 90                                                                   \n",
       "30                                                 60                                                                   \n",
       "31                                                  3                                                                   \n",
       "32                                                  5                                                                   \n",
       "33                                                120                                                                   \n",
       "34                                                 30                                                                   \n",
       "35                                                 15                                                                   \n",
       "36                                                120                                                                   \n",
       "37                                                180                                                                   \n",
       "\n",
       "    Wie viele Minuten investieren Sie ca. pro Tag in Ihr Studium (abgesehen von Lehrveranstaltungen)?  \\\n",
       "0                                                  34                                                   \n",
       "1                                                   2                                                   \n",
       "2                                                  12                                                   \n",
       "3                                                  60                                                   \n",
       "4                                                 200                                                   \n",
       "5                                                  60                                                   \n",
       "6                                                 180                                                   \n",
       "7                                                 180                                                   \n",
       "8                                                  60                                                   \n",
       "9                                                  60                                                   \n",
       "10                                                 15                                                   \n",
       "11                                                 90                                                   \n",
       "12                                                600                                                   \n",
       "13                                                 35                                                   \n",
       "14                                                 90                                                   \n",
       "15                                                120                                                   \n",
       "16                                                 30                                                   \n",
       "17                                                 40                                                   \n",
       "18                                                120                                                   \n",
       "19                                                 45                                                   \n",
       "20                                                 90                                                   \n",
       "21                                                 60                                                   \n",
       "22                                                120                                                   \n",
       "23                                                120                                                   \n",
       "24                                                 90                                                   \n",
       "25                                                180                                                   \n",
       "26                                                180                                                   \n",
       "27                                                120                                                   \n",
       "28                                                 60                                                   \n",
       "29                                                 60                                                   \n",
       "30                                                150                                                   \n",
       "31                                                  2                                                   \n",
       "32                                                100                                                   \n",
       "33                                                 60                                                   \n",
       "34                                                 60                                                   \n",
       "35                                                  4                                                   \n",
       "36                                                 45                                                   \n",
       "37                                                200                                                   \n",
       "\n",
       "   Lesen Sie zur Zeit ein Buch?  Wie alt sind Sie? Sie sind ...  \n",
       "0                            Ja                 22     Männlich  \n",
       "1                          Nein                 34     Weiblich  \n",
       "2                            Ja                 12     Männlich  \n",
       "3                            Ja                 23     Weiblich  \n",
       "4                            Ja                 23     Weiblich  \n",
       "5                          Nein                 26     Männlich  \n",
       "6                            Ja                 22     Weiblich  \n",
       "7                            Ja                 25     Männlich  \n",
       "8                            Ja                 24     Weiblich  \n",
       "9                            Ja                 23     Weiblich  \n",
       "10                         Nein                 22     Männlich  \n",
       "11                           Ja                 26     Weiblich  \n",
       "12                           Ja                 22     Weiblich  \n",
       "13                           Ja                 20     Weiblich  \n",
       "14                           Ja                 20     Weiblich  \n",
       "15                           Ja                 21     Weiblich  \n",
       "16                           Ja                 23     Weiblich  \n",
       "17                         Nein                 19     Weiblich  \n",
       "18                           Ja                 20     Weiblich  \n",
       "19                           Ja                 20     Weiblich  \n",
       "20                         Nein                 20     Weiblich  \n",
       "21                         Nein                 27     Männlich  \n",
       "22                           Ja                 26     Weiblich  \n",
       "23                           Ja                 19     Weiblich  \n",
       "24                           Ja                 25     Weiblich  \n",
       "25                           Ja                 20     Weiblich  \n",
       "26                           Ja                 20     Weiblich  \n",
       "27                         Nein                 20     Weiblich  \n",
       "28                           Ja                 20     Weiblich  \n",
       "29                         Nein                 20     Weiblich  \n",
       "30                           Ja                 21     Weiblich  \n",
       "31                           Ja                 21     Weiblich  \n",
       "32                         Nein                 21     Männlich  \n",
       "33                         Nein                 20     Männlich  \n",
       "34                           Ja                 24     Männlich  \n",
       "35                           Ja                 24     Männlich  \n",
       "36                         Nein                 22     Männlich  \n",
       "37                           Ja                 22     Weiblich  "
      ]
     },
     "execution_count": 3,
     "metadata": {},
     "output_type": "execute_result"
    }
   ],
   "source": [
    "df"
   ]
  },
  {
   "cell_type": "code",
   "execution_count": 4,
   "metadata": {
    "slideshow": {
     "slide_type": "subslide"
    }
   },
   "outputs": [
    {
     "data": {
      "text/plain": [
       "Zeitstempel                                                                                                                                              object\n",
       "Ich bin sportlich                                                                                                                                        object\n",
       "Ich bin fleißig.                                                                                                                                         object\n",
       "Von Rückschlägen lasse ich mich nicht entmutigen.                                                                                                         int64\n",
       "Meine Fähigkeiten und Talente sind vorgegeben und ich kann daran nicht viel ändern.                                                                      object\n",
       "1990 lebten 58 % der Weltbevölkerung in Ländern mit niedrigem Einkommen. Wie hoch ist der Anteil heute? Geben Sie eine Zahl ein (z. B. 9, 37 oder 61)    object\n",
       "Wie viel der weltweit verbrauchten Energie stammt aus Erdgas, Kohle und Öl?                                                                              object\n",
       "Welcher Anteil der Weltbevölkerung lebt in Megacitys (Städte mit mindestens 10 Millionen Einwohnern)?                                                     int64\n",
       "Wie viele Geleebohnen befinden sich in diesem sechseckigen Glas?                                                                                          int64\n",
       "Wie viele Minuten verbringen Sie an einem typischen Tag in sozialen Medien (Facebook, Instagram, Snapchat, etc.)?                                         int64\n",
       "Wie viele Minuten investieren Sie ca. pro Tag in Ihr Studium (abgesehen von Lehrveranstaltungen)?                                                         int64\n",
       "Lesen Sie zur Zeit ein Buch?                                                                                                                             object\n",
       "Wie alt sind Sie?                                                                                                                                         int64\n",
       "Sie sind ...                                                                                                                                             object\n",
       "dtype: object"
      ]
     },
     "execution_count": 4,
     "metadata": {},
     "output_type": "execute_result"
    }
   ],
   "source": [
    "df.dtypes"
   ]
  },
  {
   "cell_type": "code",
   "execution_count": 5,
   "metadata": {
    "slideshow": {
     "slide_type": "subslide"
    }
   },
   "outputs": [
    {
     "name": "stdout",
     "output_type": "stream",
     "text": [
      "<class 'pandas.core.frame.DataFrame'>\n",
      "RangeIndex: 38 entries, 0 to 37\n",
      "Data columns (total 14 columns):\n",
      " #   Column                                                                                                                                                 Non-Null Count  Dtype \n",
      "---  ------                                                                                                                                                 --------------  ----- \n",
      " 0   Zeitstempel                                                                                                                                            38 non-null     object\n",
      " 1   Ich bin sportlich                                                                                                                                      38 non-null     object\n",
      " 2   Ich bin fleißig.                                                                                                                                       38 non-null     object\n",
      " 3   Von Rückschlägen lasse ich mich nicht entmutigen.                                                                                                      38 non-null     int64 \n",
      " 4   Meine Fähigkeiten und Talente sind vorgegeben und ich kann daran nicht viel ändern.                                                                    38 non-null     object\n",
      " 5   1990 lebten 58 % der Weltbevölkerung in Ländern mit niedrigem Einkommen. Wie hoch ist der Anteil heute? Geben Sie eine Zahl ein (z. B. 9, 37 oder 61)  38 non-null     object\n",
      " 6   Wie viel der weltweit verbrauchten Energie stammt aus Erdgas, Kohle und Öl?                                                                            38 non-null     object\n",
      " 7   Welcher Anteil der Weltbevölkerung lebt in Megacitys (Städte mit mindestens 10 Millionen Einwohnern)?                                                  38 non-null     int64 \n",
      " 8   Wie viele Geleebohnen befinden sich in diesem sechseckigen Glas?                                                                                       38 non-null     int64 \n",
      " 9   Wie viele Minuten verbringen Sie an einem typischen Tag in sozialen Medien (Facebook, Instagram, Snapchat, etc.)?                                      38 non-null     int64 \n",
      " 10  Wie viele Minuten investieren Sie ca. pro Tag in Ihr Studium (abgesehen von Lehrveranstaltungen)?                                                      38 non-null     int64 \n",
      " 11  Lesen Sie zur Zeit ein Buch?                                                                                                                           38 non-null     object\n",
      " 12  Wie alt sind Sie?                                                                                                                                      38 non-null     int64 \n",
      " 13  Sie sind ...                                                                                                                                           38 non-null     object\n",
      "dtypes: int64(6), object(8)\n",
      "memory usage: 4.3+ KB\n"
     ]
    }
   ],
   "source": [
    "df.info()"
   ]
  },
  {
   "cell_type": "markdown",
   "metadata": {
    "slideshow": {
     "slide_type": "slide"
    }
   },
   "source": [
    "## Daten anpassen"
   ]
  },
  {
   "cell_type": "markdown",
   "metadata": {
    "slideshow": {
     "slide_type": "fragment"
    }
   },
   "source": [
    "### Spaltennamen"
   ]
  },
  {
   "cell_type": "code",
   "execution_count": 6,
   "metadata": {
    "slideshow": {
     "slide_type": "subslide"
    }
   },
   "outputs": [],
   "source": [
    "# Spaltennamen umbenennen\n",
    "df = df.rename(columns={ \n",
    "            \"Zeitstempel\": \"zeit\",\n",
    "            \"Ich bin sportlich\": \"sport\",\n",
    "            \"Ich bin fleißig.\": \"fleissig\",\n",
    "            \"Von Rückschlägen lasse ich mich nicht entmutigen.\": \"entmutigen\",\n",
    "            \"Meine Fähigkeiten und Talente sind vorgegeben und ich kann daran nicht viel ändern.\": 'talente',\n",
    "            \"1990 lebten 58 % der Weltbevölkerung in Ländern mit niedrigem Einkommen. Wie hoch ist der Anteil heute? Geben Sie eine Zahl ein (z. B. 9, 37 oder 61)\": \"einkommen\",\n",
    "            \"Wie viel der weltweit verbrauchten Energie stammt aus Erdgas, Kohle und Öl?\": \"energie\",\n",
    "            \"Welcher Anteil der Weltbevölkerung lebt in Megacitys (Städte mit mindestens 10 Millionen Einwohnern)?\": \"megacity\",\n",
    "            \"Wie viele Geleebohnen befinden sich in diesem sechseckigen Glas?\": \"geleebohnen\",\n",
    "            \"Wie viele Minuten verbringen Sie an einem typischen Tag in sozialen Medien (Facebook, Instagram, Snapchat, etc.)?\": \"soziale_medien\",\n",
    "            \"Wie viele Minuten investieren Sie ca. pro Tag in Ihr Studium (abgesehen von Lehrveranstaltungen)?\": \"studium\",\n",
    "            \"Lesen Sie zur Zeit ein Buch?\": \"buch\",\n",
    "            \"Wie alt sind Sie?\": \"alter\",\n",
    "            \"Sie sind ...\": \"geschlecht\"\n",
    "}, errors=\"raise\")"
   ]
  },
  {
   "cell_type": "code",
   "execution_count": 7,
   "metadata": {
    "slideshow": {
     "slide_type": "subslide"
    }
   },
   "outputs": [
    {
     "name": "stdout",
     "output_type": "stream",
     "text": [
      "<class 'pandas.core.frame.DataFrame'>\n",
      "RangeIndex: 38 entries, 0 to 37\n",
      "Data columns (total 14 columns):\n",
      " #   Column          Non-Null Count  Dtype \n",
      "---  ------          --------------  ----- \n",
      " 0   zeit            38 non-null     object\n",
      " 1   sport           38 non-null     object\n",
      " 2   fleissig        38 non-null     object\n",
      " 3   entmutigen      38 non-null     int64 \n",
      " 4   talente         38 non-null     object\n",
      " 5   einkommen       38 non-null     object\n",
      " 6   energie         38 non-null     object\n",
      " 7   megacity        38 non-null     int64 \n",
      " 8   geleebohnen     38 non-null     int64 \n",
      " 9   soziale_medien  38 non-null     int64 \n",
      " 10  studium         38 non-null     int64 \n",
      " 11  buch            38 non-null     object\n",
      " 12  alter           38 non-null     int64 \n",
      " 13  geschlecht      38 non-null     object\n",
      "dtypes: int64(6), object(8)\n",
      "memory usage: 4.3+ KB\n"
     ]
    }
   ],
   "source": [
    "df.info()"
   ]
  },
  {
   "cell_type": "markdown",
   "metadata": {
    "slideshow": {
     "slide_type": "slide"
    }
   },
   "source": [
    "### Variablen anpassen"
   ]
  },
  {
   "cell_type": "markdown",
   "metadata": {
    "slideshow": {
     "slide_type": "fragment"
    }
   },
   "source": [
    "#### Nominale Variablen"
   ]
  },
  {
   "cell_type": "code",
   "execution_count": 8,
   "metadata": {
    "slideshow": {
     "slide_type": "slide"
    }
   },
   "outputs": [],
   "source": [
    "# Liste mit nominalen Variablen erstellen\n",
    "list_nominal = [\"buch\", \"geschlecht\"]"
   ]
  },
  {
   "cell_type": "code",
   "execution_count": 9,
   "metadata": {
    "slideshow": {
     "slide_type": "fragment"
    }
   },
   "outputs": [],
   "source": [
    "# Nominale Variablen als kategorial formatieren (category)\n",
    "for i in list_nominal:\n",
    "    df[i] = df[i].astype(\"category\")"
   ]
  },
  {
   "cell_type": "code",
   "execution_count": 10,
   "metadata": {
    "slideshow": {
     "slide_type": "fragment"
    }
   },
   "outputs": [
    {
     "name": "stdout",
     "output_type": "stream",
     "text": [
      "<class 'pandas.core.frame.DataFrame'>\n",
      "RangeIndex: 38 entries, 0 to 37\n",
      "Data columns (total 2 columns):\n",
      " #   Column      Non-Null Count  Dtype   \n",
      "---  ------      --------------  -----   \n",
      " 0   buch        38 non-null     category\n",
      " 1   geschlecht  38 non-null     category\n",
      "dtypes: category(2)\n",
      "memory usage: 452.0 bytes\n"
     ]
    }
   ],
   "source": [
    "# Nominale Variablen anzeigen lassen\n",
    "df[list_nominal].info()"
   ]
  },
  {
   "cell_type": "code",
   "execution_count": 11,
   "metadata": {
    "slideshow": {
     "slide_type": "subslide"
    }
   },
   "outputs": [
    {
     "data": {
      "text/html": [
       "<div>\n",
       "<style scoped>\n",
       "    .dataframe tbody tr th:only-of-type {\n",
       "        vertical-align: middle;\n",
       "    }\n",
       "\n",
       "    .dataframe tbody tr th {\n",
       "        vertical-align: top;\n",
       "    }\n",
       "\n",
       "    .dataframe thead th {\n",
       "        text-align: right;\n",
       "    }\n",
       "</style>\n",
       "<table border=\"1\" class=\"dataframe\">\n",
       "  <thead>\n",
       "    <tr style=\"text-align: right;\">\n",
       "      <th></th>\n",
       "      <th>buch</th>\n",
       "      <th>geschlecht</th>\n",
       "    </tr>\n",
       "  </thead>\n",
       "  <tbody>\n",
       "    <tr>\n",
       "      <th>0</th>\n",
       "      <td>Ja</td>\n",
       "      <td>Männlich</td>\n",
       "    </tr>\n",
       "    <tr>\n",
       "      <th>1</th>\n",
       "      <td>Nein</td>\n",
       "      <td>Weiblich</td>\n",
       "    </tr>\n",
       "    <tr>\n",
       "      <th>2</th>\n",
       "      <td>Ja</td>\n",
       "      <td>Männlich</td>\n",
       "    </tr>\n",
       "    <tr>\n",
       "      <th>3</th>\n",
       "      <td>Ja</td>\n",
       "      <td>Weiblich</td>\n",
       "    </tr>\n",
       "    <tr>\n",
       "      <th>4</th>\n",
       "      <td>Ja</td>\n",
       "      <td>Weiblich</td>\n",
       "    </tr>\n",
       "  </tbody>\n",
       "</table>\n",
       "</div>"
      ],
      "text/plain": [
       "   buch geschlecht\n",
       "0    Ja   Männlich\n",
       "1  Nein   Weiblich\n",
       "2    Ja   Männlich\n",
       "3    Ja   Weiblich\n",
       "4    Ja   Weiblich"
      ]
     },
     "execution_count": 11,
     "metadata": {},
     "output_type": "execute_result"
    }
   ],
   "source": [
    "df[list_nominal].head()"
   ]
  },
  {
   "cell_type": "markdown",
   "metadata": {
    "slideshow": {
     "slide_type": "fragment"
    }
   },
   "source": [
    "- Beide nominalen Variablen enthalten Text in den Zeilen (mit jeweils zwei möglichen Ausprägungen). \n",
    "\n",
    "\n",
    "- Dies kann bei späteren Analysen zu Problemen führen, weshalb wir zusätzlich so genannte \"Dummy-Variablen\" erzeugen, die nur die Werte 1 und 0 enthalten. "
   ]
  },
  {
   "cell_type": "code",
   "execution_count": 12,
   "metadata": {
    "slideshow": {
     "slide_type": "slide"
    }
   },
   "outputs": [
    {
     "data": {
      "text/html": [
       "<div>\n",
       "<style scoped>\n",
       "    .dataframe tbody tr th:only-of-type {\n",
       "        vertical-align: middle;\n",
       "    }\n",
       "\n",
       "    .dataframe tbody tr th {\n",
       "        vertical-align: top;\n",
       "    }\n",
       "\n",
       "    .dataframe thead th {\n",
       "        text-align: right;\n",
       "    }\n",
       "</style>\n",
       "<table border=\"1\" class=\"dataframe\">\n",
       "  <thead>\n",
       "    <tr style=\"text-align: right;\">\n",
       "      <th></th>\n",
       "      <th>buch__Ja</th>\n",
       "      <th>buch__Nein</th>\n",
       "      <th>geschlecht__Männlich</th>\n",
       "      <th>geschlecht__Weiblich</th>\n",
       "    </tr>\n",
       "  </thead>\n",
       "  <tbody>\n",
       "    <tr>\n",
       "      <th>0</th>\n",
       "      <td>1</td>\n",
       "      <td>0</td>\n",
       "      <td>1</td>\n",
       "      <td>0</td>\n",
       "    </tr>\n",
       "    <tr>\n",
       "      <th>1</th>\n",
       "      <td>0</td>\n",
       "      <td>1</td>\n",
       "      <td>0</td>\n",
       "      <td>1</td>\n",
       "    </tr>\n",
       "    <tr>\n",
       "      <th>2</th>\n",
       "      <td>1</td>\n",
       "      <td>0</td>\n",
       "      <td>1</td>\n",
       "      <td>0</td>\n",
       "    </tr>\n",
       "    <tr>\n",
       "      <th>3</th>\n",
       "      <td>1</td>\n",
       "      <td>0</td>\n",
       "      <td>0</td>\n",
       "      <td>1</td>\n",
       "    </tr>\n",
       "    <tr>\n",
       "      <th>4</th>\n",
       "      <td>1</td>\n",
       "      <td>0</td>\n",
       "      <td>0</td>\n",
       "      <td>1</td>\n",
       "    </tr>\n",
       "    <tr>\n",
       "      <th>5</th>\n",
       "      <td>0</td>\n",
       "      <td>1</td>\n",
       "      <td>1</td>\n",
       "      <td>0</td>\n",
       "    </tr>\n",
       "    <tr>\n",
       "      <th>6</th>\n",
       "      <td>1</td>\n",
       "      <td>0</td>\n",
       "      <td>0</td>\n",
       "      <td>1</td>\n",
       "    </tr>\n",
       "    <tr>\n",
       "      <th>7</th>\n",
       "      <td>1</td>\n",
       "      <td>0</td>\n",
       "      <td>1</td>\n",
       "      <td>0</td>\n",
       "    </tr>\n",
       "    <tr>\n",
       "      <th>8</th>\n",
       "      <td>1</td>\n",
       "      <td>0</td>\n",
       "      <td>0</td>\n",
       "      <td>1</td>\n",
       "    </tr>\n",
       "    <tr>\n",
       "      <th>9</th>\n",
       "      <td>1</td>\n",
       "      <td>0</td>\n",
       "      <td>0</td>\n",
       "      <td>1</td>\n",
       "    </tr>\n",
       "    <tr>\n",
       "      <th>10</th>\n",
       "      <td>0</td>\n",
       "      <td>1</td>\n",
       "      <td>1</td>\n",
       "      <td>0</td>\n",
       "    </tr>\n",
       "    <tr>\n",
       "      <th>11</th>\n",
       "      <td>1</td>\n",
       "      <td>0</td>\n",
       "      <td>0</td>\n",
       "      <td>1</td>\n",
       "    </tr>\n",
       "    <tr>\n",
       "      <th>12</th>\n",
       "      <td>1</td>\n",
       "      <td>0</td>\n",
       "      <td>0</td>\n",
       "      <td>1</td>\n",
       "    </tr>\n",
       "    <tr>\n",
       "      <th>13</th>\n",
       "      <td>1</td>\n",
       "      <td>0</td>\n",
       "      <td>0</td>\n",
       "      <td>1</td>\n",
       "    </tr>\n",
       "    <tr>\n",
       "      <th>14</th>\n",
       "      <td>1</td>\n",
       "      <td>0</td>\n",
       "      <td>0</td>\n",
       "      <td>1</td>\n",
       "    </tr>\n",
       "    <tr>\n",
       "      <th>15</th>\n",
       "      <td>1</td>\n",
       "      <td>0</td>\n",
       "      <td>0</td>\n",
       "      <td>1</td>\n",
       "    </tr>\n",
       "    <tr>\n",
       "      <th>16</th>\n",
       "      <td>1</td>\n",
       "      <td>0</td>\n",
       "      <td>0</td>\n",
       "      <td>1</td>\n",
       "    </tr>\n",
       "    <tr>\n",
       "      <th>17</th>\n",
       "      <td>0</td>\n",
       "      <td>1</td>\n",
       "      <td>0</td>\n",
       "      <td>1</td>\n",
       "    </tr>\n",
       "    <tr>\n",
       "      <th>18</th>\n",
       "      <td>1</td>\n",
       "      <td>0</td>\n",
       "      <td>0</td>\n",
       "      <td>1</td>\n",
       "    </tr>\n",
       "    <tr>\n",
       "      <th>19</th>\n",
       "      <td>1</td>\n",
       "      <td>0</td>\n",
       "      <td>0</td>\n",
       "      <td>1</td>\n",
       "    </tr>\n",
       "    <tr>\n",
       "      <th>20</th>\n",
       "      <td>0</td>\n",
       "      <td>1</td>\n",
       "      <td>0</td>\n",
       "      <td>1</td>\n",
       "    </tr>\n",
       "    <tr>\n",
       "      <th>21</th>\n",
       "      <td>0</td>\n",
       "      <td>1</td>\n",
       "      <td>1</td>\n",
       "      <td>0</td>\n",
       "    </tr>\n",
       "    <tr>\n",
       "      <th>22</th>\n",
       "      <td>1</td>\n",
       "      <td>0</td>\n",
       "      <td>0</td>\n",
       "      <td>1</td>\n",
       "    </tr>\n",
       "    <tr>\n",
       "      <th>23</th>\n",
       "      <td>1</td>\n",
       "      <td>0</td>\n",
       "      <td>0</td>\n",
       "      <td>1</td>\n",
       "    </tr>\n",
       "    <tr>\n",
       "      <th>24</th>\n",
       "      <td>1</td>\n",
       "      <td>0</td>\n",
       "      <td>0</td>\n",
       "      <td>1</td>\n",
       "    </tr>\n",
       "    <tr>\n",
       "      <th>25</th>\n",
       "      <td>1</td>\n",
       "      <td>0</td>\n",
       "      <td>0</td>\n",
       "      <td>1</td>\n",
       "    </tr>\n",
       "    <tr>\n",
       "      <th>26</th>\n",
       "      <td>1</td>\n",
       "      <td>0</td>\n",
       "      <td>0</td>\n",
       "      <td>1</td>\n",
       "    </tr>\n",
       "    <tr>\n",
       "      <th>27</th>\n",
       "      <td>0</td>\n",
       "      <td>1</td>\n",
       "      <td>0</td>\n",
       "      <td>1</td>\n",
       "    </tr>\n",
       "    <tr>\n",
       "      <th>28</th>\n",
       "      <td>1</td>\n",
       "      <td>0</td>\n",
       "      <td>0</td>\n",
       "      <td>1</td>\n",
       "    </tr>\n",
       "    <tr>\n",
       "      <th>29</th>\n",
       "      <td>0</td>\n",
       "      <td>1</td>\n",
       "      <td>0</td>\n",
       "      <td>1</td>\n",
       "    </tr>\n",
       "    <tr>\n",
       "      <th>30</th>\n",
       "      <td>1</td>\n",
       "      <td>0</td>\n",
       "      <td>0</td>\n",
       "      <td>1</td>\n",
       "    </tr>\n",
       "    <tr>\n",
       "      <th>31</th>\n",
       "      <td>1</td>\n",
       "      <td>0</td>\n",
       "      <td>0</td>\n",
       "      <td>1</td>\n",
       "    </tr>\n",
       "    <tr>\n",
       "      <th>32</th>\n",
       "      <td>0</td>\n",
       "      <td>1</td>\n",
       "      <td>1</td>\n",
       "      <td>0</td>\n",
       "    </tr>\n",
       "    <tr>\n",
       "      <th>33</th>\n",
       "      <td>0</td>\n",
       "      <td>1</td>\n",
       "      <td>1</td>\n",
       "      <td>0</td>\n",
       "    </tr>\n",
       "    <tr>\n",
       "      <th>34</th>\n",
       "      <td>1</td>\n",
       "      <td>0</td>\n",
       "      <td>1</td>\n",
       "      <td>0</td>\n",
       "    </tr>\n",
       "    <tr>\n",
       "      <th>35</th>\n",
       "      <td>1</td>\n",
       "      <td>0</td>\n",
       "      <td>1</td>\n",
       "      <td>0</td>\n",
       "    </tr>\n",
       "    <tr>\n",
       "      <th>36</th>\n",
       "      <td>0</td>\n",
       "      <td>1</td>\n",
       "      <td>1</td>\n",
       "      <td>0</td>\n",
       "    </tr>\n",
       "    <tr>\n",
       "      <th>37</th>\n",
       "      <td>1</td>\n",
       "      <td>0</td>\n",
       "      <td>0</td>\n",
       "      <td>1</td>\n",
       "    </tr>\n",
       "  </tbody>\n",
       "</table>\n",
       "</div>"
      ],
      "text/plain": [
       "   buch__Ja buch__Nein geschlecht__Männlich geschlecht__Weiblich\n",
       "0         1          0                    1                    0\n",
       "1         0          1                    0                    1\n",
       "2         1          0                    1                    0\n",
       "3         1          0                    0                    1\n",
       "4         1          0                    0                    1\n",
       "5         0          1                    1                    0\n",
       "6         1          0                    0                    1\n",
       "7         1          0                    1                    0\n",
       "8         1          0                    0                    1\n",
       "9         1          0                    0                    1\n",
       "10        0          1                    1                    0\n",
       "11        1          0                    0                    1\n",
       "12        1          0                    0                    1\n",
       "13        1          0                    0                    1\n",
       "14        1          0                    0                    1\n",
       "15        1          0                    0                    1\n",
       "16        1          0                    0                    1\n",
       "17        0          1                    0                    1\n",
       "18        1          0                    0                    1\n",
       "19        1          0                    0                    1\n",
       "20        0          1                    0                    1\n",
       "21        0          1                    1                    0\n",
       "22        1          0                    0                    1\n",
       "23        1          0                    0                    1\n",
       "24        1          0                    0                    1\n",
       "25        1          0                    0                    1\n",
       "26        1          0                    0                    1\n",
       "27        0          1                    0                    1\n",
       "28        1          0                    0                    1\n",
       "29        0          1                    0                    1\n",
       "30        1          0                    0                    1\n",
       "31        1          0                    0                    1\n",
       "32        0          1                    1                    0\n",
       "33        0          1                    1                    0\n",
       "34        1          0                    1                    0\n",
       "35        1          0                    1                    0\n",
       "36        0          1                    1                    0\n",
       "37        1          0                    0                    1"
      ]
     },
     "execution_count": 12,
     "metadata": {},
     "output_type": "execute_result"
    }
   ],
   "source": [
    "dummy_nominal = pd.get_dummies(df[list_nominal],  prefix_sep='__').astype('category')\n",
    "dummy_nominal"
   ]
  },
  {
   "cell_type": "code",
   "execution_count": 13,
   "metadata": {
    "slideshow": {
     "slide_type": "fragment"
    }
   },
   "outputs": [],
   "source": [
    "# Dummy-Variablen hinzufügen\n",
    "df = df.join(dummy_nominal)"
   ]
  },
  {
   "cell_type": "code",
   "execution_count": 14,
   "metadata": {
    "slideshow": {
     "slide_type": "slide"
    }
   },
   "outputs": [],
   "source": [
    "# Liste um die neuen Variablen erweitern \n",
    "dummy_nominal_name = dummy_nominal.columns.tolist()\n",
    "\n",
    "list_nominal.extend(dummy_nominal_name)"
   ]
  },
  {
   "cell_type": "code",
   "execution_count": 15,
   "metadata": {
    "slideshow": {
     "slide_type": "fragment"
    }
   },
   "outputs": [
    {
     "data": {
      "text/plain": [
       "['buch',\n",
       " 'geschlecht',\n",
       " 'buch__Ja',\n",
       " 'buch__Nein',\n",
       " 'geschlecht__Männlich',\n",
       " 'geschlecht__Weiblich']"
      ]
     },
     "execution_count": 15,
     "metadata": {},
     "output_type": "execute_result"
    }
   ],
   "source": [
    "list_nominal"
   ]
  },
  {
   "cell_type": "markdown",
   "metadata": {
    "slideshow": {
     "slide_type": "slide"
    }
   },
   "source": [
    "#### Ordinale Variablen"
   ]
  },
  {
   "cell_type": "markdown",
   "metadata": {
    "slideshow": {
     "slide_type": "fragment"
    }
   },
   "source": [
    "Die Variablen `sport`,`fleissig`, `talente` und `entmutigen` wurden mit Hilfe einer so genannten [Likert-Skala](https://de.wikipedia.org/wiki/Likert-Skala) erhoben. "
   ]
  },
  {
   "cell_type": "markdown",
   "metadata": {
    "slideshow": {
     "slide_type": "skip"
    }
   },
   "source": [
    "Die Antwortmöglichkeiten reichen bei der Likertskala typischerweise von „trifft überhaupt nicht zu“ bis \"trifft völlig zu“, wobei eine gerade Zahl der Antwortmöglichkeiten ebenso gebräuchlich ist wie eine ungerade Anzahl. Es ist jedoch sinnvoll, in einem Fragebogen nur eine der beiden Varianten zu verwenden. Zudem sollte die Reihenfolge der Antwortmöglichkeiten immer identisch sein."
   ]
  },
  {
   "cell_type": "markdown",
   "metadata": {
    "slideshow": {
     "slide_type": "fragment"
    }
   },
   "source": [
    "- Eine **ungerade Anzahl** wird verwendet, wenn eine mittlere Ausprägung (bspw. \"teils teils\") sinnvoll ist. \n",
    "\n",
    "- Eine **gerade Anzahl** zwingt dagegen zur Entscheidung zu einer Seite (tendenzielle Zustimmung oder Ablehnung)."
   ]
  },
  {
   "cell_type": "markdown",
   "metadata": {
    "slideshow": {
     "slide_type": "skip"
    }
   },
   "source": [
    "Da wir nicht davon ausgehen können, dass eine befragte Person die Abstände der einzelnen Antwortmöglichkeiten als gleich weit entfernt wahrnimmt (äquidistant), handelt es sich streng genommen um ein ordinales Skalenniveau. Um bei der späteren Auswertung die erhobenen Daten aber dennoch wie intervallskalierte Daten behandeln zu können, behandelt man die Variablen oftmals als \"quais-metrisch\" und unterstellt somit (zumindest annäherungsweise) äquidistante Abstände. "
   ]
  },
  {
   "cell_type": "markdown",
   "metadata": {
    "slideshow": {
     "slide_type": "slide"
    }
   },
   "source": [
    "Wir behandeln in Folgenden zwei unterschiedliche Optionen zum Umgang mit den Variablen:\n",
    "\n",
    "- Option 1: Wir behandeln die Variablen als ordinale Variablen (wird im Anschluss gezeigt).\n",
    "\n",
    "- Option 2: Wir behandeln die Variablen als \"quasimetrische\" Variablen - d.h. wie numerische Daten (diese Option wird in dem Abschnitt \"Quasi-metrische Variablen\" behandelt)."
   ]
  },
  {
   "cell_type": "markdown",
   "metadata": {
    "slideshow": {
     "slide_type": "skip"
    }
   },
   "source": [
    "In den Fragen wurde \"sport\", \"fleissig\", \"talente\" mit Hilfe von Bezeichnungen wie \"trifft überhaupt nicht zu\" erhoben, während \"entmutigen\" mit Hilfe von numerischen Werten (1 bis 5) erfasst wurde. "
   ]
  },
  {
   "cell_type": "markdown",
   "metadata": {
    "slideshow": {
     "slide_type": "fragment"
    }
   },
   "source": [
    "Da wir besser mit einheitlich skalierten Werten umgehen können, wird zunächst die Variable \"entmutigen\" in das gleiche Format überführt."
   ]
  },
  {
   "cell_type": "markdown",
   "metadata": {
    "slideshow": {
     "slide_type": "subslide"
    }
   },
   "source": [
    "Da wir die Variable `entmutigen` nicht versehentlich durch Datentransformationen fehlerhaft verändern möchten, speichern wir sie zunächst nochmals in der originalen Version ab (als `entmutigen_orig`). "
   ]
  },
  {
   "cell_type": "code",
   "execution_count": 16,
   "metadata": {
    "slideshow": {
     "slide_type": "fragment"
    }
   },
   "outputs": [],
   "source": [
    "df['entmutigen_orig'] = df['entmutigen']"
   ]
  },
  {
   "cell_type": "markdown",
   "metadata": {
    "slideshow": {
     "slide_type": "slide"
    }
   },
   "source": [
    "Erzeugung der Listen für die Veränderung der Variable (in der korrekten Reihenfolge):"
   ]
  },
  {
   "cell_type": "code",
   "execution_count": 17,
   "metadata": {
    "slideshow": {
     "slide_type": "fragment"
    }
   },
   "outputs": [],
   "source": [
    "werte = [1, 2, 3, 4, 5]\n",
    "\n",
    "likert =[\"trifft überhaupt nicht zu\",\n",
    "         \"trifft eher nicht zu\",\n",
    "         \"teils teils\",\n",
    "         \"trifft eher zu\",\n",
    "         \"trifft völlig zu\"]"
   ]
  },
  {
   "cell_type": "code",
   "execution_count": 18,
   "metadata": {
    "slideshow": {
     "slide_type": "fragment"
    }
   },
   "outputs": [
    {
     "data": {
      "text/plain": [
       "0          trifft eher zu\n",
       "1    trifft eher nicht zu\n",
       "2             teils teils\n",
       "3          trifft eher zu\n",
       "4    trifft eher nicht zu\n",
       "Name: entmutigen, dtype: object"
      ]
     },
     "execution_count": 18,
     "metadata": {},
     "output_type": "execute_result"
    }
   ],
   "source": [
    "df['entmutigen'].replace(werte, likert, inplace=True)\n",
    "\n",
    "df['entmutigen'].head()"
   ]
  },
  {
   "cell_type": "code",
   "execution_count": 19,
   "metadata": {
    "slideshow": {
     "slide_type": "slide"
    }
   },
   "outputs": [
    {
     "data": {
      "text/plain": [
       "0    4\n",
       "1    2\n",
       "2    3\n",
       "3    4\n",
       "4    2\n",
       "Name: entmutigen_orig, dtype: int64"
      ]
     },
     "execution_count": 19,
     "metadata": {},
     "output_type": "execute_result"
    }
   ],
   "source": [
    "df['entmutigen_orig'].head()"
   ]
  },
  {
   "cell_type": "markdown",
   "metadata": {
    "slideshow": {
     "slide_type": "slide"
    }
   },
   "source": [
    "Erstellung einer Liste:"
   ]
  },
  {
   "cell_type": "code",
   "execution_count": 20,
   "metadata": {
    "slideshow": {
     "slide_type": "fragment"
    }
   },
   "outputs": [],
   "source": [
    "list_ordinal = [\"sport\", \"fleissig\", \"talente\", \"entmutigen\"]"
   ]
  },
  {
   "cell_type": "code",
   "execution_count": 21,
   "metadata": {
    "slideshow": {
     "slide_type": "fragment"
    }
   },
   "outputs": [
    {
     "data": {
      "text/plain": [
       "CategoricalDtype(categories=['trifft überhaupt nicht zu', 'trifft eher nicht zu',\n",
       "                  'teils teils', 'trifft eher zu', 'trifft völlig zu'],\n",
       ", ordered=True)"
      ]
     },
     "execution_count": 21,
     "metadata": {},
     "output_type": "execute_result"
    }
   ],
   "source": [
    "from pandas.api.types import CategoricalDtype\n",
    "\n",
    "cat_type= CategoricalDtype(categories=likert, ordered=True)\n",
    "\n",
    "cat_type"
   ]
  },
  {
   "cell_type": "code",
   "execution_count": 22,
   "metadata": {
    "slideshow": {
     "slide_type": "fragment"
    }
   },
   "outputs": [],
   "source": [
    "df[list_ordinal] = df[list_ordinal].astype(cat_type)"
   ]
  },
  {
   "cell_type": "code",
   "execution_count": 23,
   "metadata": {
    "slideshow": {
     "slide_type": "subslide"
    }
   },
   "outputs": [
    {
     "data": {
      "text/plain": [
       "0                   teils teils\n",
       "1          trifft eher nicht zu\n",
       "2                   teils teils\n",
       "3              trifft völlig zu\n",
       "4          trifft eher nicht zu\n",
       "5          trifft eher nicht zu\n",
       "6     trifft überhaupt nicht zu\n",
       "7              trifft völlig zu\n",
       "8                trifft eher zu\n",
       "9          trifft eher nicht zu\n",
       "10               trifft eher zu\n",
       "11                  teils teils\n",
       "12                  teils teils\n",
       "13                  teils teils\n",
       "14               trifft eher zu\n",
       "15    trifft überhaupt nicht zu\n",
       "16               trifft eher zu\n",
       "17                  teils teils\n",
       "18                  teils teils\n",
       "19                  teils teils\n",
       "20         trifft eher nicht zu\n",
       "21             trifft völlig zu\n",
       "22               trifft eher zu\n",
       "23               trifft eher zu\n",
       "24               trifft eher zu\n",
       "25         trifft eher nicht zu\n",
       "26         trifft eher nicht zu\n",
       "27               trifft eher zu\n",
       "28         trifft eher nicht zu\n",
       "29             trifft völlig zu\n",
       "30                  teils teils\n",
       "31         trifft eher nicht zu\n",
       "32               trifft eher zu\n",
       "33               trifft eher zu\n",
       "34               trifft eher zu\n",
       "35             trifft völlig zu\n",
       "36                  teils teils\n",
       "37                  teils teils\n",
       "Name: sport, dtype: category\n",
       "Categories (5, object): ['trifft überhaupt nicht zu' < 'trifft eher nicht zu' < 'teils teils' < 'trifft eher zu' < 'trifft völlig zu']"
      ]
     },
     "execution_count": 23,
     "metadata": {},
     "output_type": "execute_result"
    }
   ],
   "source": [
    "df[\"sport\"]"
   ]
  },
  {
   "cell_type": "code",
   "execution_count": 24,
   "metadata": {
    "slideshow": {
     "slide_type": "subslide"
    }
   },
   "outputs": [
    {
     "data": {
      "text/plain": [
       "Index(['trifft überhaupt nicht zu', 'trifft eher nicht zu', 'teils teils',\n",
       "       'trifft eher zu', 'trifft völlig zu'],\n",
       "      dtype='object')"
      ]
     },
     "execution_count": 24,
     "metadata": {},
     "output_type": "execute_result"
    }
   ],
   "source": [
    "# Anzeige der Ausprägungen\n",
    "df['sport'].cat.categories"
   ]
  },
  {
   "cell_type": "markdown",
   "metadata": {
    "slideshow": {
     "slide_type": "slide"
    }
   },
   "source": [
    "#### Kategoriale Variablen"
   ]
  },
  {
   "cell_type": "code",
   "execution_count": 25,
   "metadata": {
    "slideshow": {
     "slide_type": "fragment"
    }
   },
   "outputs": [],
   "source": [
    "list_cat = list_nominal + list_ordinal"
   ]
  },
  {
   "cell_type": "markdown",
   "metadata": {
    "slideshow": {
     "slide_type": "slide"
    }
   },
   "source": [
    "#### Numerische Variablen"
   ]
  },
  {
   "cell_type": "markdown",
   "metadata": {
    "slideshow": {
     "slide_type": "fragment"
    }
   },
   "source": [
    "Wir behandeln zunächst die \"eindeutig\" numerischen Variablen (d.h. wir ignorieren die quasi-metrischen). diese wären:\n",
    "\n",
    "- einkommen\n",
    "- energie\n",
    "- megacity\n",
    "- geleebohnen\n",
    "- soziale_medien\n",
    "- studium\n",
    "- alter"
   ]
  },
  {
   "cell_type": "code",
   "execution_count": 26,
   "metadata": {
    "slideshow": {
     "slide_type": "slide"
    }
   },
   "outputs": [],
   "source": [
    "list_num = ['einkommen', 'energie', 'megacity', 'geleebohnen', \n",
    "            'soziale_medien', 'studium', 'alter']"
   ]
  },
  {
   "cell_type": "code",
   "execution_count": 27,
   "metadata": {
    "slideshow": {
     "slide_type": "fragment"
    }
   },
   "outputs": [
    {
     "name": "stdout",
     "output_type": "stream",
     "text": [
      "<class 'pandas.core.frame.DataFrame'>\n",
      "RangeIndex: 38 entries, 0 to 37\n",
      "Data columns (total 7 columns):\n",
      " #   Column          Non-Null Count  Dtype \n",
      "---  ------          --------------  ----- \n",
      " 0   einkommen       38 non-null     object\n",
      " 1   energie         38 non-null     object\n",
      " 2   megacity        38 non-null     int64 \n",
      " 3   geleebohnen     38 non-null     int64 \n",
      " 4   soziale_medien  38 non-null     int64 \n",
      " 5   studium         38 non-null     int64 \n",
      " 6   alter           38 non-null     int64 \n",
      "dtypes: int64(5), object(2)\n",
      "memory usage: 2.2+ KB\n"
     ]
    }
   ],
   "source": [
    "df[list_num].info()"
   ]
  },
  {
   "cell_type": "markdown",
   "metadata": {
    "slideshow": {
     "slide_type": "skip"
    }
   },
   "source": [
    "Wir können mit `df.info()` erkennen, dass abgesehen von `energie` bereits alle Variablen korrrekt als \"int64\" (siehe zur Bedeutung diesen [Stackoverflow-Beitrag](https://stackoverflow.com/questions/9696660/what-is-the-difference-between-int-int16-int32-and-int64)) gespeichert wurden."
   ]
  },
  {
   "cell_type": "code",
   "execution_count": 28,
   "metadata": {
    "slideshow": {
     "slide_type": "slide"
    }
   },
   "outputs": [
    {
     "data": {
      "text/plain": [
       "0    ca. 42%\n",
       "1    ca. 62%\n",
       "2    ca. 82%\n",
       "3    ca. 62%\n",
       "4    ca. 62%\n",
       "Name: energie, dtype: object"
      ]
     },
     "execution_count": 28,
     "metadata": {},
     "output_type": "execute_result"
    }
   ],
   "source": [
    "df['energie'].head()"
   ]
  },
  {
   "cell_type": "markdown",
   "metadata": {
    "slideshow": {
     "slide_type": "notes"
    }
   },
   "source": [
    "In den Antwortmöglichkeiten der Variable waren neben numerischen Werten auch Buchstaben und ein Sonderzeichen enthalen: \"ca.\" und \"%\". Damit wir sinnvoll mit der Variable arbeiten können, müssen diese entfernt werden. \n",
    "\n",
    "Da wir die Variable nicht versehentlich durch Datentransformationen korrumpieren möchten, speichern wir sie zunächst nochmals in der originalen Version ab (als `energie_orig`). Um die numerischen Werte leichter extrahieren zu können, nutzen wir das Format \"String\"."
   ]
  },
  {
   "cell_type": "code",
   "execution_count": 29,
   "metadata": {
    "slideshow": {
     "slide_type": "fragment"
    }
   },
   "outputs": [],
   "source": [
    "df['energie_orig'] = df['energie'].astype(\"string\")"
   ]
  },
  {
   "cell_type": "markdown",
   "metadata": {
    "slideshow": {
     "slide_type": "slide"
    }
   },
   "source": [
    "Im nächsten Schritt nutzen wir einen [regulärer Ausdruck](https://www.w3schools.com/python/python_regex.asp) (englisch regular expression, Abkürzung RegExp oder Regex) um die Zahl aus dem String zu extrahieren. "
   ]
  },
  {
   "cell_type": "markdown",
   "metadata": {
    "slideshow": {
     "slide_type": "fragment"
    }
   },
   "source": [
    "|Ausdruck|Bedeutung|Beschreibung|\n",
    "|:----|:----|:----|\n",
    "|\\d|digit|eine Ziffer, also [0-9] (und evtl. auch weitere Zahlzeichen in Unicode, z. B. bengalische Ziffern)|\n",
    "|\\D|no digit|ein Zeichen, das keine Ziffer ist, also [^\\d]|\n",
    "|\\w|word character|ein Buchstabe, eine Ziffer oder der Unterstrich, also [a-zA-Z_0-9] (und evtl. auch nicht-lateinische Buchstaben, z. B. Umlaute)|\n",
    "|\\W|no word character|ein Zeichen, das weder Buchstabe noch Zahl noch Unterstrich ist, also [^\\w]|\n",
    "|\\s|whitespace|meist zumindest das Leerzeichen und die Klasse der Steuerzeichen \\f, \\n, \\r, \\t und \\v|\n",
    "|\\S|no whitespace|ein Zeichen, das kein Whitespace ist, also [^\\s]|\n"
   ]
  },
  {
   "cell_type": "markdown",
   "metadata": {
    "slideshow": {
     "slide_type": "fragment"
    }
   },
   "source": [
    "Falls mehr als ein einzelnes Zeichen extrahiert werden soll, muss am Ende des Ausdrucks ein `+` hinzugefügt werden."
   ]
  },
  {
   "cell_type": "markdown",
   "metadata": {
    "slideshow": {
     "slide_type": "slide"
    }
   },
   "source": [
    "Wir nutzen regular expressions und überschreiben die alte Variable energie mit dem neuen Eintrag. Zudem speichern wir sie als integer."
   ]
  },
  {
   "cell_type": "code",
   "execution_count": 30,
   "metadata": {
    "slideshow": {
     "slide_type": "fragment"
    }
   },
   "outputs": [],
   "source": [
    "df['energie'] = df['energie_orig'].str.extract('(\\d+)').astype(int)"
   ]
  },
  {
   "cell_type": "code",
   "execution_count": 31,
   "metadata": {
    "slideshow": {
     "slide_type": "fragment"
    }
   },
   "outputs": [
    {
     "data": {
      "text/html": [
       "<div>\n",
       "<style scoped>\n",
       "    .dataframe tbody tr th:only-of-type {\n",
       "        vertical-align: middle;\n",
       "    }\n",
       "\n",
       "    .dataframe tbody tr th {\n",
       "        vertical-align: top;\n",
       "    }\n",
       "\n",
       "    .dataframe thead th {\n",
       "        text-align: right;\n",
       "    }\n",
       "</style>\n",
       "<table border=\"1\" class=\"dataframe\">\n",
       "  <thead>\n",
       "    <tr style=\"text-align: right;\">\n",
       "      <th></th>\n",
       "      <th>energie_orig</th>\n",
       "      <th>energie</th>\n",
       "    </tr>\n",
       "  </thead>\n",
       "  <tbody>\n",
       "    <tr>\n",
       "      <th>0</th>\n",
       "      <td>ca. 42%</td>\n",
       "      <td>42</td>\n",
       "    </tr>\n",
       "    <tr>\n",
       "      <th>1</th>\n",
       "      <td>ca. 62%</td>\n",
       "      <td>62</td>\n",
       "    </tr>\n",
       "    <tr>\n",
       "      <th>2</th>\n",
       "      <td>ca. 82%</td>\n",
       "      <td>82</td>\n",
       "    </tr>\n",
       "    <tr>\n",
       "      <th>3</th>\n",
       "      <td>ca. 62%</td>\n",
       "      <td>62</td>\n",
       "    </tr>\n",
       "    <tr>\n",
       "      <th>4</th>\n",
       "      <td>ca. 62%</td>\n",
       "      <td>62</td>\n",
       "    </tr>\n",
       "  </tbody>\n",
       "</table>\n",
       "</div>"
      ],
      "text/plain": [
       "  energie_orig  energie\n",
       "0      ca. 42%       42\n",
       "1      ca. 62%       62\n",
       "2      ca. 82%       82\n",
       "3      ca. 62%       62\n",
       "4      ca. 62%       62"
      ]
     },
     "execution_count": 31,
     "metadata": {},
     "output_type": "execute_result"
    }
   ],
   "source": [
    "df[['energie_orig', 'energie']].head()"
   ]
  },
  {
   "cell_type": "markdown",
   "metadata": {
    "slideshow": {
     "slide_type": "slide"
    }
   },
   "source": [
    "### Quasi-metrische Variablen"
   ]
  },
  {
   "cell_type": "markdown",
   "metadata": {
    "slideshow": {
     "slide_type": "notes"
    }
   },
   "source": [
    "Wie bereits erwähnt wurden die Variablen `sport`,`fleissig`, und `talente` mit Hilfe einer  [Likert-Skala](https://de.wikipedia.org/wiki/Likert-Skala) erhoben und könnten somit auch als \"quasi-metrisch\" behandelt werden (anstelle von ordinal)."
   ]
  },
  {
   "cell_type": "markdown",
   "metadata": {
    "slideshow": {
     "slide_type": "notes"
    }
   },
   "source": [
    "Dabei muss jedoch beachtet werden, dass bspw. der Mittelwert aufgrund der Art der Messung (insbesondere wenn eine neutrale mittlere Ausprägung verwendet wird) an Aussagekraft verlieren."
   ]
  },
  {
   "cell_type": "markdown",
   "metadata": {
    "slideshow": {
     "slide_type": "fragment"
    }
   },
   "source": [
    "Damit wir die Originaldaten nicht \"verlieren\", erzeugen wir neue Variablen. Dafür kopieren wir die Daten und fügen diesen die Endung \"qm\" (für quasimetrisch) hinzu. "
   ]
  },
  {
   "cell_type": "code",
   "execution_count": 32,
   "metadata": {
    "slideshow": {
     "slide_type": "slide"
    }
   },
   "outputs": [],
   "source": [
    "for i in list_ordinal:\n",
    "    df[i + \"_qm\"] = df[i]"
   ]
  },
  {
   "cell_type": "code",
   "execution_count": 33,
   "metadata": {
    "slideshow": {
     "slide_type": "fragment"
    }
   },
   "outputs": [
    {
     "data": {
      "text/plain": [
       "['sport_qm', 'fleissig_qm', 'talente_qm', 'entmutigen_qm']"
      ]
     },
     "execution_count": 33,
     "metadata": {},
     "output_type": "execute_result"
    }
   ],
   "source": [
    "# Erstellung der Liste mit Hilfe von filter und regular expressions\n",
    "list_qm = df.filter(regex='_qm').columns.to_list()\n",
    "\n",
    "list_qm"
   ]
  },
  {
   "cell_type": "code",
   "execution_count": 34,
   "metadata": {
    "slideshow": {
     "slide_type": "subslide"
    }
   },
   "outputs": [
    {
     "name": "stdout",
     "output_type": "stream",
     "text": [
      "<class 'pandas.core.frame.DataFrame'>\n",
      "RangeIndex: 38 entries, 0 to 37\n",
      "Data columns (total 4 columns):\n",
      " #   Column         Non-Null Count  Dtype   \n",
      "---  ------         --------------  -----   \n",
      " 0   sport_qm       38 non-null     category\n",
      " 1   fleissig_qm    38 non-null     category\n",
      " 2   talente_qm     38 non-null     category\n",
      " 3   entmutigen_qm  38 non-null     category\n",
      "dtypes: category(4)\n",
      "memory usage: 1.1 KB\n"
     ]
    }
   ],
   "source": [
    "df[list_qm].info()"
   ]
  },
  {
   "cell_type": "markdown",
   "metadata": {
    "slideshow": {
     "slide_type": "slide"
    }
   },
   "source": [
    "Wir nutzen nun ein ähnliches Vorgehen wie bei der Anpassung der Variable \"entmutigen\""
   ]
  },
  {
   "cell_type": "code",
   "execution_count": 35,
   "metadata": {
    "slideshow": {
     "slide_type": "fragment"
    }
   },
   "outputs": [],
   "source": [
    "for i in list_qm:\n",
    "    df[i].replace(likert, werte, inplace=True)\n",
    "    df[i] = df[i].astype(\"int\")"
   ]
  },
  {
   "cell_type": "code",
   "execution_count": 36,
   "metadata": {
    "slideshow": {
     "slide_type": "fragment"
    }
   },
   "outputs": [
    {
     "data": {
      "text/html": [
       "<div>\n",
       "<style scoped>\n",
       "    .dataframe tbody tr th:only-of-type {\n",
       "        vertical-align: middle;\n",
       "    }\n",
       "\n",
       "    .dataframe tbody tr th {\n",
       "        vertical-align: top;\n",
       "    }\n",
       "\n",
       "    .dataframe thead th {\n",
       "        text-align: right;\n",
       "    }\n",
       "</style>\n",
       "<table border=\"1\" class=\"dataframe\">\n",
       "  <thead>\n",
       "    <tr style=\"text-align: right;\">\n",
       "      <th></th>\n",
       "      <th>sport_qm</th>\n",
       "      <th>fleissig_qm</th>\n",
       "      <th>talente_qm</th>\n",
       "      <th>entmutigen_qm</th>\n",
       "    </tr>\n",
       "  </thead>\n",
       "  <tbody>\n",
       "    <tr>\n",
       "      <th>0</th>\n",
       "      <td>3</td>\n",
       "      <td>4</td>\n",
       "      <td>1</td>\n",
       "      <td>4</td>\n",
       "    </tr>\n",
       "    <tr>\n",
       "      <th>1</th>\n",
       "      <td>2</td>\n",
       "      <td>2</td>\n",
       "      <td>4</td>\n",
       "      <td>2</td>\n",
       "    </tr>\n",
       "    <tr>\n",
       "      <th>2</th>\n",
       "      <td>3</td>\n",
       "      <td>2</td>\n",
       "      <td>4</td>\n",
       "      <td>3</td>\n",
       "    </tr>\n",
       "    <tr>\n",
       "      <th>3</th>\n",
       "      <td>5</td>\n",
       "      <td>4</td>\n",
       "      <td>2</td>\n",
       "      <td>4</td>\n",
       "    </tr>\n",
       "    <tr>\n",
       "      <th>4</th>\n",
       "      <td>2</td>\n",
       "      <td>5</td>\n",
       "      <td>2</td>\n",
       "      <td>2</td>\n",
       "    </tr>\n",
       "  </tbody>\n",
       "</table>\n",
       "</div>"
      ],
      "text/plain": [
       "   sport_qm  fleissig_qm  talente_qm  entmutigen_qm\n",
       "0         3            4           1              4\n",
       "1         2            2           4              2\n",
       "2         3            2           4              3\n",
       "3         5            4           2              4\n",
       "4         2            5           2              2"
      ]
     },
     "execution_count": 36,
     "metadata": {},
     "output_type": "execute_result"
    }
   ],
   "source": [
    "df[list_qm].head()"
   ]
  },
  {
   "cell_type": "code",
   "execution_count": 37,
   "metadata": {
    "slideshow": {
     "slide_type": "subslide"
    }
   },
   "outputs": [
    {
     "name": "stdout",
     "output_type": "stream",
     "text": [
      "<class 'pandas.core.frame.DataFrame'>\n",
      "RangeIndex: 38 entries, 0 to 37\n",
      "Data columns (total 4 columns):\n",
      " #   Column         Non-Null Count  Dtype\n",
      "---  ------         --------------  -----\n",
      " 0   sport_qm       38 non-null     int64\n",
      " 1   fleissig_qm    38 non-null     int64\n",
      " 2   talente_qm     38 non-null     int64\n",
      " 3   entmutigen_qm  38 non-null     int64\n",
      "dtypes: int64(4)\n",
      "memory usage: 1.3 KB\n"
     ]
    }
   ],
   "source": [
    "df[list_qm].info()"
   ]
  },
  {
   "cell_type": "markdown",
   "metadata": {
    "slideshow": {
     "slide_type": "slide"
    }
   },
   "source": [
    "#### Metrische Variablen"
   ]
  },
  {
   "cell_type": "code",
   "execution_count": 38,
   "metadata": {
    "slideshow": {
     "slide_type": "fragment"
    }
   },
   "outputs": [],
   "source": [
    "list_metric = list_num + list_qm"
   ]
  },
  {
   "cell_type": "markdown",
   "metadata": {
    "slideshow": {
     "slide_type": "slide"
    }
   },
   "source": [
    "## Temporäre Daten speichern"
   ]
  },
  {
   "cell_type": "markdown",
   "metadata": {
    "slideshow": {
     "slide_type": "slide"
    }
   },
   "source": [
    "Speichern als CSV:"
   ]
  },
  {
   "cell_type": "code",
   "execution_count": 40,
   "metadata": {
    "slideshow": {
     "slide_type": "fragment"
    }
   },
   "outputs": [],
   "source": [
    "PATH = \"data/\"\n",
    "FILE = \"clean_ws22\"\n",
    "FORMAT_CSV = \".csv\""
   ]
  },
  {
   "cell_type": "code",
   "execution_count": 41,
   "metadata": {
    "slideshow": {
     "slide_type": "fragment"
    }
   },
   "outputs": [],
   "source": [
    "df.to_csv(PATH + FILE + FORMAT_CSV, index=False)"
   ]
  },
  {
   "cell_type": "markdown",
   "metadata": {
    "slideshow": {
     "slide_type": "slide"
    }
   },
   "source": [
    "Speichern als Excel-Datei:"
   ]
  },
  {
   "cell_type": "code",
   "execution_count": 42,
   "metadata": {
    "slideshow": {
     "slide_type": "fragment"
    }
   },
   "outputs": [],
   "source": [
    "FORMAT_EXCEL = \".xlsx\"\n",
    "\n",
    "df.to_excel(PATH + FILE + FORMAT_EXCEL, index=False)"
   ]
  }
 ],
 "metadata": {
  "celltoolbar": "Slideshow",
  "kernelspec": {
   "display_name": "Python 3.9.12 ('base')",
   "language": "python",
   "name": "python3"
  },
  "language_info": {
   "codemirror_mode": {
    "name": "ipython",
    "version": 3
   },
   "file_extension": ".py",
   "mimetype": "text/x-python",
   "name": "python",
   "nbconvert_exporter": "python",
   "pygments_lexer": "ipython3",
   "version": "3.10.9"
  },
  "varInspector": {
   "cols": {
    "lenName": 16,
    "lenType": 16,
    "lenVar": 40
   },
   "kernels_config": {
    "python": {
     "delete_cmd_postfix": "",
     "delete_cmd_prefix": "del ",
     "library": "var_list.py",
     "varRefreshCmd": "print(var_dic_list())"
    },
    "r": {
     "delete_cmd_postfix": ") ",
     "delete_cmd_prefix": "rm(",
     "library": "var_list.r",
     "varRefreshCmd": "cat(var_dic_list()) "
    }
   },
   "types_to_exclude": [
    "module",
    "function",
    "builtin_function_or_method",
    "instance",
    "_Feature"
   ],
   "window_display": false
  },
  "vscode": {
   "interpreter": {
    "hash": "463226f144cc21b006ce6927bfc93dd00694e52c8bc6857abb6e555b983749e9"
   }
  }
 },
 "nbformat": 4,
 "nbformat_minor": 2
}
