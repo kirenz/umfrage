{
  "cells": [
    {
      "cell_type": "markdown",
      "metadata": {
        "id": "SF153P2NjbA3"
      },
      "source": [
        "# First steps in pandas\n",
        "\n",
        "*This very short introduction to pandas is mainly based on the excellent [pandas documentation](https://pandas.pydata.org/docs/user_guide/10min.html).*\n",
        "\n",
        "To use this tutorial, I recommend the following procedure:\n",
        "\n",
        "1. On your machine, create a new folder called `pandas`\n",
        "1. Download this tutorial as .ipynb (on the top right of this webpage, select the download button) and move it to your `pandas` folder\n",
        "1. Open Visual Studio Code and select the \"Explorer\" symbol on the top left in the [Activity Bar](https://code.visualstudio.com/docs/getstarted/userinterface)\n",
        "1. Select \"Open Folder\" and choose your folder `pandas`. This folder is now your project directory\n",
        "1. In the Explorer, open the file `pandas-intro-short.ipynb`"
      ]
    },
    {
      "cell_type": "markdown",
      "metadata": {
        "id": "jEinWbM2jbA6"
      },
      "source": [
        "## Import pandas\n",
        "\n",
        "- To load the pandas package and start working with it, import the package. \n",
        "- The community agreed alias for pandas is `pd`, so loading pandas as pd is assumed standard practice for all of the pandas documentation:"
      ]
    },
    {
      "cell_type": "code",
      "execution_count": null,
      "metadata": {
        "id": "PA21XrZLjbA6"
      },
      "outputs": [],
      "source": [
        "import pandas as pd"
      ]
    },
    {
      "cell_type": "markdown",
      "metadata": {
        "id": "6k83EHPmjbA7"
      },
      "source": [
        "## Data creation"
      ]
    },
    {
      "cell_type": "markdown",
      "metadata": {
        "id": "kpKQTyO9jbA8"
      },
      "source": [
        "- To manually store data in a table, create a DataFrame:"
      ]
    },
    {
      "cell_type": "code",
      "execution_count": null,
      "metadata": {
        "id": "2BdBs_-ZjbA8"
      },
      "outputs": [],
      "source": [
        "# create the DataFrame and name it my_df\n",
        "# ADD: gender with male, female and male\n",
        "\n",
        "my_df = pd.DataFrame(\n",
        "    { \n",
        "        'name': [ \"Tom\", \"Lisa\", \"Peter\"],\n",
        "        'height': [1.68, 1.93, 1.72],\n",
        "        'weight': [48.4, 89.8, 84.2]\n",
        " #       ______     ________\n",
        "        }\n",
        ")"
      ]
    },
    {
      "cell_type": "code",
      "execution_count": null,
      "metadata": {
        "id": "SflcE56hjbA8"
      },
      "outputs": [],
      "source": [
        "# show my_df\n",
        "my_df"
      ]
    },
    {
      "cell_type": "markdown",
      "metadata": {
        "id": "iPdLO91DjbA9"
      },
      "source": [
        "## Import data"
      ]
    },
    {
      "cell_type": "markdown",
      "metadata": {
        "id": "nG3O9ev8jbA9"
      },
      "source": [
        "![](https://pandas.pydata.org/docs/_images/02_io_readwrite.svg)"
      ]
    },
    {
      "cell_type": "markdown",
      "metadata": {
        "id": "jqa4zqZJjbA9"
      },
      "source": [
        "- pandas supports many different file formats or data sources out of the box (csv, excel, sql, json, parquet, …)\n",
        "- each of them import data with the prefix `read_*`\n",
        "- Import data, available as a CSV file in a GitHub repo:"
      ]
    },
    {
      "cell_type": "code",
      "execution_count": null,
      "metadata": {
        "id": "o6dLgIDCjbA-"
      },
      "outputs": [],
      "source": [
        "# df = pd.____(\"https://raw.githubusercontent.com/kirenz/datasets/master/height.csv\")\n",
        "\n",
        "# show head\n",
        "df.head()"
      ]
    },
    {
      "cell_type": "code",
      "execution_count": null,
      "metadata": {
        "id": "R8QJsnMHjbA-"
      },
      "outputs": [],
      "source": [
        "# same import with different style\n",
        "\n",
        "ROOT = \"https://raw.githubusercontent.com/kirenz/datasets/master/\"\n",
        "DATA = \"___\"\n",
        "\n",
        "df = pd.read_csv(ROOT + ___)\n",
        "\n",
        "# show head\n",
        "df.head()"
      ]
    },
    {
      "cell_type": "markdown",
      "metadata": {
        "id": "pDm5YaBfjbA-"
      },
      "source": [
        "## Store data\n",
        "\n",
        "- pandas supports many different file formats (csv, excel, sql, json, parquet, …)\n",
        "- each of them stores data with the prefix `to_*`\n",
        "- The following code will save data as an Excel file in your current directory (you may need to install [OpenPyXL](https://openpyxl.readthedocs.io/en/stable/) first. \n",
        "\n",
        ":::{note}\n",
        "[Anaconda installation of OpenPyXL](https://anaconda.org/anaconda/openpyxl)):\n",
        ":::\n",
        "\n",
        "- In the example here, the `sheet_name` is named people_height instead of the default Sheet1. By setting `index=False` the row index labels are not saved in the spreadsheet:"
      ]
    },
    {
      "cell_type": "code",
      "execution_count": null,
      "metadata": {
        "id": "d9JMTqHPjbA-"
      },
      "outputs": [],
      "source": [
        "df.____(\"height.xlsx\", sheet_name=\"people_height\", index=False)"
      ]
    },
    {
      "cell_type": "markdown",
      "metadata": {
        "id": "fja4WIMNjbA_"
      },
      "source": [
        "- The equivalent read function `read_excel()` would reload the data to a DataFrame:"
      ]
    },
    {
      "cell_type": "code",
      "execution_count": null,
      "metadata": {
        "id": "xDPov8XpjbA_"
      },
      "outputs": [],
      "source": [
        "# load excel file\n",
        "df_new = pd._____(\"height.xlsx\", sheet_name=\"people_height\")"
      ]
    },
    {
      "cell_type": "markdown",
      "metadata": {
        "id": "HO_aYTc1jbA_"
      },
      "source": [
        "## Viewing data"
      ]
    },
    {
      "cell_type": "markdown",
      "metadata": {
        "id": "TgZGfXL1jbA_"
      },
      "source": [
        "### Overview"
      ]
    },
    {
      "cell_type": "code",
      "execution_count": null,
      "metadata": {
        "id": "xRMWpOcfjbA_"
      },
      "outputs": [],
      "source": [
        "# show df\n",
        "df"
      ]
    },
    {
      "cell_type": "code",
      "execution_count": null,
      "metadata": {
        "id": "CcAhDi9bjbA_"
      },
      "outputs": [],
      "source": [
        "# show first 2 rows\n",
        "df.head(_)"
      ]
    },
    {
      "cell_type": "code",
      "execution_count": null,
      "metadata": {
        "id": "omloxSi9jbBA"
      },
      "outputs": [],
      "source": [
        "# show last 2 rows\n",
        "df.tail(_)"
      ]
    },
    {
      "cell_type": "markdown",
      "metadata": {
        "id": "Rp931ZIYjbBA"
      },
      "source": [
        "- The `info()` method prints information about a DataFrame including the index dtype and columns, non-null values and memory usage:"
      ]
    },
    {
      "cell_type": "code",
      "execution_count": null,
      "metadata": {
        "id": "Q_BAks9CjbBA"
      },
      "outputs": [],
      "source": [
        "df.info()"
      ]
    },
    {
      "cell_type": "markdown",
      "metadata": {
        "id": "OWQyX478jbBA"
      },
      "source": [
        "### Column names"
      ]
    },
    {
      "cell_type": "code",
      "execution_count": null,
      "metadata": {
        "id": "kpNCVZ2yjbBA"
      },
      "outputs": [],
      "source": [
        "# Show columns\n",
        "df.columns"
      ]
    },
    {
      "cell_type": "markdown",
      "metadata": {
        "id": "IpPUKjEijbBA"
      },
      "source": [
        "### Data type"
      ]
    },
    {
      "cell_type": "markdown",
      "metadata": {
        "id": "sSHOhKUFjbBA"
      },
      "source": [
        "- Show data types ([dtypes](https://pandas.pydata.org/docs/user_guide/basics.html#basics-dtypes))."
      ]
    },
    {
      "cell_type": "code",
      "execution_count": null,
      "metadata": {
        "id": "IjkX-G1bjbBB"
      },
      "outputs": [],
      "source": [
        "df.___"
      ]
    },
    {
      "cell_type": "markdown",
      "metadata": {
        "id": "xSx_QC71jbBB"
      },
      "source": [
        "- The data types in this DataFrame are integers (int64), floats (float64) and strings (object)."
      ]
    },
    {
      "cell_type": "markdown",
      "metadata": {
        "id": "lHFBCAAvjbBB"
      },
      "source": [
        "### Index"
      ]
    },
    {
      "cell_type": "code",
      "execution_count": null,
      "metadata": {
        "id": "JbQoDV9AjbBB"
      },
      "outputs": [],
      "source": [
        "# Only show index\n",
        "df.___"
      ]
    },
    {
      "cell_type": "markdown",
      "metadata": {
        "id": "jxwnFzBwjbBB"
      },
      "source": [
        "## Change column names\n",
        "\n",
        "- Usually, we prefer to work with columns that have the following proporties:\n",
        "  - no leading or trailing whitespace (`\"name\"` instead of `\" name \"`, `\" name\"` or `\"name \"`)\n",
        "  - all lowercase (`\"name\"` instead of `\"Name\"`)\n",
        "  - now white spaces (`\"my_name\"` instead of `\"my name\"`)"
      ]
    },
    {
      "cell_type": "markdown",
      "metadata": {
        "id": "sPfgRD0GjbBB"
      },
      "source": [
        "### Simple rename"
      ]
    },
    {
      "cell_type": "markdown",
      "metadata": {
        "id": "mRkJuJC9jbBB"
      },
      "source": [
        "- First, we rename columns by simply using a mapping\n",
        "- We rename `\"Name\"` to `\"name\"` and just print the result (we want to display errors and don't save the changes for now):"
      ]
    },
    {
      "cell_type": "code",
      "execution_count": null,
      "metadata": {
        "id": "7OHSdaIqjbBB"
      },
      "outputs": [],
      "source": [
        "df.___(columns={\"Name\": \"___\"}, errors=\"raise\")"
      ]
    },
    {
      "cell_type": "markdown",
      "metadata": {
        "id": "3jB0bJWpjbBB"
      },
      "source": [
        "- Let`s rename Gender to gender\n",
        "- Again, we just want to display the result (without saving it).\n",
        "- Remove the # and run the following code:"
      ]
    },
    {
      "cell_type": "code",
      "execution_count": null,
      "metadata": {
        "id": "jpycS7nOjbBC"
      },
      "outputs": [],
      "source": [
        "# df.rename(columns={\"Gender\": \"gender\"}, errors=\"raise\")"
      ]
    },
    {
      "cell_type": "markdown",
      "metadata": {
        "id": "d7TDFI-3jbBC"
      },
      "source": [
        "- This raises an error. Can you spot the problem? (take a look at the end of the error statement)\n",
        "- The KeyError statement tells us that `\"['Gender'] not found in axis\"`\n",
        "- This is because variable Gender has a white space at the beginning: `[ Gender]`\n",
        "- We could fix this problem by typing `\" Gender\"` instead of `\"Gender\"`\n",
        "- However, there are useful functions (regular expressions) to deal with this kind of problems"
      ]
    },
    {
      "cell_type": "markdown",
      "metadata": {
        "id": "xorRqUa5jbBC"
      },
      "source": [
        "### Trailing and leading spaces (with regex)"
      ]
    },
    {
      "cell_type": "markdown",
      "metadata": {
        "id": "sVplIxzAjbBC"
      },
      "source": [
        "- We use regular expressions to deal with whitespaces\n",
        "- To change multiple column names at once, we use the method `.columns.str` \n",
        "- To replace the spaces, we use `.replace()` with `regex=True`\n",
        "- In the following function, we search for leading (line start and spaces) and trailing (spaces and line end) spaces and replace them with an empty string:"
      ]
    },
    {
      "cell_type": "code",
      "execution_count": null,
      "metadata": {
        "id": "O4tRe5RZjbBC"
      },
      "outputs": [],
      "source": [
        "# replace r\"this pattern\" with empty string r\"\"\n",
        "df.columns = df.columns.str.replace(r\" \", r\"\", regex=True)"
      ]
    },
    {
      "cell_type": "markdown",
      "metadata": {
        "id": "IUP6K0vLjbBC"
      },
      "source": [
        "Explanation for the regex (see also [Stackoverflow](https://stackoverflow.com/a/67466222)):\n",
        "\n",
        "- we start with `r` (for raw) which tells Python to treat all following input as raw text (without interpreting it)\n",
        "- \"`^`\": is line start\n",
        "- \"` +`\": (space and plus) is one or more spaces\n",
        "- \"`|`\": is or\n",
        "- \"`$`\": is line end"
      ]
    },
    {
      "cell_type": "markdown",
      "metadata": {
        "id": "cLiMnLeVjbBC"
      },
      "source": [
        "\n",
        "To learn more about regular expressions (\"regex\"), visit the following sites:\n",
        "\n",
        "- [regular expression basics](https://www.w3schools.com/python/python_regex.asp).\n",
        "- [interactive regular expressions tool](https://regex101.com/)"
      ]
    },
    {
      "cell_type": "markdown",
      "metadata": {
        "id": "3Tp4q-UljbBC"
      },
      "source": [
        "### Replace special characters\n",
        "\n",
        "- Again, we use regular expressions to deal with special characters (like %, &, $ etc.)"
      ]
    },
    {
      "cell_type": "code",
      "execution_count": null,
      "metadata": {
        "id": "MSegK9bYjbBD"
      },
      "outputs": [],
      "source": [
        "# replace r\" % \" with empty string r\"\"\n",
        "df.columns = df.columns.str.replace(r\" \", r\"\", regex=True)\n",
        "\n",
        "df.columns"
      ]
    },
    {
      "cell_type": "markdown",
      "metadata": {
        "id": "pEJ7Q5fnjbBD"
      },
      "source": [
        "### Lowercase and whitespace\n",
        "\n",
        "- We can use two simple methods to convert all columns to lowercase and replace white spaces with underscores (\"_\"):"
      ]
    },
    {
      "cell_type": "code",
      "execution_count": null,
      "metadata": {
        "id": "958GNQwljbBD"
      },
      "outputs": [],
      "source": [
        "df.columns = df.columns.str.___().str.replace(' ', '_')\n",
        "\n",
        "df.columns"
      ]
    },
    {
      "cell_type": "markdown",
      "metadata": {
        "id": "lGneA8fpjbBD"
      },
      "source": [
        "## Change data type\n",
        "\n",
        "- There are several methods to [change data types in pandas](https://pandas.pydata.org/docs/reference/api/pandas.DataFrame.astype.html):\n",
        "\n",
        "  - `.astype()`: Convert to a specific type (like \"int32\", \"float\" or \"catgeory\")\n",
        "  - `to_datetime`: Convert argument to datetime.\n",
        "  - `to_timedelta`: Convert argument to timedelta.\n",
        "  - `to_numeric`: Convert argument to a numeric type.\n",
        "  - `numpy.ndarray.astype`: Cast a numpy array to a specified type."
      ]
    },
    {
      "cell_type": "markdown",
      "metadata": {
        "id": "HEK6pN41jbBD"
      },
      "source": [
        "### Categorical data\n",
        "\n",
        "- Categoricals are a pandas data type corresponding to categorical variables in statistics. \n",
        "\n",
        "- A categorical variable takes on a limited, and usually fixed, number of possible values (categories). Examples are gender, social class, blood type, country affiliation, observation time or rating via Likert scales.\n",
        "\n",
        "- Converting an existing column to a category dtype:"
      ]
    },
    {
      "cell_type": "code",
      "execution_count": null,
      "metadata": {
        "id": "9X1W-6vqjbBD"
      },
      "outputs": [],
      "source": [
        "df[\"gender\"] = df[\"gender\"].astype(\"___\")\n",
        "\n",
        "df.dtypes"
      ]
    },
    {
      "cell_type": "markdown",
      "metadata": {
        "id": "BUQoLdGejbBD"
      },
      "source": [
        "### String data\n",
        "\n",
        "- In our example, id is not a number (we can't perform calculations with it)\n",
        "- It is just a unique identifier so we should transform it to a simple string (object)"
      ]
    },
    {
      "cell_type": "code",
      "execution_count": null,
      "metadata": {
        "id": "7KjfphXFjbBD"
      },
      "outputs": [],
      "source": [
        "df['id'] = df['id'].astype(___)\n",
        "\n",
        "df.dtypes"
      ]
    },
    {
      "cell_type": "markdown",
      "metadata": {
        "id": "4xIT8R2fjbBD"
      },
      "source": [
        "## Add new columns"
      ]
    },
    {
      "cell_type": "markdown",
      "metadata": {
        "id": "E6uaMS-KjbBE"
      },
      "source": [
        "### Constant"
      ]
    },
    {
      "cell_type": "code",
      "execution_count": null,
      "metadata": {
        "id": "71Wza8CJjbBE"
      },
      "outputs": [],
      "source": [
        "# add a constant to all rows\n",
        "df[\"number\"] = ___\n",
        "\n",
        "df.head(3)"
      ]
    },
    {
      "cell_type": "markdown",
      "metadata": {
        "id": "Y4yQJ56ujbBE"
      },
      "source": [
        "### From existing\n",
        "\n",
        " - Create new column from existing columns"
      ]
    },
    {
      "cell_type": "code",
      "execution_count": null,
      "metadata": {
        "id": "QoNefwEIjbBE"
      },
      "outputs": [],
      "source": [
        "import numpy as np\n",
        "\n",
        "# calculate height in m (from cm)\n",
        "df['height_m'] = df.height/___\n",
        "\n",
        "# add some random numbers\n",
        "df['weight'] = round(np.random.normal(45, 5, 20) * df['height_m'],2)\n",
        "\n",
        "# calculate body mass index\n",
        "df['bmi'] = round(df.weight / (df.height_m * df.height_m),2)"
      ]
    },
    {
      "cell_type": "markdown",
      "metadata": {
        "id": "dWOnBShYjbBE"
      },
      "source": [
        "### Date"
      ]
    },
    {
      "cell_type": "markdown",
      "metadata": {
        "id": "fskw-pBxjbBE"
      },
      "source": [
        "- To add a date, we can use datetime and [strftime](https://strftime.org):"
      ]
    },
    {
      "cell_type": "code",
      "execution_count": null,
      "metadata": {
        "id": "qglqMUQRjbBE"
      },
      "outputs": [],
      "source": [
        "# add date\n",
        "from datetime import datetime\n",
        "\n",
        "df[\"date\"] = datetime.today().strftime('%Y-%m-%d')\n",
        "\n",
        "df.head(3)"
      ]
    },
    {
      "cell_type": "markdown",
      "metadata": {
        "id": "hcD567FyjbBE"
      },
      "source": [
        "## Summary statistics"
      ]
    },
    {
      "cell_type": "markdown",
      "metadata": {
        "id": "a5g1kTkojbBE"
      },
      "source": [
        "### Numeric data"
      ]
    },
    {
      "cell_type": "markdown",
      "metadata": {
        "id": "2krgq7zYjbBF"
      },
      "source": [
        "- [describe()](https://pandas.pydata.org/docs/reference/api/pandas.DataFrame.describe.html#pandas.DataFrame.describe) shows a quick statistic summary of your numerical data.\n",
        "- We transpose the data (with `.T`) to make it more readable: "
      ]
    },
    {
      "cell_type": "code",
      "execution_count": null,
      "metadata": {
        "id": "gTp051BsjbBF"
      },
      "outputs": [],
      "source": [
        "df.describe().T"
      ]
    },
    {
      "cell_type": "markdown",
      "metadata": {
        "id": "DyPH8jpMjbBF"
      },
      "source": [
        "- Obtain summary statistics for different groups (categorical data)"
      ]
    },
    {
      "cell_type": "code",
      "execution_count": null,
      "metadata": {
        "id": "p0UT74GDjbBF"
      },
      "outputs": [],
      "source": [
        "df.groupby(['___']).describe().T"
      ]
    },
    {
      "cell_type": "markdown",
      "metadata": {
        "id": "AmvT92oXjbBF"
      },
      "source": [
        "### Categorical data"
      ]
    },
    {
      "cell_type": "markdown",
      "metadata": {
        "id": "sfUvggACjbBF"
      },
      "source": [
        "- we can also use `describe()` for categorical data"
      ]
    },
    {
      "cell_type": "code",
      "execution_count": null,
      "metadata": {
        "id": "9Pz0HxhajbBF"
      },
      "outputs": [],
      "source": [
        "df.describe(include=\"category\").T"
      ]
    },
    {
      "cell_type": "markdown",
      "metadata": {
        "id": "lBGU-ujwjbBF"
      },
      "source": [
        "- Show unique levels and count with `value_counts()`"
      ]
    },
    {
      "cell_type": "code",
      "execution_count": null,
      "metadata": {
        "id": "zqMiH0pTjbBF"
      },
      "outputs": [],
      "source": [
        "df['___'].value_counts()"
      ]
    },
    {
      "cell_type": "markdown",
      "metadata": {
        "id": "2TYAuchTjbBF"
      },
      "source": [
        "## Sorting"
      ]
    },
    {
      "cell_type": "markdown",
      "metadata": {
        "id": "w0VXyZi_jbBG"
      },
      "source": [
        "Sorting by values:"
      ]
    },
    {
      "cell_type": "code",
      "execution_count": null,
      "metadata": {
        "id": "gPX0hoD3jbBG"
      },
      "outputs": [],
      "source": [
        "df.sort_values(by=\"___\")"
      ]
    },
    {
      "cell_type": "markdown",
      "metadata": {
        "id": "yDqRwuNOjbBG"
      },
      "source": [
        "## Selection\n",
        "\n",
        "### Getting []\n",
        "\n",
        "Selecting a single column (equivalent to `df.height`):"
      ]
    },
    {
      "cell_type": "code",
      "execution_count": null,
      "metadata": {
        "id": "qAzwkaC6jbBG"
      },
      "outputs": [],
      "source": [
        "df[\"___\"]"
      ]
    },
    {
      "cell_type": "markdown",
      "metadata": {
        "id": "vEYq5wULjbBG"
      },
      "source": [
        "Selecting via [], which slices the rows (endpoint is not included).\n"
      ]
    },
    {
      "cell_type": "code",
      "execution_count": null,
      "metadata": {
        "id": "s-JhnlaTjbBG"
      },
      "outputs": [],
      "source": [
        "df[___:___]"
      ]
    },
    {
      "cell_type": "markdown",
      "metadata": {
        "id": "aG0Jo0R4jbBG"
      },
      "source": [
        "### By label .loc\n",
        "\n",
        "The `.loc` attribute is the primary access method. The following are valid inputs:\n",
        "\n",
        "For getting a cross section using a label:"
      ]
    },
    {
      "cell_type": "code",
      "execution_count": null,
      "metadata": {
        "id": "_AaAmxeejbBG"
      },
      "outputs": [],
      "source": [
        "df.loc[[___]]"
      ]
    },
    {
      "cell_type": "markdown",
      "metadata": {
        "id": "hy5WZoOFjbBG"
      },
      "source": [
        "Selecting on a multi-axis by label:"
      ]
    },
    {
      "cell_type": "code",
      "execution_count": null,
      "metadata": {
        "id": "XxLfUg6GjbBG"
      },
      "outputs": [],
      "source": [
        "df.loc[ : , [\"___\", \"___\"]]"
      ]
    },
    {
      "cell_type": "markdown",
      "metadata": {
        "id": "tHEaa5z4jbBH"
      },
      "source": [
        "Showing label slicing, both endpoints are included:"
      ]
    },
    {
      "cell_type": "code",
      "execution_count": null,
      "metadata": {
        "id": "t52PoGmojbBH"
      },
      "outputs": [],
      "source": [
        "df.loc[___:___, [\"___\", \"___\"]]"
      ]
    },
    {
      "cell_type": "markdown",
      "metadata": {
        "id": "EEt6Xdl4jbBH"
      },
      "source": [
        "Reduction in the dimensions of the returned object:"
      ]
    },
    {
      "cell_type": "code",
      "execution_count": null,
      "metadata": {
        "id": "w9H1SZVZjbBH"
      },
      "outputs": [],
      "source": [
        "df.loc[0, [\"name\", \"height\"]]"
      ]
    },
    {
      "cell_type": "markdown",
      "metadata": {
        "id": "_R3ZfwaBjbBH"
      },
      "source": [
        "For getting a scalar value:"
      ]
    },
    {
      "cell_type": "code",
      "execution_count": null,
      "metadata": {
        "id": "ddUxdsnvjbBH"
      },
      "outputs": [],
      "source": [
        "df.loc[[0], \"height\"]"
      ]
    },
    {
      "cell_type": "markdown",
      "metadata": {
        "id": "oJUPxMU8jbBH"
      },
      "source": [
        "### By position .iloc\n",
        "\n",
        "pandas provides a suite of methods in order to get purely integer based indexing. Here, the .iloc attribute is the primary access method. "
      ]
    },
    {
      "cell_type": "code",
      "execution_count": null,
      "metadata": {
        "id": "w3-xPGDyjbBH"
      },
      "outputs": [],
      "source": [
        "df.iloc[0]"
      ]
    },
    {
      "cell_type": "markdown",
      "metadata": {
        "id": "f1XvLTAFjbBH"
      },
      "source": [
        "By integer slices:"
      ]
    },
    {
      "cell_type": "code",
      "execution_count": null,
      "metadata": {
        "id": "pXvNUj_zjbBH"
      },
      "outputs": [],
      "source": [
        "df.iloc[0:2, 0:2]"
      ]
    },
    {
      "cell_type": "markdown",
      "metadata": {
        "id": "4YwFdTFujbBH"
      },
      "source": [
        "By lists of integer position locations:"
      ]
    },
    {
      "cell_type": "code",
      "execution_count": null,
      "metadata": {
        "id": "z9ZtLTUWjbBI"
      },
      "outputs": [],
      "source": [
        "df.iloc[[0, 2], [0, 2]]"
      ]
    },
    {
      "cell_type": "markdown",
      "metadata": {
        "id": "GhH4y_iHjbBI"
      },
      "source": [
        "For slicing rows explicitly:"
      ]
    },
    {
      "cell_type": "code",
      "execution_count": null,
      "metadata": {
        "id": "Bg7Rw8KrjbBI"
      },
      "outputs": [],
      "source": [
        "df.iloc[1:3, :]"
      ]
    },
    {
      "cell_type": "markdown",
      "metadata": {
        "id": "PvlkP8gtjbBI"
      },
      "source": [
        "For slicing columns explicitly:"
      ]
    },
    {
      "cell_type": "code",
      "execution_count": null,
      "metadata": {
        "id": "5SUhLcknjbBI"
      },
      "outputs": [],
      "source": [
        "df.iloc[:, 1:3]"
      ]
    },
    {
      "cell_type": "markdown",
      "metadata": {
        "id": "1F5MilDljbBI"
      },
      "source": [
        "For getting a value explicitly:"
      ]
    },
    {
      "cell_type": "code",
      "execution_count": null,
      "metadata": {
        "id": "O6WKrJCpjbBI"
      },
      "outputs": [],
      "source": [
        "df.iloc[0, 0]"
      ]
    },
    {
      "cell_type": "markdown",
      "metadata": {
        "id": "hrKYqEIdjbBI"
      },
      "source": [
        "## Filter (boolean indexing)\n",
        "\n",
        "Using a single column’s values to select data."
      ]
    },
    {
      "cell_type": "code",
      "execution_count": null,
      "metadata": {
        "id": "2Il2UMZ9jbBI"
      },
      "outputs": [],
      "source": [
        "df[df[\"height\"] > ___]"
      ]
    },
    {
      "cell_type": "markdown",
      "metadata": {
        "id": "YNPKTiwDjbBI"
      },
      "source": [
        "Using the [isin()](https://pandas.pydata.org/docs/reference/api/pandas.Series.isin.html#pandas.Series.isin) method for filtering:"
      ]
    },
    {
      "cell_type": "code",
      "execution_count": null,
      "metadata": {
        "id": "Xf_mMGINjbBI"
      },
      "outputs": [],
      "source": [
        "df[df[\"name\"].isin([\"Tom\", \"Lisa\"])]"
      ]
    },
    {
      "cell_type": "markdown",
      "metadata": {
        "id": "tmFDoPerjbBJ"
      },
      "source": [
        "## Grouping\n",
        "\n",
        "By “group by” we are referring to a process involving one or more of the following steps:\n",
        "\n",
        "- **Splitting** the data into groups based on some criteria\n",
        "\n",
        "- **Applying** a function to each group independently\n",
        "\n",
        "- **Combining** the results into a data structure"
      ]
    },
    {
      "cell_type": "markdown",
      "metadata": {
        "id": "hqN06eNNjbBJ"
      },
      "source": [
        "Grouping and then applying the mean() function to the resulting groups."
      ]
    },
    {
      "cell_type": "code",
      "execution_count": null,
      "metadata": {
        "id": "Dw7DUkkAjbBJ"
      },
      "outputs": [],
      "source": [
        "df.groupby(\"___\").mean().T"
      ]
    },
    {
      "cell_type": "markdown",
      "metadata": {
        "id": "-ZmxnDC1jbBJ"
      },
      "source": [
        "## Segment data into bins"
      ]
    },
    {
      "cell_type": "markdown",
      "metadata": {
        "id": "syiQ0jmdjbBJ"
      },
      "source": [
        "Use the function [cut](https://pandas.pydata.org/docs/reference/api/pandas.cut.html) when you need to segment and sort data values into bins. This function is also useful for going from a continuous variable to a categorical variable. \n",
        "\n",
        "In our example, we create a body mass index category. The standard weight status categories associated with BMI ranges for adults are shown in the following table:\n",
        "\n",
        "BMI\t| Weight Status\n",
        "---| ---\n",
        "Below 18.5 |\tUnderweight\n",
        "18.5 - 24.9 |\tNormal or Healthy Weight\n",
        "25.0 - 29.9 |\tOverweight\n",
        "30.0 and Above |\tObese\n",
        "\n",
        "Source: [U.S. Department of Health & Human Services](https://www.cdc.gov/healthyweight/assessing/bmi/adult_bmi/index.html)\n",
        "\n",
        "In our function, we discretize the variable `bmi` into four bins according to the table above:\n",
        "\n",
        "- The bins [0, 18.5, 25, 30, float('inf')] indicate (0,18.5], (18.5,25], (25,30], (30, float('inf))\n",
        "- `float('inf')` is used for setting  variable with an infinitely large value"
      ]
    },
    {
      "cell_type": "code",
      "execution_count": null,
      "metadata": {
        "id": "m0Q1A3PcjbBJ"
      },
      "outputs": [],
      "source": [
        "df['bmi_category'] = pd.cut(df['bmi'], \n",
        "                            bins=[0, 18.5, 25, 30, float('inf')], \n",
        "                            labels=['underweight', 'normal', 'overweight', \"obese\"])"
      ]
    },
    {
      "cell_type": "code",
      "execution_count": null,
      "metadata": {
        "id": "37gn9RRZjbBJ"
      },
      "outputs": [],
      "source": [
        "df['bmi_category']"
      ]
    }
  ],
  "metadata": {
    "interpreter": {
      "hash": "463226f144cc21b006ce6927bfc93dd00694e52c8bc6857abb6e555b983749e9"
    },
    "kernelspec": {
      "display_name": "Python 3.8.2 64-bit ('base': conda)",
      "name": "python3"
    },
    "language_info": {
      "codemirror_mode": {
        "name": "ipython",
        "version": 3
      },
      "file_extension": ".py",
      "mimetype": "text/x-python",
      "name": "python",
      "nbconvert_exporter": "python",
      "pygments_lexer": "ipython3",
      "version": "3.9.12"
    },
    "orig_nbformat": 4,
    "colab": {
      "provenance": []
    }
  },
  "nbformat": 4,
  "nbformat_minor": 0
}